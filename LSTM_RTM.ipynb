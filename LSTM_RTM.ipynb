{
 "cells": [
  {
   "cell_type": "code",
   "execution_count": 24,
   "metadata": {},
   "outputs": [],
   "source": [
    "import pandas as pd\n",
    "import numpy as np\n",
    "from keras.models import Sequential\n",
    "from keras.layers import Dense, Embedding, LSTM\n",
    "from sklearn.model_selection import train_test_split\n",
    "from matplotlib import pyplot\n",
    "import keras\n",
    "from keras.models import Sequential\n",
    "from keras.layers import Dense\n",
    "from keras.layers import LSTM\n",
    "from keras.layers import Dropout\n",
    "from keras.layers import *\n",
    "from sklearn.preprocessing import MinMaxScaler\n",
    "from sklearn.metrics import mean_squared_error\n",
    "from sklearn.metrics import mean_absolute_error\n",
    "from keras.callbacks import EarlyStopping\n",
    "\n",
    "import matplotlib.pyplot as plt\n",
    "import warnings\n",
    "warnings.simplefilter(action = 'ignore', category = FutureWarning)\n",
    "from keras.optimizers import RMSprop\n",
    "from keras.callbacks import ModelCheckpoint, EarlyStopping\n",
    "from keras.models import model_from_json\n"
   ]
  },
  {
   "cell_type": "code",
   "execution_count": 25,
   "metadata": {},
   "outputs": [],
   "source": [
    "\n",
    "\n",
    "def add_hours_dam(df, start_hour, interval=48):\n",
    "    for i in range(start_hour, start_hour+interval):\n",
    "        start = str(i)\n",
    "        df[\"DAM LMP_PRC_\"+start+\"_hours_ago\"] = 0.0\n",
    "    for i in range(len(df)-1, interval-1, -1):\n",
    "        for j in range(start_hour, start_hour+interval):\n",
    "            start = str(j)\n",
    "            v = df['DAM LMP_PRC'].iloc[i-j,] \n",
    "            df.at[i, \"DAM LMP_PRC_\"+start+\"_hours_ago\"] =  v\n",
    "    return df\n",
    "\n",
    "\n",
    "def add_hours_rtm(df, start_hour, interval=48):\n",
    "    for rtm in range(1, 13):\n",
    "        for i in range(start_hour, start_hour+interval):\n",
    "            start = str(i)\n",
    "            df[\"RTM_\"+str(rtm) +\"_LMP_PRC_\"+start+\"_hours_ago\"] = 0.0\n",
    "        for i in range(len(df)-1, interval-1, -1):\n",
    "            for j in range(start_hour, start_hour+interval):\n",
    "                start = str(j)\n",
    "                v = df[('RTM LMP_PRC', rtm)].iloc[i-j,] \n",
    "                df.at[i, \"RTM_\"+str(rtm) +\"_LMP_PRC_\"+start+\"_hours_ago\"] =  v\n",
    "    return df\n",
    "\n",
    "def add_hours_gap(df, start_hour, interval=48):\n",
    "    for i in range(start_hour, start_hour+interval):\n",
    "        start = str(i)\n",
    "        df[\"GAP LMP_PRC_\"+start+\"_hours_ago\"] = 0.0\n",
    "    for i in range(len(df)-1, interval-1, -1):\n",
    "        for j in range(start_hour, start_hour+interval):\n",
    "            start = str(j)\n",
    "            v = df['Gap'].iloc[i-j,] \n",
    "            df.at[i, \"GAP LMP_PRC_\"+start+\"_hours_ago\"] =  v\n",
    "    return df"
   ]
  },
  {
   "cell_type": "code",
   "execution_count": 26,
   "metadata": {},
   "outputs": [],
   "source": [
    "from sklearn.metrics import mean_absolute_error\n",
    "\n",
    "def MAE(true, predicted):\n",
    "    return mean_absolute_error(true, predicted)\n",
    "\n",
    "def r_MAE(true, predicted):\n",
    "    return mean_absolute_error(true, predicted)/np.mean(true)\n",
    "\n",
    "def MSE(true, predicted):\n",
    "    squared_diff = np.square(true - predicted)\n",
    "    return np.mean(squared_diff)\n",
    "\n",
    "# Root Mean Square Error\n",
    "def RMSE(true, predicted):\n",
    "    squared_diff = np.square(true - predicted)    \n",
    "    return np.sqrt(np.mean(squared_diff))\n",
    "\n",
    "# R-squared, coefficient of determination\n",
    "def R_squared(true, predicted):\n",
    "    true      = np.array(true)\n",
    "    predicted = np.array(predicted)\n",
    "    sum_squared_diff = sum(np.square(true - predicted))\n",
    "    variance  = sum(np.square(true - np.mean(true)))\n",
    "    calc_r2   = 1 - (sum_squared_diff / variance)\n",
    "    return calc_r2\n",
    "\n",
    "def r_MSE(true, predicted):\n",
    "    mse = MSE(true, predicted)\n",
    "    return mse/np.mean(true)\n",
    "\n",
    "def r_RMSE(true, predicted):\n",
    "    rmse = RMSE(true, predicted)\n",
    "    return rmse/np.mean(true)\n",
    "\n",
    "\n",
    "def MAPE(true, predicted): \n",
    "    return np.mean(np.abs((true - predicted) / true)) * 100"
   ]
  },
  {
   "cell_type": "code",
   "execution_count": 27,
   "metadata": {},
   "outputs": [],
   "source": [
    "def Evaluate_Scaled(Y_true, predictions):\n",
    "    print('rMAE '+str(r_MAE(Y_true, predictions)*100) +'%')\n",
    "    print('rRMSE '+str(r_RMSE(Y_true, predictions)*100)+'%')\n",
    "    print('MAPE '+str(MAPE(Y_true, predictions))+'%')\n",
    "\n",
    "def Evaluate(Y_true, predictions):\n",
    "    print('MAE '+str(MAE(Y_true, predictions)))\n",
    "    print('RMSE '+str(RMSE(Y_true, predictions)))"
   ]
  },
  {
   "cell_type": "code",
   "execution_count": 28,
   "metadata": {},
   "outputs": [],
   "source": [
    "df = pd.read_pickle('df.pkl')\n",
    "df = df.reset_index(drop=True)\n",
    "Y_cols = [('RTM LMP_PRC', 1)] \n",
    "X_cols = [col for col in list(df) if col not in Y_cols+[\n",
    "('HASP LMP_CONG_PRC', 1),\n",
    "('HASP LMP_CONG_PRC', 2),\n",
    "('HASP LMP_CONG_PRC', 3),\n",
    "('HASP LMP_CONG_PRC', 4),\n",
    "('HASP LMP_ENE_PRC', 1),\n",
    "('HASP LMP_ENE_PRC', 2),\n",
    "('HASP LMP_ENE_PRC', 3),\n",
    "('HASP LMP_ENE_PRC', 4),\n",
    "('HASP LMP_GHG_PRC', 1),\n",
    "('HASP LMP_LOSS_PRC', 1),\n",
    "('HASP LMP_LOSS_PRC', 2),\n",
    "('HASP LMP_LOSS_PRC', 3),\n",
    "('HASP LMP_LOSS_PRC', 4),\n",
    "('HASP LMP_PRC', 1),\n",
    "('HASP LMP_PRC', 2),\n",
    "('HASP LMP_PRC', 3),\n",
    "('HASP LMP_PRC', 4),\n",
    "('RTM LMP_CONG_PRC', 1),\n",
    "('RTM LMP_CONG_PRC', 2),\n",
    "('RTM LMP_CONG_PRC', 3),\n",
    "('RTM LMP_CONG_PRC', 4),\n",
    "('RTM LMP_CONG_PRC', 5),\n",
    "('RTM LMP_CONG_PRC', 6),\n",
    "('RTM LMP_CONG_PRC', 7),\n",
    "('RTM LMP_CONG_PRC', 8),\n",
    "('RTM LMP_CONG_PRC', 9),\n",
    "('RTM LMP_CONG_PRC', 10),\n",
    "('RTM LMP_CONG_PRC', 11),\n",
    "('RTM LMP_CONG_PRC', 12),\n",
    "('RTM LMP_ENE_PRC', 1),\n",
    "('RTM LMP_ENE_PRC', 2),\n",
    "('RTM LMP_ENE_PRC', 3),\n",
    "('RTM LMP_ENE_PRC', 4),\n",
    "('RTM LMP_ENE_PRC', 5),\n",
    "('RTM LMP_ENE_PRC', 6),\n",
    "('RTM LMP_ENE_PRC', 7),\n",
    "('RTM LMP_ENE_PRC', 8),\n",
    "('RTM LMP_ENE_PRC', 9),\n",
    "('RTM LMP_ENE_PRC', 10),\n",
    "('RTM LMP_ENE_PRC', 11),\n",
    "('RTM LMP_ENE_PRC', 12),\n",
    "('RTM LMP_GHG_PRC', 1),\n",
    "('RTM LMP_GHG_PRC', 7),\n",
    "('RTM LMP_LOSS_PRC', 1),\n",
    "('RTM LMP_LOSS_PRC', 2),\n",
    "('RTM LMP_LOSS_PRC', 3),\n",
    "('RTM LMP_LOSS_PRC', 4),\n",
    "('RTM LMP_LOSS_PRC', 5),\n",
    "('RTM LMP_LOSS_PRC', 6),\n",
    "('RTM LMP_LOSS_PRC', 7),\n",
    "('RTM LMP_LOSS_PRC', 8),\n",
    "('RTM LMP_LOSS_PRC', 9),\n",
    "('RTM LMP_LOSS_PRC', 10),\n",
    "('RTM LMP_LOSS_PRC', 11),\n",
    "('RTM LMP_LOSS_PRC', 12),\n",
    "('RTM LMP_PRC', 1),\n",
    "('RTM LMP_PRC', 2),\n",
    "('RTM LMP_PRC', 3),\n",
    "('RTM LMP_PRC', 4),\n",
    "('RTM LMP_PRC', 5),\n",
    "('RTM LMP_PRC', 6),\n",
    "('RTM LMP_PRC', 7),\n",
    "('RTM LMP_PRC', 8),\n",
    "('RTM LMP_PRC', 9),\n",
    "('RTM LMP_PRC', 10),\n",
    "('RTM LMP_PRC', 11),\n",
    "('RTM LMP_PRC', 12),\n",
    "'DAM LMP_CONG_PRC',\n",
    "'DAM LMP_GHG_PRC',\n",
    "('HASP LMP_CONG_PRC', 1),\n",
    "('HASP LMP_CONG_PRC', 2),\n",
    "('HASP LMP_CONG_PRC', 3),\n",
    "('HASP LMP_CONG_PRC', 4),\n",
    "('HASP LMP_ENE_PRC', 1),\n",
    "('HASP LMP_ENE_PRC', 2),\n",
    "('HASP LMP_ENE_PRC', 3),\n",
    "('HASP LMP_ENE_PRC', 4),\n",
    "('HASP LMP_GHG_PRC', 1),\n",
    "('HASP LMP_LOSS_PRC', 1),\n",
    "('HASP LMP_LOSS_PRC', 2),\n",
    "('HASP LMP_LOSS_PRC', 3),\n",
    "('HASP LMP_LOSS_PRC', 4),\n",
    "('HASP LMP_PRC', 1),\n",
    "('HASP LMP_PRC', 2),\n",
    "('HASP LMP_PRC', 3),\n",
    "('HASP LMP_PRC', 4),\n",
    "('RTM LMP_CONG_PRC', 1),\n",
    "('RTM LMP_CONG_PRC', 2),\n",
    "('RTM LMP_CONG_PRC', 3),\n",
    "('RTM LMP_CONG_PRC', 4),\n",
    "('RTM LMP_CONG_PRC', 5),\n",
    "('RTM LMP_CONG_PRC', 6),\n",
    "('RTM LMP_CONG_PRC', 7),\n",
    "('RTM LMP_CONG_PRC', 8),\n",
    "('RTM LMP_CONG_PRC', 9),\n",
    "('RTM LMP_CONG_PRC', 10),\n",
    "('RTM LMP_CONG_PRC', 11),\n",
    "('RTM LMP_CONG_PRC', 12),\n",
    "('RTM LMP_GHG_PRC', 1),\n",
    "('RTM LMP_GHG_PRC', 7),\n",
    "'DAM LMP_ENE_PRC',\n",
    "'DAM LMP_LOSS_PRC',\n",
    "'Actual_Demand',\n",
    "('RTM LMP_PRC', 1),\n",
    "'DAM LMP_PRC',]]\n",
    "          \n",
    "Y = df[Y_cols]\n",
    "X = df[X_cols]\n",
    "X_train, X_test, Y_train, Y_test = train_test_split(X, Y, test_size=0.10615, shuffle=False, random_state=42)\n",
    "\n",
    "ss1 = MinMaxScaler(feature_range=(0, 1))\n",
    "X_train = ss1.fit_transform(X_train)\n",
    "X_test = ss1.transform(X_test)\n",
    "ss2 = MinMaxScaler(feature_range=(0, 1))\n",
    "Y_train = ss2.fit_transform(Y_train)\n",
    "Y_test = ss2.transform(Y_test)"
   ]
  },
  {
   "cell_type": "code",
   "execution_count": 80,
   "metadata": {},
   "outputs": [],
   "source": [
    "lookback_length = 150   \n",
    "batch_size = 1"
   ]
  },
  {
   "cell_type": "code",
   "execution_count": 81,
   "metadata": {},
   "outputs": [],
   "source": [
    "from keras.preprocessing.sequence import TimeseriesGenerator\n",
    "train_sequences  = TimeseriesGenerator(X_train,\n",
    "                                       Y_train,\n",
    "                                       length=lookback_length,\n",
    "                                       batch_size=batch_size)\n",
    "test_sequences = TimeseriesGenerator(X_test,\n",
    "                                     Y_test,\n",
    "                                     length=lookback_length,\n",
    "                                     batch_size=batch_size)"
   ]
  },
  {
   "cell_type": "code",
   "execution_count": null,
   "metadata": {},
   "outputs": [],
   "source": [
    "model = Sequential()\n",
    "\n",
    "model.add(LSTM(units=100, input_shape=(lookback_length, 60)))\n",
    "model.add(Dropout(0.2))\n",
    "model.add(Dense(units=1))\n",
    "model.compile(optimizer='adam',loss='mean_squared_error')\n",
    "model.fit_generator(train_sequences, validation_data=test_sequences, epochs=3, verbose=1)"
   ]
  },
  {
   "cell_type": "code",
   "execution_count": 76,
   "metadata": {},
   "outputs": [
    {
     "data": {
      "text/plain": [
       "60"
      ]
     },
     "execution_count": 76,
     "metadata": {},
     "output_type": "execute_result"
    }
   ],
   "source": []
  },
  {
   "cell_type": "code",
   "execution_count": 67,
   "metadata": {},
   "outputs": [],
   "source": [
    "scaled_predictions = model.predict_generator(test_sequences)"
   ]
  },
  {
   "cell_type": "code",
   "execution_count": 68,
   "metadata": {},
   "outputs": [
    {
     "name": "stdout",
     "output_type": "stream",
     "text": [
      "rMAE 9.859818089757534%\n",
      "rRMSE 20.908574240841386%\n",
      "MAPE 8.88368342477697%\n"
     ]
    }
   ],
   "source": [
    "Evaluate_Scaled(Y_test[:-lookback_length], scaled_predictions)"
   ]
  },
  {
   "cell_type": "code",
   "execution_count": 63,
   "metadata": {},
   "outputs": [],
   "source": [
    "predictions = ss2.inverse_transform(scaled_predictions.reshape(-1, 1))"
   ]
  },
  {
   "cell_type": "code",
   "execution_count": 64,
   "metadata": {},
   "outputs": [],
   "source": [
    "Y_true = []\n",
    "temp = ss2.inverse_transform(Y_test)\n",
    "for item in temp:\n",
    "    Y_true.append(item[0])"
   ]
  },
  {
   "cell_type": "code",
   "execution_count": 65,
   "metadata": {},
   "outputs": [
    {
     "name": "stdout",
     "output_type": "stream",
     "text": [
      "MAE 30.485223677201546\n",
      "RMSE 66.46030292787826\n"
     ]
    }
   ],
   "source": [
    "Evaluate(Y_true[:-lookback_length], predictions)"
   ]
  },
  {
   "cell_type": "code",
   "execution_count": 66,
   "metadata": {},
   "outputs": [
    {
     "data": {
      "image/png": "[encoded data removed]",
      "text/plain": [
       "<Figure size 1080x576 with 1 Axes>"
      ]
     },
     "metadata": {
      "needs_background": "light"
     },
     "output_type": "display_data"
    }
   ],
   "source": [
    "\n",
    "plt.figure(figsize=(15,8))\n",
    "\n",
    "plt.plot(Y_true,\n",
    "         label='test y-true',\n",
    "         alpha = 0.8,\n",
    "         color='grey')\n",
    "plt.plot(predictions,\n",
    "         label='test predictions',\n",
    "         alpha = 0.5,\n",
    "         color='goldenrod')\n",
    "plt.legend()\n",
    "plt.xlim(0, 600)\n",
    "plt.title('LSTM RTM Test: preds vs true', fontsize=18)\n",
    "# plt.savefig('../images/dam_RNN_12_test_pred_vs_true_zoomed.jpg', bbox_inches='tight')\n",
    "plt.show();"
   ]
  },
  {
   "cell_type": "code",
   "execution_count": null,
   "metadata": {},
   "outputs": [],
   "source": []
  }
 ],
 "metadata": {
  "kernelspec": {
   "display_name": "Python 3",
   "language": "python",
   "name": "python3"
  },
  "language_info": {
   "codemirror_mode": {
    "name": "ipython",
    "version": 3
   },
   "file_extension": ".py",
   "mimetype": "text/x-python",
   "name": "python",
   "nbconvert_exporter": "python",
   "pygments_lexer": "ipython3",
   "version": "3.7.6"
  }
 },
 "nbformat": 4,
 "nbformat_minor": 4
}
