{
 "cells": [
  {
   "cell_type": "code",
   "execution_count": 1,
   "metadata": {},
   "outputs": [
    {
     "name": "stderr",
     "output_type": "stream",
     "text": [
      "Using TensorFlow backend.\n",
      "C:\\Users\\Arashfs\\Anaconda3\\envs\\gap-price-prediction\\lib\\site-packages\\tensorflow\\python\\framework\\dtypes.py:516: FutureWarning: Passing (type, 1) or '1type' as a synonym of type is deprecated; in a future version of numpy, it will be understood as (type, (1,)) / '(1,)type'.\n",
      "  _np_qint8 = np.dtype([(\"qint8\", np.int8, 1)])\n",
      "C:\\Users\\Arashfs\\Anaconda3\\envs\\gap-price-prediction\\lib\\site-packages\\tensorflow\\python\\framework\\dtypes.py:517: FutureWarning: Passing (type, 1) or '1type' as a synonym of type is deprecated; in a future version of numpy, it will be understood as (type, (1,)) / '(1,)type'.\n",
      "  _np_quint8 = np.dtype([(\"quint8\", np.uint8, 1)])\n",
      "C:\\Users\\Arashfs\\Anaconda3\\envs\\gap-price-prediction\\lib\\site-packages\\tensorflow\\python\\framework\\dtypes.py:518: FutureWarning: Passing (type, 1) or '1type' as a synonym of type is deprecated; in a future version of numpy, it will be understood as (type, (1,)) / '(1,)type'.\n",
      "  _np_qint16 = np.dtype([(\"qint16\", np.int16, 1)])\n",
      "C:\\Users\\Arashfs\\Anaconda3\\envs\\gap-price-prediction\\lib\\site-packages\\tensorflow\\python\\framework\\dtypes.py:519: FutureWarning: Passing (type, 1) or '1type' as a synonym of type is deprecated; in a future version of numpy, it will be understood as (type, (1,)) / '(1,)type'.\n",
      "  _np_quint16 = np.dtype([(\"quint16\", np.uint16, 1)])\n",
      "C:\\Users\\Arashfs\\Anaconda3\\envs\\gap-price-prediction\\lib\\site-packages\\tensorflow\\python\\framework\\dtypes.py:520: FutureWarning: Passing (type, 1) or '1type' as a synonym of type is deprecated; in a future version of numpy, it will be understood as (type, (1,)) / '(1,)type'.\n",
      "  _np_qint32 = np.dtype([(\"qint32\", np.int32, 1)])\n",
      "C:\\Users\\Arashfs\\Anaconda3\\envs\\gap-price-prediction\\lib\\site-packages\\tensorflow\\python\\framework\\dtypes.py:525: FutureWarning: Passing (type, 1) or '1type' as a synonym of type is deprecated; in a future version of numpy, it will be understood as (type, (1,)) / '(1,)type'.\n",
      "  np_resource = np.dtype([(\"resource\", np.ubyte, 1)])\n",
      "C:\\Users\\Arashfs\\Anaconda3\\envs\\gap-price-prediction\\lib\\site-packages\\tensorboard\\compat\\tensorflow_stub\\dtypes.py:541: FutureWarning: Passing (type, 1) or '1type' as a synonym of type is deprecated; in a future version of numpy, it will be understood as (type, (1,)) / '(1,)type'.\n",
      "  _np_qint8 = np.dtype([(\"qint8\", np.int8, 1)])\n",
      "C:\\Users\\Arashfs\\Anaconda3\\envs\\gap-price-prediction\\lib\\site-packages\\tensorboard\\compat\\tensorflow_stub\\dtypes.py:542: FutureWarning: Passing (type, 1) or '1type' as a synonym of type is deprecated; in a future version of numpy, it will be understood as (type, (1,)) / '(1,)type'.\n",
      "  _np_quint8 = np.dtype([(\"quint8\", np.uint8, 1)])\n",
      "C:\\Users\\Arashfs\\Anaconda3\\envs\\gap-price-prediction\\lib\\site-packages\\tensorboard\\compat\\tensorflow_stub\\dtypes.py:543: FutureWarning: Passing (type, 1) or '1type' as a synonym of type is deprecated; in a future version of numpy, it will be understood as (type, (1,)) / '(1,)type'.\n",
      "  _np_qint16 = np.dtype([(\"qint16\", np.int16, 1)])\n",
      "C:\\Users\\Arashfs\\Anaconda3\\envs\\gap-price-prediction\\lib\\site-packages\\tensorboard\\compat\\tensorflow_stub\\dtypes.py:544: FutureWarning: Passing (type, 1) or '1type' as a synonym of type is deprecated; in a future version of numpy, it will be understood as (type, (1,)) / '(1,)type'.\n",
      "  _np_quint16 = np.dtype([(\"quint16\", np.uint16, 1)])\n",
      "C:\\Users\\Arashfs\\Anaconda3\\envs\\gap-price-prediction\\lib\\site-packages\\tensorboard\\compat\\tensorflow_stub\\dtypes.py:545: FutureWarning: Passing (type, 1) or '1type' as a synonym of type is deprecated; in a future version of numpy, it will be understood as (type, (1,)) / '(1,)type'.\n",
      "  _np_qint32 = np.dtype([(\"qint32\", np.int32, 1)])\n",
      "C:\\Users\\Arashfs\\Anaconda3\\envs\\gap-price-prediction\\lib\\site-packages\\tensorboard\\compat\\tensorflow_stub\\dtypes.py:550: FutureWarning: Passing (type, 1) or '1type' as a synonym of type is deprecated; in a future version of numpy, it will be understood as (type, (1,)) / '(1,)type'.\n",
      "  np_resource = np.dtype([(\"resource\", np.ubyte, 1)])\n"
     ]
    }
   ],
   "source": [
    "import pandas as pd\n",
    "import numpy as np\n",
    "from keras.models import Sequential\n",
    "from keras.layers import Dense, Embedding, LSTM\n",
    "from sklearn.model_selection import train_test_split\n",
    "from matplotlib import pyplot\n",
    "import keras\n",
    "from keras.models import Sequential\n",
    "from keras.layers import Dense\n",
    "from keras.layers import LSTM\n",
    "from keras.layers import Dropout\n",
    "from keras.layers import *\n",
    "from sklearn.preprocessing import MinMaxScaler\n",
    "from sklearn.metrics import mean_squared_error\n",
    "from sklearn.metrics import mean_absolute_error\n",
    "from keras.callbacks import EarlyStopping\n",
    "\n",
    "import matplotlib.pyplot as plt\n",
    "import warnings\n",
    "warnings.simplefilter(action = 'ignore', category = FutureWarning)\n",
    "from keras.optimizers import RMSprop\n",
    "from keras.callbacks import ModelCheckpoint, EarlyStopping\n",
    "from keras.models import model_from_json\n"
   ]
  },
  {
   "cell_type": "code",
   "execution_count": 2,
   "metadata": {},
   "outputs": [],
   "source": [
    "\n",
    "\n",
    "def add_hours_dam(df, start_hour, interval=48):\n",
    "    for i in range(start_hour, start_hour+interval):\n",
    "        start = str(i)\n",
    "        df[\"DAM LMP_PRC_\"+start+\"_hours_ago\"] = 0.0\n",
    "    for i in range(len(df)-1, interval-1, -1):\n",
    "        for j in range(start_hour, start_hour+interval):\n",
    "            start = str(j)\n",
    "            v = df['DAM LMP_PRC'].iloc[i-j,] \n",
    "            df.at[i, \"DAM LMP_PRC_\"+start+\"_hours_ago\"] =  v\n",
    "    return df\n",
    "\n",
    "\n",
    "def add_hours_rtm(df, start_hour, interval=48):\n",
    "    for rtm in range(1, 13):\n",
    "        for i in range(start_hour, start_hour+interval):\n",
    "            start = str(i)\n",
    "            df[\"RTM_\"+str(rtm) +\"_LMP_PRC_\"+start+\"_hours_ago\"] = 0.0\n",
    "        for i in range(len(df)-1, interval-1, -1):\n",
    "            for j in range(start_hour, start_hour+interval):\n",
    "                start = str(j)\n",
    "                v = df[('RTM LMP_PRC', rtm)].iloc[i-j,] \n",
    "                df.at[i, \"RTM_\"+str(rtm) +\"_LMP_PRC_\"+start+\"_hours_ago\"] =  v\n",
    "    return df\n",
    "\n",
    "def add_hours_gap(df, start_hour, interval=48):\n",
    "    for i in range(start_hour, start_hour+interval):\n",
    "        start = str(i)\n",
    "        df[\"GAP LMP_PRC_\"+start+\"_hours_ago\"] = 0.0\n",
    "    for i in range(len(df)-1, interval-1, -1):\n",
    "        for j in range(start_hour, start_hour+interval):\n",
    "            start = str(j)\n",
    "            v = df['Gap'].iloc[i-j,] \n",
    "            df.at[i, \"GAP LMP_PRC_\"+start+\"_hours_ago\"] =  v\n",
    "    return df"
   ]
  },
  {
   "cell_type": "code",
   "execution_count": 3,
   "metadata": {},
   "outputs": [],
   "source": [
    "from sklearn.metrics import mean_absolute_error\n",
    "\n",
    "def MAE(true, predicted):\n",
    "    return mean_absolute_error(true, predicted)\n",
    "\n",
    "def r_MAE(true, predicted):\n",
    "    return mean_absolute_error(true, predicted)/abs(np.mean(true))\n",
    "\n",
    "def MSE(true, predicted):\n",
    "    squared_diff = np.square(true - predicted)\n",
    "    return np.mean(squared_diff)\n",
    "\n",
    "# Root Mean Square Error\n",
    "def RMSE(true, predicted):\n",
    "    squared_diff = np.square(true - predicted)    \n",
    "    return np.sqrt(np.mean(squared_diff))\n",
    "\n",
    "# R-squared, coefficient of determination\n",
    "def R_squared(true, predicted):\n",
    "    true      = np.array(true)\n",
    "    predicted = np.array(predicted)\n",
    "    sum_squared_diff = sum(np.square(true - predicted))\n",
    "    variance  = sum(np.square(true - np.mean(true)))\n",
    "    calc_r2   = 1 - (sum_squared_diff / variance)\n",
    "    return calc_r2\n",
    "\n",
    "def r_MSE(true, predicted):\n",
    "    mse = MSE(true, predicted)\n",
    "    return mse/np.mean(true)\n",
    "\n",
    "def r_RMSE(true, predicted):\n",
    "    rmse = RMSE(true, predicted)\n",
    "    avg = 0\n",
    "    for item in true:\n",
    "        avg += abs(item)\n",
    "    avg /= len(true)\n",
    "    return rmse/avg\n",
    "\n",
    "\n",
    "def MAPE(true, predicted): \n",
    "    return np.mean(np.abs((true - predicted) / true)) * 100"
   ]
  },
  {
   "cell_type": "code",
   "execution_count": 4,
   "metadata": {},
   "outputs": [],
   "source": [
    "def Evaluate(Y_true, predictions):\n",
    "    print('MAE '+str(MAE(Y_true, predictions)))\n",
    "    print('RMSE '+str(RMSE(Y_true, predictions)))\n",
    "    print('rMAE '+str(r_MAE(Y_true, predictions)*100) +'%')\n",
    "    print('rRMSE '+str(r_RMSE(Y_true, predictions)*100)+'%')\n",
    "    print('MAPE '+str(MAPE(Y_true, predictions))+'%')\n",
    "\n"
   ]
  },
  {
   "cell_type": "code",
   "execution_count": 5,
   "metadata": {},
   "outputs": [
    {
     "name": "stderr",
     "output_type": "stream",
     "text": [
      "C:\\Users\\Arashfs\\Anaconda3\\envs\\gap-price-prediction\\lib\\site-packages\\numpy\\core\\_asarray.py:83: VisibleDeprecationWarning: Creating an ndarray from ragged nested sequences (which is a list-or-tuple of lists-or-tuples-or ndarrays with different lengths or shapes) is deprecated. If you meant to do this, you must specify 'dtype=object' when creating the ndarray\n",
      "  return array(a, dtype, copy=False, order=order)\n"
     ]
    }
   ],
   "source": [
    "df = pd.read_pickle('df.pkl')\n",
    "df = df.reset_index(drop=True)\n",
    "df['Gap'] = df['DAM LMP_PRC'] - df[('RTM LMP_PRC', 1)]\n",
    "df = add_hours_dam(df, 1, 1)\n",
    "df = add_hours_rtm(df, 1, 1)\n",
    "\n",
    "Y_cols = ['Gap'] \n",
    "X_cols = [col for col in list(df) if col not in Y_cols+[\n",
    "('HASP LMP_CONG_PRC', 1),\n",
    "('HASP LMP_CONG_PRC', 2),\n",
    "('HASP LMP_CONG_PRC', 3),\n",
    "('HASP LMP_CONG_PRC', 4),\n",
    "('HASP LMP_ENE_PRC', 1),\n",
    "('HASP LMP_ENE_PRC', 2),\n",
    "('HASP LMP_ENE_PRC', 3),\n",
    "('HASP LMP_ENE_PRC', 4),\n",
    "('HASP LMP_GHG_PRC', 1),\n",
    "('HASP LMP_LOSS_PRC', 1),\n",
    "('HASP LMP_LOSS_PRC', 2),\n",
    "('HASP LMP_LOSS_PRC', 3),\n",
    "('HASP LMP_LOSS_PRC', 4),\n",
    "('HASP LMP_PRC', 1),\n",
    "('HASP LMP_PRC', 2),\n",
    "('HASP LMP_PRC', 3),\n",
    "('HASP LMP_PRC', 4),\n",
    "('RTM LMP_CONG_PRC', 1),\n",
    "('RTM LMP_CONG_PRC', 2),\n",
    "('RTM LMP_CONG_PRC', 3),\n",
    "('RTM LMP_CONG_PRC', 4),\n",
    "('RTM LMP_CONG_PRC', 5),\n",
    "('RTM LMP_CONG_PRC', 6),\n",
    "('RTM LMP_CONG_PRC', 7),\n",
    "('RTM LMP_CONG_PRC', 8),\n",
    "('RTM LMP_CONG_PRC', 9),\n",
    "('RTM LMP_CONG_PRC', 10),\n",
    "('RTM LMP_CONG_PRC', 11),\n",
    "('RTM LMP_CONG_PRC', 12),\n",
    "('RTM LMP_ENE_PRC', 1),\n",
    "('RTM LMP_ENE_PRC', 2),\n",
    "('RTM LMP_ENE_PRC', 3),\n",
    "('RTM LMP_ENE_PRC', 4),\n",
    "('RTM LMP_ENE_PRC', 5),\n",
    "('RTM LMP_ENE_PRC', 6),\n",
    "('RTM LMP_ENE_PRC', 7),\n",
    "('RTM LMP_ENE_PRC', 8),\n",
    "('RTM LMP_ENE_PRC', 9),\n",
    "('RTM LMP_ENE_PRC', 10),\n",
    "('RTM LMP_ENE_PRC', 11),\n",
    "('RTM LMP_ENE_PRC', 12),\n",
    "('RTM LMP_GHG_PRC', 1),\n",
    "('RTM LMP_GHG_PRC', 7),\n",
    "('RTM LMP_LOSS_PRC', 1),\n",
    "('RTM LMP_LOSS_PRC', 2),\n",
    "('RTM LMP_LOSS_PRC', 3),\n",
    "('RTM LMP_LOSS_PRC', 4),\n",
    "('RTM LMP_LOSS_PRC', 5),\n",
    "('RTM LMP_LOSS_PRC', 6),\n",
    "('RTM LMP_LOSS_PRC', 7),\n",
    "('RTM LMP_LOSS_PRC', 8),\n",
    "('RTM LMP_LOSS_PRC', 9),\n",
    "('RTM LMP_LOSS_PRC', 10),\n",
    "('RTM LMP_LOSS_PRC', 11),\n",
    "('RTM LMP_LOSS_PRC', 12),\n",
    "('RTM LMP_PRC', 1),\n",
    "('RTM LMP_PRC', 2),\n",
    "('RTM LMP_PRC', 3),\n",
    "('RTM LMP_PRC', 4),\n",
    "('RTM LMP_PRC', 5),\n",
    "('RTM LMP_PRC', 6),\n",
    "('RTM LMP_PRC', 7),\n",
    "('RTM LMP_PRC', 8),\n",
    "('RTM LMP_PRC', 9),\n",
    "('RTM LMP_PRC', 10),\n",
    "('RTM LMP_PRC', 11),\n",
    "('RTM LMP_PRC', 12),\n",
    "'DAM LMP_CONG_PRC',\n",
    "'DAM LMP_GHG_PRC',\n",
    "('HASP LMP_CONG_PRC', 1),\n",
    "('HASP LMP_CONG_PRC', 2),\n",
    "('HASP LMP_CONG_PRC', 3),\n",
    "('HASP LMP_CONG_PRC', 4),\n",
    "('HASP LMP_ENE_PRC', 1),\n",
    "('HASP LMP_ENE_PRC', 2),\n",
    "('HASP LMP_ENE_PRC', 3),\n",
    "('HASP LMP_ENE_PRC', 4),\n",
    "('HASP LMP_GHG_PRC', 1),\n",
    "('HASP LMP_LOSS_PRC', 1),\n",
    "('HASP LMP_LOSS_PRC', 2),\n",
    "('HASP LMP_LOSS_PRC', 3),\n",
    "('HASP LMP_LOSS_PRC', 4),\n",
    "('HASP LMP_PRC', 1),\n",
    "('HASP LMP_PRC', 2),\n",
    "('HASP LMP_PRC', 3),\n",
    "('HASP LMP_PRC', 4),\n",
    "('RTM LMP_CONG_PRC', 1),\n",
    "('RTM LMP_CONG_PRC', 2),\n",
    "('RTM LMP_CONG_PRC', 3),\n",
    "('RTM LMP_CONG_PRC', 4),\n",
    "('RTM LMP_CONG_PRC', 5),\n",
    "('RTM LMP_CONG_PRC', 6),\n",
    "('RTM LMP_CONG_PRC', 7),\n",
    "('RTM LMP_CONG_PRC', 8),\n",
    "('RTM LMP_CONG_PRC', 9),\n",
    "('RTM LMP_CONG_PRC', 10),\n",
    "('RTM LMP_CONG_PRC', 11),\n",
    "('RTM LMP_CONG_PRC', 12),\n",
    "('RTM LMP_GHG_PRC', 1),\n",
    "('RTM LMP_GHG_PRC', 7),\n",
    "'DAM LMP_ENE_PRC',\n",
    "'DAM LMP_LOSS_PRC',\n",
    "'Actual_Demand',\n",
    "('RTM LMP_PRC', 1),\n",
    "'DAM LMP_PRC',]]\n",
    "          \n",
    "Y = df[Y_cols]\n",
    "X = df[X_cols]\n",
    "X_train, X_test, Y_train, Y_test = train_test_split(X, Y, test_size=0.10615, shuffle=False, random_state=42)\n",
    "ss1 = MinMaxScaler(feature_range=(0, 1))\n",
    "X_train = ss1.fit_transform(X_train)\n",
    "X_test = ss1.transform(X_test)\n",
    "ss2 = MinMaxScaler(feature_range=(0, 1))\n",
    "Y_train = ss2.fit_transform(Y_train)\n",
    "Y_test = ss2.transform(Y_test)"
   ]
  },
  {
   "cell_type": "code",
   "execution_count": 6,
   "metadata": {},
   "outputs": [],
   "source": [
    "features = len(list(X))"
   ]
  },
  {
   "cell_type": "code",
   "execution_count": 7,
   "metadata": {},
   "outputs": [],
   "source": [
    "lookback_length = 24*30\n",
    "batch_size = 1"
   ]
  },
  {
   "cell_type": "code",
   "execution_count": 8,
   "metadata": {},
   "outputs": [],
   "source": [
    "# reshape input to be [samples, time steps, features]\n",
    "# reshape input to be  [samples, time steps, features]\n",
    "# X_train = np.reshape(X_train, (X_train.shape[0], lookback_length, features))\n",
    "# testX = np.reshape(testX, (testX.shape[0],look_back, features))"
   ]
  },
  {
   "cell_type": "code",
   "execution_count": 9,
   "metadata": {},
   "outputs": [
    {
     "data": {
      "text/plain": [
       "(14807, 73)"
      ]
     },
     "execution_count": 9,
     "metadata": {},
     "output_type": "execute_result"
    }
   ],
   "source": [
    "X_train.shape"
   ]
  },
  {
   "cell_type": "code",
   "execution_count": 40,
   "metadata": {},
   "outputs": [
    {
     "ename": "NameError",
     "evalue": "name 'trainX' is not defined",
     "output_type": "error",
     "traceback": [
      "\u001b[1;31m---------------------------------------------------------------------------\u001b[0m",
      "\u001b[1;31mNameError\u001b[0m                                 Traceback (most recent call last)",
      "\u001b[1;32m<ipython-input-40-2aeccc65ca84>\u001b[0m in \u001b[0;36m<module>\u001b[1;34m\u001b[0m\n\u001b[1;32m----> 1\u001b[1;33m \u001b[0mtrainX\u001b[0m\u001b[1;33m.\u001b[0m\u001b[0mshape\u001b[0m\u001b[1;33m\u001b[0m\u001b[1;33m\u001b[0m\u001b[0m\n\u001b[0m",
      "\u001b[1;31mNameError\u001b[0m: name 'trainX' is not defined"
     ]
    }
   ],
   "source": [
    "trainX.shape"
   ]
  },
  {
   "cell_type": "code",
   "execution_count": 10,
   "metadata": {},
   "outputs": [],
   "source": [
    "lookback_length = 7*24\n",
    "batch_size = 1"
   ]
  },
  {
   "cell_type": "code",
   "execution_count": 11,
   "metadata": {},
   "outputs": [],
   "source": [
    "from keras.preprocessing.sequence import TimeseriesGenerator\n",
    "train_sequences  = TimeseriesGenerator(X_train,\n",
    "                                       Y_train,\n",
    "                                       length=lookback_length,\n",
    "                                       batch_size=batch_size)\n",
    "test_sequences = TimeseriesGenerator(X_test,\n",
    "                                     Y_test,\n",
    "                                     length=lookback_length,\n",
    "                                     batch_size=batch_size)"
   ]
  },
  {
   "cell_type": "code",
   "execution_count": null,
   "metadata": {},
   "outputs": [
    {
     "name": "stdout",
     "output_type": "stream",
     "text": [
      "WARNING:tensorflow:From C:\\Users\\Arashfs\\Anaconda3\\envs\\gap-price-prediction\\lib\\site-packages\\keras\\backend\\tensorflow_backend.py:422: The name tf.global_variables is deprecated. Please use tf.compat.v1.global_variables instead.\n",
      "\n",
      "Epoch 1/3\n",
      "  915/14639 [>.............................] - ETA: 6:52 - loss: 0.0068"
     ]
    }
   ],
   "source": [
    "model = Sequential()\n",
    "\n",
    "model.add(LSTM(units=100, input_shape=(lookback_length, features)))\n",
    "\n",
    "model.add(Dense(units=1))\n",
    "model.compile(optimizer='rmsprop',loss='mean_squared_error')\n",
    "model.fit_generator(train_sequences, validation_data=test_sequences, epochs=3, verbose=1)"
   ]
  },
  {
   "cell_type": "code",
   "execution_count": null,
   "metadata": {},
   "outputs": [],
   "source": [
    "scaled_predictions = model.predict_generator(test_sequences)"
   ]
  },
  {
   "cell_type": "code",
   "execution_count": null,
   "metadata": {},
   "outputs": [],
   "source": [
    "scaled_predictions"
   ]
  },
  {
   "cell_type": "code",
   "execution_count": null,
   "metadata": {},
   "outputs": [],
   "source": [
    "Evaluate(Y_test[:-lookback_length], scaled_predictions)"
   ]
  },
  {
   "cell_type": "code",
   "execution_count": null,
   "metadata": {},
   "outputs": [],
   "source": [
    "predictions = ss2.inverse_transform(scaled_predictions.reshape(-1, 1))"
   ]
  },
  {
   "cell_type": "code",
   "execution_count": null,
   "metadata": {},
   "outputs": [],
   "source": [
    "Y_true = []\n",
    "temp = ss2.inverse_transform(Y_test)\n",
    "for item in temp:\n",
    "    Y_true.append(item[0])"
   ]
  },
  {
   "cell_type": "code",
   "execution_count": null,
   "metadata": {},
   "outputs": [],
   "source": [
    "Evaluate(Y_true[:-lookback_length], predictions)"
   ]
  },
  {
   "cell_type": "code",
   "execution_count": null,
   "metadata": {},
   "outputs": [],
   "source": [
    "predictions"
   ]
  },
  {
   "cell_type": "code",
   "execution_count": null,
   "metadata": {},
   "outputs": [],
   "source": [
    "Y_true[day:day+24]"
   ]
  },
  {
   "cell_type": "code",
   "execution_count": null,
   "metadata": {},
   "outputs": [],
   "source": [
    "Y_true[day+1:day+1+24]"
   ]
  },
  {
   "cell_type": "code",
   "execution_count": null,
   "metadata": {},
   "outputs": [],
   "source": [
    "import datetime\n",
    "from matplotlib.ticker import FuncFormatter\n",
    "import matplotlib.dates as mdates\n",
    "\n",
    "\n",
    "\n",
    "plt.figure(figsize=(15,8))\n",
    "day = 25\n",
    "\n",
    "plt.plot(Y_true[day*24+1:day*24+48],\n",
    "         label='test Y-true',\n",
    "         color='blue')\n",
    "plt.plot(predictions[day*24+1:day*24+48],\n",
    "         label='LSTM',\n",
    "         color='green',linestyle='dashed')\n",
    "\n",
    "# plt.plot(lasso_gap,\n",
    "#          label='Lasso',\n",
    "#          color='red',linestyle=':')\n",
    "plt.legend()\n",
    "plt.xlim(0,48)\n",
    "plt.title('GAP Predicitons vs Actual Values', fontsize=18)\n",
    "plt.xlabel('Hour')\n",
    "plt.ylabel('Price')\n",
    "# plt.savefig('../images/dam_RNN_12_test_pred_vs_true_zoomed.jpg', bbox_inches='tight')\n",
    "plt.show();"
   ]
  },
  {
   "cell_type": "code",
   "execution_count": null,
   "metadata": {},
   "outputs": [],
   "source": []
  },
  {
   "cell_type": "code",
   "execution_count": null,
   "metadata": {},
   "outputs": [],
   "source": [
    "import datetime\n",
    "from matplotlib.ticker import FuncFormatter\n",
    "import matplotlib.dates as mdates\n",
    "\n",
    "\n",
    "\n",
    "plt.figure(figsize=(15,8))\n",
    "day = 26\n",
    "plt.plot(Y_true[day*24+1:day*24+24],\n",
    "         label='test Y-true',\n",
    "         color='blue')\n",
    "plt.plot(predictions[day*24+1:day*24+24],\n",
    "         label='LSTM',\n",
    "         color='green',linestyle='dashed')\n",
    "\n",
    "plt.plot(lasso_gap,\n",
    "         label='Lasso',\n",
    "         color='red',linestyle=':')\n",
    "plt.legend()\n",
    "plt.xlim(0,24)\n",
    "plt.title('GAP Predicitons vs Actual Values', fontsize=18)\n",
    "plt.xlabel('Hour')\n",
    "plt.ylabel('Price')\n",
    "# plt.savefig('../images/dam_RNN_12_test_pred_vs_true_zoomed.jpg', bbox_inches='tight')\n",
    "plt.show();"
   ]
  },
  {
   "cell_type": "code",
   "execution_count": null,
   "metadata": {},
   "outputs": [],
   "source": []
  },
  {
   "cell_type": "code",
   "execution_count": null,
   "metadata": {},
   "outputs": [],
   "source": [
    "datetime.date(2002, 3, 11)"
   ]
  },
  {
   "cell_type": "code",
   "execution_count": null,
   "metadata": {},
   "outputs": [],
   "source": [
    "from sklearn.metrics import mean_absolute_error\n",
    "from sklearn.metrics import mean_squared_error\n",
    "maek = []\n",
    "def best_day(predictions, Y_true):\n",
    "    start_index = 0\n",
    "    best = 10000\n",
    "    cur = 0\n",
    "    for i in range(0, len(predictions)-24, 24):\n",
    "        cur = 0\n",
    "        mae = mean_squared_error(predictions[i:i+24], Y_true[i:i+24])\n",
    "        maek.append(mae)\n",
    "        if mae < best:\n",
    "            best = mae\n",
    "            start_index = i\n",
    "    return start_index"
   ]
  },
  {
   "cell_type": "code",
   "execution_count": null,
   "metadata": {},
   "outputs": [],
   "source": [
    "\n",
    "plt.figure(figsize=(15,8))\n",
    "\n",
    "plt.plot(Y_true[:-lookback_length],\n",
    "         label='test y-true',\n",
    "         alpha = 0.8,\n",
    "         color='grey')\n",
    "plt.plot(predictions,\n",
    "         label='test predictions',\n",
    "         alpha = 0.5,\n",
    "         color='goldenrod')\n",
    "plt.legend()\n",
    "plt.xlim(0, 600)\n",
    "plt.title('LSTM RTM Test: preds vs true', fontsize=18)\n",
    "# plt.savefig('../images/dam_RNN_12_test_pred_vs_true_zoomed.jpg', bbox_inches='tight')\n",
    "plt.show();"
   ]
  },
  {
   "cell_type": "code",
   "execution_count": null,
   "metadata": {},
   "outputs": [],
   "source": [
    "min(maek)\n"
   ]
  },
  {
   "cell_type": "code",
   "execution_count": null,
   "metadata": {},
   "outputs": [],
   "source": [
    "len(Y_true)/24"
   ]
  },
  {
   "cell_type": "code",
   "execution_count": null,
   "metadata": {},
   "outputs": [],
   "source": []
  },
  {
   "cell_type": "code",
   "execution_count": null,
   "metadata": {},
   "outputs": [],
   "source": [
    "predictions[0:0+24]"
   ]
  },
  {
   "cell_type": "code",
   "execution_count": null,
   "metadata": {},
   "outputs": [],
   "source": [
    "Y_true[0:0+24]"
   ]
  },
  {
   "cell_type": "code",
   "execution_count": null,
   "metadata": {},
   "outputs": [],
   "source": [
    "df = pd.read_pickle('df.pkl')\n",
    "df = df.reset_index(drop=True)\n",
    "df['Gap'] = df['DAM LMP_PRC'] - df[('RTM LMP_PRC', 1)]\n",
    "df = add_hours_dam(df, 1, 1)\n",
    "df = add_hours_rtm(df, 12, 1)"
   ]
  },
  {
   "cell_type": "code",
   "execution_count": null,
   "metadata": {},
   "outputs": [],
   "source": [
    "df = df.drop(['DAM LMP_CONG_PRC',\n",
    " 'DAM LMP_ENE_PRC',\n",
    " 'DAM LMP_GHG_PRC',\n",
    " 'DAM LMP_LOSS_PRC',\n",
    " 'DAM LMP_PRC',\n",
    " ('HASP LMP_CONG_PRC', 1),\n",
    " ('HASP LMP_CONG_PRC', 2),\n",
    " ('HASP LMP_CONG_PRC', 3),\n",
    " ('HASP LMP_CONG_PRC', 4),\n",
    " ('HASP LMP_ENE_PRC', 1),\n",
    " ('HASP LMP_ENE_PRC', 2),\n",
    " ('HASP LMP_ENE_PRC', 3),\n",
    " ('HASP LMP_ENE_PRC', 4),\n",
    " ('HASP LMP_GHG_PRC', 1),\n",
    " ('HASP LMP_LOSS_PRC', 1),\n",
    " ('HASP LMP_LOSS_PRC', 2),\n",
    " ('HASP LMP_LOSS_PRC', 3),\n",
    " ('HASP LMP_LOSS_PRC', 4),\n",
    " ('HASP LMP_PRC', 1),\n",
    " ('HASP LMP_PRC', 2),\n",
    " ('HASP LMP_PRC', 3),\n",
    " ('HASP LMP_PRC', 4),\n",
    " ('RTM LMP_CONG_PRC', 1),\n",
    " ('RTM LMP_CONG_PRC', 2),\n",
    " ('RTM LMP_CONG_PRC', 3),\n",
    " ('RTM LMP_CONG_PRC', 4),\n",
    " ('RTM LMP_CONG_PRC', 5),\n",
    " ('RTM LMP_CONG_PRC', 6),\n",
    " ('RTM LMP_CONG_PRC', 7),\n",
    " ('RTM LMP_CONG_PRC', 8),\n",
    " ('RTM LMP_CONG_PRC', 9),\n",
    " ('RTM LMP_CONG_PRC', 10),\n",
    " ('RTM LMP_CONG_PRC', 11),\n",
    " ('RTM LMP_CONG_PRC', 12),\n",
    " ('RTM LMP_ENE_PRC', 1),\n",
    " ('RTM LMP_ENE_PRC', 2),\n",
    " ('RTM LMP_ENE_PRC', 3),\n",
    " ('RTM LMP_ENE_PRC', 4),\n",
    " ('RTM LMP_ENE_PRC', 5),\n",
    " ('RTM LMP_ENE_PRC', 6),\n",
    " ('RTM LMP_ENE_PRC', 7),\n",
    " ('RTM LMP_ENE_PRC', 8),\n",
    " ('RTM LMP_ENE_PRC', 9),\n",
    " ('RTM LMP_ENE_PRC', 10),\n",
    " ('RTM LMP_ENE_PRC', 11),\n",
    " ('RTM LMP_ENE_PRC', 12),\n",
    " ('RTM LMP_GHG_PRC', 1),\n",
    " ('RTM LMP_GHG_PRC', 7),\n",
    " ('RTM LMP_LOSS_PRC', 1),\n",
    " ('RTM LMP_LOSS_PRC', 2),\n",
    " ('RTM LMP_LOSS_PRC', 3),\n",
    " ('RTM LMP_LOSS_PRC', 4),\n",
    " ('RTM LMP_LOSS_PRC', 5),\n",
    " ('RTM LMP_LOSS_PRC', 6),\n",
    " ('RTM LMP_LOSS_PRC', 7),\n",
    " ('RTM LMP_LOSS_PRC', 8),\n",
    " ('RTM LMP_LOSS_PRC', 9),\n",
    " ('RTM LMP_LOSS_PRC', 10),\n",
    " ('RTM LMP_LOSS_PRC', 11),\n",
    " ('RTM LMP_LOSS_PRC', 12),\n",
    " ('RTM LMP_PRC', 1),\n",
    " ('RTM LMP_PRC', 2),\n",
    " ('RTM LMP_PRC', 3),\n",
    " ('RTM LMP_PRC', 4),\n",
    " ('RTM LMP_PRC', 5),\n",
    " ('RTM LMP_PRC', 6),\n",
    " ('RTM LMP_PRC', 7),\n",
    " ('RTM LMP_PRC', 8),\n",
    " ('RTM LMP_PRC', 9),\n",
    " ('RTM LMP_PRC', 10),\n",
    " ('RTM LMP_PRC', 11),\n",
    " ('RTM LMP_PRC', 12)], axis=1)"
   ]
  },
  {
   "cell_type": "code",
   "execution_count": null,
   "metadata": {},
   "outputs": [],
   "source": [
    "list(df)"
   ]
  },
  {
   "cell_type": "code",
   "execution_count": null,
   "metadata": {},
   "outputs": [],
   "source": [
    "\n",
    "df = pd.read_pickle('df.pkl')\n",
    "df = df.reset_index(drop=True)\n",
    "df['Gap'] = df['DAM LMP_PRC'] - df[('RTM LMP_PRC', 1)]\n",
    "df = add_hours_dam(df, 1, 1)\n",
    "df = add_hours_rtm(df, 12, 1)\n",
    "\n",
    "Y_cols = ['Gap'] \n",
    "X_cols = [col for col in list(df) if col not in Y_cols+[\n",
    "('HASP LMP_CONG_PRC', 1),\n",
    "('HASP LMP_CONG_PRC', 2),\n",
    "('HASP LMP_CONG_PRC', 3),\n",
    "('HASP LMP_CONG_PRC', 4),\n",
    "('HASP LMP_ENE_PRC', 1),\n",
    "('HASP LMP_ENE_PRC', 2),\n",
    "('HASP LMP_ENE_PRC', 3),\n",
    "('HASP LMP_ENE_PRC', 4),\n",
    "('HASP LMP_GHG_PRC', 1),\n",
    "('HASP LMP_LOSS_PRC', 1),\n",
    "('HASP LMP_LOSS_PRC', 2),\n",
    "('HASP LMP_LOSS_PRC', 3),\n",
    "('HASP LMP_LOSS_PRC', 4),\n",
    "('HASP LMP_PRC', 1),\n",
    "('HASP LMP_PRC', 2),\n",
    "('HASP LMP_PRC', 3),\n",
    "('HASP LMP_PRC', 4),\n",
    "('RTM LMP_CONG_PRC', 1),\n",
    "('RTM LMP_CONG_PRC', 2),\n",
    "('RTM LMP_CONG_PRC', 3),\n",
    "('RTM LMP_CONG_PRC', 4),\n",
    "('RTM LMP_CONG_PRC', 5),\n",
    "('RTM LMP_CONG_PRC', 6),\n",
    "('RTM LMP_CONG_PRC', 7),\n",
    "('RTM LMP_CONG_PRC', 8),\n",
    "('RTM LMP_CONG_PRC', 9),\n",
    "('RTM LMP_CONG_PRC', 10),\n",
    "('RTM LMP_CONG_PRC', 11),\n",
    "('RTM LMP_CONG_PRC', 12),\n",
    "('RTM LMP_ENE_PRC', 1),\n",
    "('RTM LMP_ENE_PRC', 2),\n",
    "('RTM LMP_ENE_PRC', 3),\n",
    "('RTM LMP_ENE_PRC', 4),\n",
    "('RTM LMP_ENE_PRC', 5),\n",
    "('RTM LMP_ENE_PRC', 6),\n",
    "('RTM LMP_ENE_PRC', 7),\n",
    "('RTM LMP_ENE_PRC', 8),\n",
    "('RTM LMP_ENE_PRC', 9),\n",
    "('RTM LMP_ENE_PRC', 10),\n",
    "('RTM LMP_ENE_PRC', 11),\n",
    "('RTM LMP_ENE_PRC', 12),\n",
    "('RTM LMP_GHG_PRC', 1),\n",
    "('RTM LMP_GHG_PRC', 7),\n",
    "('RTM LMP_LOSS_PRC', 1),\n",
    "('RTM LMP_LOSS_PRC', 2),\n",
    "('RTM LMP_LOSS_PRC', 3),\n",
    "('RTM LMP_LOSS_PRC', 4),\n",
    "('RTM LMP_LOSS_PRC', 5),\n",
    "('RTM LMP_LOSS_PRC', 6),\n",
    "('RTM LMP_LOSS_PRC', 7),\n",
    "('RTM LMP_LOSS_PRC', 8),\n",
    "('RTM LMP_LOSS_PRC', 9),\n",
    "('RTM LMP_LOSS_PRC', 10),\n",
    "('RTM LMP_LOSS_PRC', 11),\n",
    "('RTM LMP_LOSS_PRC', 12),\n",
    "('RTM LMP_PRC', 1),\n",
    "('RTM LMP_PRC', 2),\n",
    "('RTM LMP_PRC', 3),\n",
    "('RTM LMP_PRC', 4),\n",
    "('RTM LMP_PRC', 5),\n",
    "('RTM LMP_PRC', 6),\n",
    "('RTM LMP_PRC', 7),\n",
    "('RTM LMP_PRC', 8),\n",
    "('RTM LMP_PRC', 9),\n",
    "('RTM LMP_PRC', 10),\n",
    "('RTM LMP_PRC', 11),\n",
    "('RTM LMP_PRC', 12),\n",
    "'DAM LMP_CONG_PRC',\n",
    "'DAM LMP_GHG_PRC',\n",
    "('HASP LMP_CONG_PRC', 1),\n",
    "('HASP LMP_CONG_PRC', 2),\n",
    "('HASP LMP_CONG_PRC', 3),\n",
    "('HASP LMP_CONG_PRC', 4),\n",
    "('HASP LMP_ENE_PRC', 1),\n",
    "('HASP LMP_ENE_PRC', 2),\n",
    "('HASP LMP_ENE_PRC', 3),\n",
    "('HASP LMP_ENE_PRC', 4),\n",
    "('HASP LMP_GHG_PRC', 1),\n",
    "('HASP LMP_LOSS_PRC', 1),\n",
    "('HASP LMP_LOSS_PRC', 2),\n",
    "('HASP LMP_LOSS_PRC', 3),\n",
    "('HASP LMP_LOSS_PRC', 4),\n",
    "('HASP LMP_PRC', 1),\n",
    "('HASP LMP_PRC', 2),\n",
    "('HASP LMP_PRC', 3),\n",
    "('HASP LMP_PRC', 4),\n",
    "('RTM LMP_CONG_PRC', 1),\n",
    "('RTM LMP_CONG_PRC', 2),\n",
    "('RTM LMP_CONG_PRC', 3),\n",
    "('RTM LMP_CONG_PRC', 4),\n",
    "('RTM LMP_CONG_PRC', 5),\n",
    "('RTM LMP_CONG_PRC', 6),\n",
    "('RTM LMP_CONG_PRC', 7),\n",
    "('RTM LMP_CONG_PRC', 8),\n",
    "('RTM LMP_CONG_PRC', 9),\n",
    "('RTM LMP_CONG_PRC', 10),\n",
    "('RTM LMP_CONG_PRC', 11),\n",
    "('RTM LMP_CONG_PRC', 12),\n",
    "('RTM LMP_GHG_PRC', 1),\n",
    "('RTM LMP_GHG_PRC', 7),\n",
    "'DAM LMP_ENE_PRC',\n",
    "'DAM LMP_LOSS_PRC',\n",
    "'Actual_Demand',\n",
    "('RTM LMP_PRC', 1),\n",
    "'DAM LMP_PRC',]]\n",
    "          \n",
    "Y = df[Y_cols]\n",
    "X = df[X_cols]\n",
    "X_train, X_test, Y_train, Y_test = train_test_split(X, Y, test_size=0.10615, shuffle=False, random_state=42)\n",
    "ss1 = MinMaxScaler(feature_range=(0, 1))\n",
    "X_train = ss1.fit_transform(X_train)\n",
    "X_test = ss1.transform(X_test)\n",
    "ss2 = MinMaxScaler(feature_range=(0, 1))\n",
    "Y_train = ss2.fit_transform(Y_train)\n",
    "Y_test = ss2.transform(Y_test)\n",
    "\n",
    "train_size = int(len(dataset) * 0.80)\n",
    "test_size = len(dataset) - train_size\n",
    "train, test = dataset[0:train_size,:], dataset[train_size:len(dataset),:]"
   ]
  },
  {
   "cell_type": "code",
   "execution_count": null,
   "metadata": {},
   "outputs": [],
   "source": [
    "X_train = X_train.reshape(-1,1)"
   ]
  },
  {
   "cell_type": "code",
   "execution_count": null,
   "metadata": {},
   "outputs": [],
   "source": [
    "dataset = df.values #numpy.ndarray\n",
    "dataset = dataset.astype('float32')\n",
    "dataset = np.reshape(dataset, (-1, 1))\n",
    "scaler = MinMaxScaler(feature_range=(0, 1))\n",
    "dataset = scaler.fit_transform(dataset)\n",
    "train_size = int(len(dataset) * 0.80)\n",
    "test_size = len(dataset) - train_size\n",
    "train, test = dataset[0:train_size,:], dataset[train_size:len(dataset),:]\n"
   ]
  },
  {
   "cell_type": "code",
   "execution_count": null,
   "metadata": {},
   "outputs": [],
   "source": [
    "\n",
    "def create_dataset(dataset, look_back=1):\n",
    "    X, Y = [], []\n",
    "    for i in range(len(dataset)-look_back-1):\n",
    "        a = dataset[i:(i+look_back), 0]\n",
    "        X.append(a)\n",
    "        Y.append(dataset[i + look_back, 0])\n",
    "    return np.array(X), np.array(Y)\n",
    "    \n",
    "look_back = 30\n",
    "X_train, Y_train = create_dataset(train, look_back)\n",
    "X_test, Y_test = create_dataset(test, look_back)\n",
    "\n",
    "# reshape input to be [samples, time steps, features]\n",
    "# X_train = np.reshape(X_train, (X_train.shape[0], 1, X_train.shape[1]))\n",
    "# X_test = np.reshape(X_test, (X_test.shape[0], 1, X_test.shape[1]))"
   ]
  },
  {
   "cell_type": "code",
   "execution_count": null,
   "metadata": {},
   "outputs": [],
   "source": []
  },
  {
   "cell_type": "code",
   "execution_count": null,
   "metadata": {},
   "outputs": [],
   "source": [
    "model = Sequential()\n",
    "model.add(LSTM(100, input_shape=(X_train.shape[1], X_train.shape[2])))\n",
    "model.add(Dropout(0.2))\n",
    "model.add(Dense(1))\n",
    "model.compile(loss='mean_squared_error', optimizer='adam')\n",
    "\n",
    "history = model.fit(X_train, Y_train, epochs=20, batch_size=70, validation_data=(X_test, Y_test), \n",
    "                    callbacks=[EarlyStopping(monitor='val_loss', patience=10)], verbose=1, shuffle=False)\n",
    "\n",
    "model.summary()"
   ]
  },
  {
   "cell_type": "code",
   "execution_count": null,
   "metadata": {},
   "outputs": [],
   "source": [
    "train_predict = model.predict(X_train)\n",
    "test_predict = model.predict(X_test)\n",
    "# invert predictions\n",
    "train_predict = scaler.inverse_transform(train_predict)\n",
    "Y_train = scaler.inverse_transform([Y_train])\n",
    "test_predict = scaler.inverse_transform(test_predict)\n",
    "Y_test = scaler.inverse_transform([Y_test])\n",
    "print('Train Mean Absolute Error:', mean_absolute_error(Y_train[0], train_predict[:,0]))\n",
    "print('Train Root Mean Squared Error:',np.sqrt(mean_squared_error(Y_train[0], train_predict[:,0])))\n",
    "print('Test Mean Absolute Error:', mean_absolute_error(Y_test[0], test_predict[:,0]))\n",
    "print('Test Root Mean Squared Error:',np.sqrt(mean_squared_error(Y_test[0], test_predict[:,0])))"
   ]
  },
  {
   "cell_type": "code",
   "execution_count": null,
   "metadata": {},
   "outputs": [],
   "source": [
    "import numpy as np\n",
    "import matplotlib.pyplot as plt\n",
    "import pandas as pd\n",
    "pd.set_option('display.float_format', lambda x: '%.4f' % x)\n",
    "import seaborn as sns\n",
    "sns.set_context(\"paper\", font_scale=1.3)\n",
    "sns.set_style('white')\n",
    "import warnings\n",
    "warnings.filterwarnings('ignore')\n",
    "from time import time\n",
    "import matplotlib.ticker as tkr\n",
    "from scipy import stats\n",
    "from sklearn import preprocessing\n",
    "%matplotlib inline\n",
    "\n",
    "aa=[x for x in range(200)]\n",
    "plt.figure(figsize=(20,12))\n",
    "plt.plot(aa, Y_test[0][:200], marker='.', label=\"actual\")\n",
    "plt.plot(aa, test_predict[:,0][:200], 'r', label=\"prediction\")\n",
    "# plt.tick_params(left=False, labelleft=True) #remove ticks\n",
    "plt.tight_layout()\n",
    "sns.despine(top=True)\n",
    "plt.subplots_adjust(left=0.07)\n",
    "plt.ylabel('Global_active_power', size=15)\n",
    "plt.xlabel('Time step', size=15)\n",
    "plt.legend(fontsize=15)\n",
    "plt.show();"
   ]
  },
  {
   "cell_type": "code",
   "execution_count": null,
   "metadata": {},
   "outputs": [],
   "source": [
    "test_predict"
   ]
  },
  {
   "cell_type": "code",
   "execution_count": null,
   "metadata": {},
   "outputs": [],
   "source": [
    "Y_test"
   ]
  },
  {
   "cell_type": "code",
   "execution_count": null,
   "metadata": {},
   "outputs": [],
   "source": [
    "# Let`s import all packages that we may need:\n",
    "\n",
    "import sys \n",
    "import numpy as np # linear algebra\n",
    "from scipy.stats import randint\n",
    "import pandas as pd # data processing, CSV file I/O (e.g. pd.read_csv), data manipulation as in SQL\n",
    "import matplotlib.pyplot as plt # this is used for the plot the graph \n",
    "import seaborn as sns # used for plot interactive graph. \n",
    "from sklearn.model_selection import train_test_split # to split the data into two parts\n",
    "\n",
    "from sklearn.preprocessing import StandardScaler # for normalization\n",
    "from sklearn.preprocessing import MinMaxScaler\n",
    "from sklearn.pipeline import Pipeline # pipeline making\n",
    "from sklearn.model_selection import cross_val_score\n",
    "from sklearn.feature_selection import SelectFromModel\n",
    "from sklearn import metrics # for the check the error and accuracy of the model\n",
    "from sklearn.metrics import mean_squared_error,r2_score\n",
    "\n",
    "## for Deep-learing:\n",
    "import keras\n",
    "from keras.layers import Dense\n",
    "from keras.models import Sequential\n",
    "from keras.utils import to_categorical\n",
    "from keras.optimizers import SGD \n",
    "from keras.callbacks import EarlyStopping\n",
    "from keras.utils import np_utils\n",
    "import itertools\n",
    "from keras.layers import LSTM\n",
    "from keras.layers.convolutional import Conv1D\n",
    "from keras.layers.convolutional import MaxPooling1D\n",
    "from keras.layers import Dropout"
   ]
  },
  {
   "cell_type": "code",
   "execution_count": null,
   "metadata": {},
   "outputs": [],
   "source": [
    "\n",
    "df = pd.read_pickle('df.pkl')\n",
    "df = df.reset_index(drop=True)\n",
    "\n",
    "df = add_hours_dam(df, 1, 13)\n",
    "df = add_hours_rtm(df, 12, 1)\n",
    "df = df.drop([('HASP LMP_CONG_PRC', 1),\n",
    "('HASP LMP_CONG_PRC', 2),\n",
    "('HASP LMP_CONG_PRC', 3),\n",
    "('HASP LMP_CONG_PRC', 4),\n",
    "('HASP LMP_ENE_PRC', 1),\n",
    "('HASP LMP_ENE_PRC', 2),\n",
    "('HASP LMP_ENE_PRC', 3),\n",
    "('HASP LMP_ENE_PRC', 4),\n",
    "('HASP LMP_GHG_PRC', 1),\n",
    "('HASP LMP_LOSS_PRC', 1),\n",
    "('HASP LMP_LOSS_PRC', 2),\n",
    "('HASP LMP_LOSS_PRC', 3),\n",
    "('HASP LMP_LOSS_PRC', 4),\n",
    "('HASP LMP_PRC', 1),\n",
    "('HASP LMP_PRC', 2),\n",
    "('HASP LMP_PRC', 3),\n",
    "('HASP LMP_PRC', 4),\n",
    "('RTM LMP_CONG_PRC', 1),\n",
    "('RTM LMP_CONG_PRC', 2),\n",
    "('RTM LMP_CONG_PRC', 3),\n",
    "('RTM LMP_CONG_PRC', 4),\n",
    "('RTM LMP_CONG_PRC', 5),\n",
    "('RTM LMP_CONG_PRC', 6),\n",
    "('RTM LMP_CONG_PRC', 7),\n",
    "('RTM LMP_CONG_PRC', 8),\n",
    "('RTM LMP_CONG_PRC', 9),\n",
    "('RTM LMP_CONG_PRC', 10),\n",
    "('RTM LMP_CONG_PRC', 11),\n",
    "('RTM LMP_CONG_PRC', 12),\n",
    "('RTM LMP_ENE_PRC', 1),\n",
    "('RTM LMP_ENE_PRC', 2),\n",
    "('RTM LMP_ENE_PRC', 3),\n",
    "('RTM LMP_ENE_PRC', 4),\n",
    "('RTM LMP_ENE_PRC', 5),\n",
    "('RTM LMP_ENE_PRC', 6),\n",
    "('RTM LMP_ENE_PRC', 7),\n",
    "('RTM LMP_ENE_PRC', 8),\n",
    "('RTM LMP_ENE_PRC', 9),\n",
    "('RTM LMP_ENE_PRC', 10),\n",
    "('RTM LMP_ENE_PRC', 11),\n",
    "('RTM LMP_ENE_PRC', 12),\n",
    "('RTM LMP_GHG_PRC', 1),\n",
    "('RTM LMP_GHG_PRC', 7),\n",
    "('RTM LMP_LOSS_PRC', 1),\n",
    "('RTM LMP_LOSS_PRC', 2),\n",
    "('RTM LMP_LOSS_PRC', 3),\n",
    "('RTM LMP_LOSS_PRC', 4),\n",
    "('RTM LMP_LOSS_PRC', 5),\n",
    "('RTM LMP_LOSS_PRC', 6),\n",
    "('RTM LMP_LOSS_PRC', 7),\n",
    "('RTM LMP_LOSS_PRC', 8),\n",
    "('RTM LMP_LOSS_PRC', 9),\n",
    "('RTM LMP_LOSS_PRC', 10),\n",
    "('RTM LMP_LOSS_PRC', 11),\n",
    "('RTM LMP_LOSS_PRC', 12),\n",
    "('RTM LMP_PRC', 2),\n",
    "('RTM LMP_PRC', 3),\n",
    "('RTM LMP_PRC', 4),\n",
    "('RTM LMP_PRC', 5),\n",
    "('RTM LMP_PRC', 6),\n",
    "('RTM LMP_PRC', 7),\n",
    "('RTM LMP_PRC', 8),\n",
    "('RTM LMP_PRC', 9),\n",
    "('RTM LMP_PRC', 10),\n",
    "('RTM LMP_PRC', 11),\n",
    "('RTM LMP_PRC', 12),\n",
    "'DAM LMP_CONG_PRC',\n",
    "'DAM LMP_GHG_PRC',\n",
    "('HASP LMP_CONG_PRC', 1),\n",
    "('HASP LMP_CONG_PRC', 2),\n",
    "('HASP LMP_CONG_PRC', 3),\n",
    "('HASP LMP_CONG_PRC', 4),\n",
    "('HASP LMP_ENE_PRC', 1),\n",
    "('HASP LMP_ENE_PRC', 2),\n",
    "('HASP LMP_ENE_PRC', 3),\n",
    "('HASP LMP_ENE_PRC', 4),\n",
    "('HASP LMP_GHG_PRC', 1),\n",
    "('HASP LMP_LOSS_PRC', 1),\n",
    "('HASP LMP_LOSS_PRC', 2),\n",
    "('HASP LMP_LOSS_PRC', 3),\n",
    "('HASP LMP_LOSS_PRC', 4),\n",
    "('HASP LMP_PRC', 1),\n",
    "('HASP LMP_PRC', 2),\n",
    "('HASP LMP_PRC', 3),\n",
    "('HASP LMP_PRC', 4),\n",
    "('RTM LMP_CONG_PRC', 1),\n",
    "('RTM LMP_CONG_PRC', 2),\n",
    "('RTM LMP_CONG_PRC', 3),\n",
    "('RTM LMP_CONG_PRC', 4),\n",
    "('RTM LMP_CONG_PRC', 5),\n",
    "('RTM LMP_CONG_PRC', 6),\n",
    "('RTM LMP_CONG_PRC', 7),\n",
    "('RTM LMP_CONG_PRC', 8),\n",
    "('RTM LMP_CONG_PRC', 9),\n",
    "('RTM LMP_CONG_PRC', 10),\n",
    "('RTM LMP_CONG_PRC', 11),\n",
    "('RTM LMP_CONG_PRC', 12),\n",
    "('RTM LMP_GHG_PRC', 1),\n",
    "('RTM LMP_GHG_PRC', 7),\n",
    "'DAM LMP_ENE_PRC',\n",
    "'DAM LMP_LOSS_PRC',\n",
    "'Actual_Demand'], axis=1)\n",
    "df['Gap'] = df['DAM LMP_PRC'] - df[('RTM LMP_PRC', 1)]\n",
    "df = df.drop([('RTM LMP_PRC', 1), 'DAM LMP_PRC'], axis=1)"
   ]
  },
  {
   "cell_type": "code",
   "execution_count": null,
   "metadata": {},
   "outputs": [],
   "source": [
    "pd.set_option('display.max_columns', None)"
   ]
  },
  {
   "cell_type": "code",
   "execution_count": null,
   "metadata": {},
   "outputs": [],
   "source": [
    "df.head(13)"
   ]
  },
  {
   "cell_type": "code",
   "execution_count": null,
   "metadata": {},
   "outputs": [],
   "source": [
    "len(list(df))"
   ]
  },
  {
   "cell_type": "code",
   "execution_count": null,
   "metadata": {},
   "outputs": [],
   "source": [
    "def series_to_supervised(data, n_in=1, n_out=1, dropnan=True):\n",
    "\tn_vars = 1 if type(data) is list else data.shape[1]\n",
    "\tdff = pd.DataFrame(data)\n",
    "\tcols, names = list(), list()\n",
    "\t# input sequence (t-n, ... t-1)\n",
    "\tfor i in range(n_in, 0, -1):\n",
    "\t\tcols.append(dff.shift(i))\n",
    "\t\tnames += [('var%d(t-%d)' % (j+1, i)) for j in range(n_vars)]\n",
    "\t# forecast sequence (t, t+1, ... t+n)\n",
    "\tfor i in range(0, n_out):\n",
    "\t\tcols.append(dff.shift(-i))\n",
    "\t\tif i == 0:\n",
    "\t\t\tnames += [('var%d(t)' % (j+1)) for j in range(n_vars)]\n",
    "\t\telse:\n",
    "\t\t\tnames += [('var%d(t+%d)' % (j+1, i)) for j in range(n_vars)]\n",
    "\t# put it all together\n",
    "\tagg = pd.concat(cols, axis=1)\n",
    "\tagg.columns = names\n",
    "\t# drop rows with NaN values\n",
    "\tif dropnan:\n",
    "\t\tagg.dropna(inplace=True)\n",
    "\treturn agg"
   ]
  },
  {
   "cell_type": "code",
   "execution_count": null,
   "metadata": {},
   "outputs": [],
   "source": [
    "values = df.values"
   ]
  },
  {
   "cell_type": "code",
   "execution_count": null,
   "metadata": {},
   "outputs": [],
   "source": [
    "scaler = MinMaxScaler(feature_range=(0, 1))\n",
    "scaled = scaler.fit_transform(values)\n",
    "# frame as supervised learning\n",
    "reframed = series_to_supervised(scaled, 1, 1)"
   ]
  },
  {
   "cell_type": "code",
   "execution_count": null,
   "metadata": {},
   "outputs": [],
   "source": [
    "# drop columns we don't want to predict\n",
    "reframed.drop(reframed.columns[[i for i in range(0, 85)]], axis=1, inplace=True)\n",
    "print(reframed.head())"
   ]
  },
  {
   "cell_type": "code",
   "execution_count": null,
   "metadata": {},
   "outputs": [],
   "source": [
    "# split into train and test sets\n",
    "values = reframed.values\n",
    "\n",
    "n_train_time = 365*24\n",
    "train = values[:n_train_time, :]\n",
    "test = values[n_train_time:, :]\n",
    "##test = values[n_train_time:n_test_time, :]\n",
    "# split into input and outputs\n",
    "train_X, train_y = train[:, :-1], train[:, -1]\n",
    "test_X, test_y = test[:, :-1], test[:, -1]\n",
    "# reshape input to be 3D [samples, timesteps, features]\n",
    "train_X = train_X.reshape((train_X.shape[0], 1, train_X.shape[1]))\n",
    "test_X = test_X.reshape((test_X.shape[0], 1, test_X.shape[1]))\n",
    "print(train_X.shape, train_y.shape, test_X.shape, test_y.shape) \n",
    "# We reshaped the input into the 3D format as expected by LSTMs, namely [samples, timesteps, features]."
   ]
  },
  {
   "cell_type": "code",
   "execution_count": null,
   "metadata": {},
   "outputs": [],
   "source": [
    "model = Sequential()\n",
    "model.add(LSTM(100, input_shape=(train_X.shape[1], train_X.shape[2])))\n",
    "model.add(Dropout(0.2))\n",
    "#    model.add(LSTM(70))\n",
    "#    model.add(Dropout(0.3))\n",
    "model.add(Dense(1))\n",
    "model.compile(loss='mean_squared_error', optimizer='adam')\n",
    "\n",
    "\n",
    "\n",
    "# fit network\n",
    "history = model.fit(train_X, train_y, epochs=20, batch_size=70, validation_data=(test_X, test_y), verbose=2, shuffle=False)"
   ]
  },
  {
   "cell_type": "code",
   "execution_count": null,
   "metadata": {},
   "outputs": [],
   "source": [
    "# summarize history for loss\n",
    "plt.plot(history.history['loss'])\n",
    "plt.plot(history.history['val_loss'])\n",
    "plt.title('model loss')\n",
    "plt.ylabel('loss')\n",
    "plt.xlabel('epoch')\n",
    "plt.legend(['train', 'test'], loc='upper right')\n",
    "plt.show()\n"
   ]
  },
  {
   "cell_type": "code",
   "execution_count": null,
   "metadata": {},
   "outputs": [],
   "source": [
    "yhat = model.predict(test_X)\n",
    "test_X = test_X.reshape((test_X.shape[0], 86))\n",
    "# invert scaling for forecast\n",
    "inv_yhat = np.concatenate((yhat, test_X[:, -85:]), axis=1)\n",
    "inv_yhat = scaler.inverse_transform(inv_yhat)\n",
    "inv_yhat = inv_yhat[:,0]\n",
    "# invert scaling for actual\n",
    "test_y = test_y.reshape((len(test_y), 1))\n",
    "inv_y = np.concatenate((test_y, test_X[:, -85:]), axis=1)\n",
    "inv_y = scaler.inverse_transform(inv_y)\n",
    "inv_y = inv_y[:,0]\n",
    "# calculate RMSE\n",
    "rmse = np.sqrt(mean_squared_error(inv_y, inv_yhat))\n",
    "print('Test RMSE: %.3f' % rmse)"
   ]
  },
  {
   "cell_type": "code",
   "execution_count": null,
   "metadata": {},
   "outputs": [],
   "source": [
    "aa=[x for x in range(200)]\n",
    "plt.plot(aa, inv_y[:200], marker='.', label=\"actual\")\n",
    "plt.plot(aa, inv_yhat[:200], 'r', label=\"prediction\")\n",
    "plt.ylabel('Global_active_power', size=15)\n",
    "plt.xlabel('Time step', size=15)\n",
    "plt.legend(fontsize=15)\n",
    "plt.show()"
   ]
  },
  {
   "cell_type": "code",
   "execution_count": null,
   "metadata": {},
   "outputs": [],
   "source": [
    "inv_y\n"
   ]
  },
  {
   "cell_type": "code",
   "execution_count": null,
   "metadata": {},
   "outputs": [],
   "source": []
  },
  {
   "cell_type": "code",
   "execution_count": null,
   "metadata": {},
   "outputs": [],
   "source": [
    "import numpy as np # linear algebra\n",
    "from numpy import newaxis\n",
    "import pandas as pd # data processing, CSV file I/O (e.g. pd.read_csv)\n",
    "from keras.layers.core import Dense, Activation, Dropout\n",
    "from keras.layers.recurrent import LSTM, GRU\n",
    "from keras.models import Sequential\n",
    "from keras import optimizers\n",
    "from sklearn.preprocessing import MinMaxScaler\n",
    "import matplotlib.pyplot as plt\n",
    "plt.style.use('fivethirtyeight')"
   ]
  },
  {
   "cell_type": "code",
   "execution_count": null,
   "metadata": {},
   "outputs": [],
   "source": [
    "df = pd.read_pickle('df.pkl')\n",
    "df = df.reset_index(drop=True)\n",
    "gap = df['DAM LMP_PRC'] - df[('RTM LMP_PRC', 1)]\n",
    "df = add_hours_dam(df, 1, 1)\n",
    "df = add_hours_rtm(df, 12, 1)\n",
    "\n",
    "Y_cols = ['Gap'] \n",
    "X_cols = [col for col in list(df) if col not in Y_cols+[\n",
    "('HASP LMP_CONG_PRC', 1),\n",
    "('HASP LMP_CONG_PRC', 2),\n",
    "('HASP LMP_CONG_PRC', 3),\n",
    "('HASP LMP_CONG_PRC', 4),\n",
    "('HASP LMP_ENE_PRC', 1),\n",
    "('HASP LMP_ENE_PRC', 2),\n",
    "('HASP LMP_ENE_PRC', 3),\n",
    "('HASP LMP_ENE_PRC', 4),\n",
    "('HASP LMP_GHG_PRC', 1),\n",
    "('HASP LMP_LOSS_PRC', 1),\n",
    "('HASP LMP_LOSS_PRC', 2),\n",
    "('HASP LMP_LOSS_PRC', 3),\n",
    "('HASP LMP_LOSS_PRC', 4),\n",
    "('HASP LMP_PRC', 1),\n",
    "('HASP LMP_PRC', 2),\n",
    "('HASP LMP_PRC', 3),\n",
    "('HASP LMP_PRC', 4),\n",
    "('RTM LMP_CONG_PRC', 1),\n",
    "('RTM LMP_CONG_PRC', 2),\n",
    "('RTM LMP_CONG_PRC', 3),\n",
    "('RTM LMP_CONG_PRC', 4),\n",
    "('RTM LMP_CONG_PRC', 5),\n",
    "('RTM LMP_CONG_PRC', 6),\n",
    "('RTM LMP_CONG_PRC', 7),\n",
    "('RTM LMP_CONG_PRC', 8),\n",
    "('RTM LMP_CONG_PRC', 9),\n",
    "('RTM LMP_CONG_PRC', 10),\n",
    "('RTM LMP_CONG_PRC', 11),\n",
    "('RTM LMP_CONG_PRC', 12),\n",
    "('RTM LMP_ENE_PRC', 1),\n",
    "('RTM LMP_ENE_PRC', 2),\n",
    "('RTM LMP_ENE_PRC', 3),\n",
    "('RTM LMP_ENE_PRC', 4),\n",
    "('RTM LMP_ENE_PRC', 5),\n",
    "('RTM LMP_ENE_PRC', 6),\n",
    "('RTM LMP_ENE_PRC', 7),\n",
    "('RTM LMP_ENE_PRC', 8),\n",
    "('RTM LMP_ENE_PRC', 9),\n",
    "('RTM LMP_ENE_PRC', 10),\n",
    "('RTM LMP_ENE_PRC', 11),\n",
    "('RTM LMP_ENE_PRC', 12),\n",
    "('RTM LMP_GHG_PRC', 1),\n",
    "('RTM LMP_GHG_PRC', 7),\n",
    "('RTM LMP_LOSS_PRC', 1),\n",
    "('RTM LMP_LOSS_PRC', 2),\n",
    "('RTM LMP_LOSS_PRC', 3),\n",
    "('RTM LMP_LOSS_PRC', 4),\n",
    "('RTM LMP_LOSS_PRC', 5),\n",
    "('RTM LMP_LOSS_PRC', 6),\n",
    "('RTM LMP_LOSS_PRC', 7),\n",
    "('RTM LMP_LOSS_PRC', 8),\n",
    "('RTM LMP_LOSS_PRC', 9),\n",
    "('RTM LMP_LOSS_PRC', 10),\n",
    "('RTM LMP_LOSS_PRC', 11),\n",
    "('RTM LMP_LOSS_PRC', 12),\n",
    "('RTM LMP_PRC', 1),\n",
    "('RTM LMP_PRC', 2),\n",
    "('RTM LMP_PRC', 3),\n",
    "('RTM LMP_PRC', 4),\n",
    "('RTM LMP_PRC', 5),\n",
    "('RTM LMP_PRC', 6),\n",
    "('RTM LMP_PRC', 7),\n",
    "('RTM LMP_PRC', 8),\n",
    "('RTM LMP_PRC', 9),\n",
    "('RTM LMP_PRC', 10),\n",
    "('RTM LMP_PRC', 11),\n",
    "('RTM LMP_PRC', 12),\n",
    "'DAM LMP_CONG_PRC',\n",
    "'DAM LMP_GHG_PRC',\n",
    "('HASP LMP_CONG_PRC', 1),\n",
    "('HASP LMP_CONG_PRC', 2),\n",
    "('HASP LMP_CONG_PRC', 3),\n",
    "('HASP LMP_CONG_PRC', 4),\n",
    "('HASP LMP_ENE_PRC', 1),\n",
    "('HASP LMP_ENE_PRC', 2),\n",
    "('HASP LMP_ENE_PRC', 3),\n",
    "('HASP LMP_ENE_PRC', 4),\n",
    "('HASP LMP_GHG_PRC', 1),\n",
    "('HASP LMP_LOSS_PRC', 1),\n",
    "('HASP LMP_LOSS_PRC', 2),\n",
    "('HASP LMP_LOSS_PRC', 3),\n",
    "('HASP LMP_LOSS_PRC', 4),\n",
    "('HASP LMP_PRC', 1),\n",
    "('HASP LMP_PRC', 2),\n",
    "('HASP LMP_PRC', 3),\n",
    "('HASP LMP_PRC', 4),\n",
    "('RTM LMP_CONG_PRC', 1),\n",
    "('RTM LMP_CONG_PRC', 2),\n",
    "('RTM LMP_CONG_PRC', 3),\n",
    "('RTM LMP_CONG_PRC', 4),\n",
    "('RTM LMP_CONG_PRC', 5),\n",
    "('RTM LMP_CONG_PRC', 6),\n",
    "('RTM LMP_CONG_PRC', 7),\n",
    "('RTM LMP_CONG_PRC', 8),\n",
    "('RTM LMP_CONG_PRC', 9),\n",
    "('RTM LMP_CONG_PRC', 10),\n",
    "('RTM LMP_CONG_PRC', 11),\n",
    "('RTM LMP_CONG_PRC', 12),\n",
    "('RTM LMP_GHG_PRC', 1),\n",
    "('RTM LMP_GHG_PRC', 7),\n",
    "'DAM LMP_ENE_PRC',\n",
    "'DAM LMP_LOSS_PRC',\n",
    "'Actual_Demand',\n",
    "('RTM LMP_PRC', 1),\n",
    "'DAM LMP_PRC',]]\n",
    "df.insert(0, 'Gap', gap)"
   ]
  },
  {
   "cell_type": "code",
   "execution_count": null,
   "metadata": {},
   "outputs": [],
   "source": [
    "Enrol_window = 150\n",
    "\n",
    "print ('enrol window set to',Enrol_window )"
   ]
  },
  {
   "cell_type": "code",
   "execution_count": null,
   "metadata": {},
   "outputs": [],
   "source": [
    "def create_dataset(dataset, look_back=1):\n",
    "    dataX, dataY = [], []\n",
    "    for i in range(len(dataset) - look_back - 1):\n",
    "        a = dataset[i:(i + look_back), :]\n",
    "        dataX.append(a)\n",
    "        dataY.append(dataset[i + look_back, 2])\n",
    "    return numpy.array(dataX), numpy.array(dataY)"
   ]
  },
  {
   "cell_type": "code",
   "execution_count": null,
   "metadata": {},
   "outputs": [],
   "source": []
  },
  {
   "cell_type": "code",
   "execution_count": null,
   "metadata": {},
   "outputs": [],
   "source": [
    "df.iloc[2:(2 + 1), :]"
   ]
  },
  {
   "cell_type": "code",
   "execution_count": null,
   "metadata": {},
   "outputs": [],
   "source": [
    "df.iloc[2,0]"
   ]
  },
  {
   "cell_type": "code",
   "execution_count": null,
   "metadata": {},
   "outputs": [],
   "source": [
    "\n",
    "def load_data(datasetname, column, look_back, normalise_window):\n",
    "    # A support function to help preparlook_backe datasets for an RNN/LSTM/GRU\n",
    " # A support function to help prepare datasets for an RNN/LSTM/GRU\n",
    "    data = datasetname\n",
    "\n",
    "    dataX, dataY = [], []\n",
    "    for i in range(len(data) - look_back - 1):\n",
    "        a = data.iloc[i:(i +look_back), 1:]\n",
    "        dataX.append(a)\n",
    "        dataY.append(data[i + look_back, 0])\n",
    "\n",
    "\n",
    "\n",
    "    # normalize the dataset\n",
    "    scaler = MinMaxScaler(feature_range=(0, 1))\n",
    "    data = scaler.fit_transform(data)\n",
    "\n",
    "    # split into train and test sets\n",
    "    train_size = int(len(data) * 0.67) \n",
    "    test_size = len(data) - train_size\n",
    "    train, test = data[0:train_size, :], data[train_size:len(data), :]\n",
    "\n",
    "    # reshape into X=t and Y=t+1\n",
    "    look_back = 3\n",
    "    trainX, trainY = create_dataset(train, look_back)  \n",
    "    testX, testY = create_dataset(test, look_back)\n",
    "\n",
    "    # reshape input to be  [samples, time steps, features]\n",
    "    trainX = numpy.reshape(trainX, (trainX.shape[0], look_back, 147))\n",
    "    testX = numpy.reshape(testX, (testX.shape[0],look_back, 147))\n",
    "\n",
    "\n",
    "\n",
    "#     sequence_length = seq_len + 1\n",
    "#     result = []\n",
    "#     for i in range(len(data) - sequence_length):\n",
    "#         result.append(data[i: i + sequence_length])\n",
    "    \n",
    "# #     if normalise_window:\n",
    "# # #         result = sc.fit_transform(result)\n",
    "# #         result = normalise_windows(result)\n",
    "\n",
    "#     result = np.array(result)\n",
    "\n",
    "#     #Last 10% is used for validation test, first 90% for training\n",
    "#     row = round(0.9 * result.shape[0])\n",
    "#     train = result[:int(row), :]\n",
    "#     np.random.shuffle(train)\n",
    "#     x_train = train[:, :-1]\n",
    "#     y_train = train[:, -1]\n",
    "#     x_test = result[int(row):, :-1]\n",
    "#     y_test = result[int(row):, -1]\n",
    "\n",
    "#     x_train = np.reshape(x_train, (x_train.shape[0], x_train.shape[1], 1))\n",
    "#     x_test = np.reshape(x_test, (x_test.shape[0], x_test.shape[1], 1))  \n",
    "\n",
    "    return [trainX, trainY, testX, testY]\n",
    "\n",
    "def normalise_windows(window_data):\n",
    "    # A support function to normalize a dataset\n",
    "    normalised_data = []\n",
    "    for window in window_data:\n",
    "        print(window)\n",
    "        break\n",
    "        normalised_window = [((float(p) / float(window[0])) - 1) for p in window]\n",
    "        normalised_data.append(normalised_window)\n",
    "    return normalised_data\n",
    "\n",
    "def predict_sequence_full(model, data, window_size):\n",
    "    #Shift the window by 1 new prediction each time, re-run predictions on new window\n",
    "    curr_frame = data[0]\n",
    "    predicted = []\n",
    "    for i in range(len(data)):\n",
    "        predicted.append(model.predict(curr_frame[newaxis,:,:])[0,0])\n",
    "        curr_frame = curr_frame[1:]\n",
    "        curr_frame = np.insert(curr_frame, [window_size-1], predicted[-1], axis=0)\n",
    "    return predicted\n",
    "\n",
    "def predict_sequences_multiple(model, data, window_size, prediction_len):\n",
    "    #Predict sequence of <prediction_len> steps before shifting prediction run forward by <prediction_len> steps\n",
    "    prediction_seqs = []\n",
    "    for i in range(int(len(data)/prediction_len)):\n",
    "        curr_frame = data[i*prediction_len]\n",
    "        predicted = []\n",
    "        for j in range(prediction_len):\n",
    "            predicted.append(model.predict(curr_frame[newaxis,:,:])[0,0])\n",
    "            curr_frame = curr_frame[1:]\n",
    "            curr_frame = np.insert(curr_frame, [window_size-1], predicted[-1], axis=0)\n",
    "        prediction_seqs.append(predicted)\n",
    "    return prediction_seqs\n",
    "\n",
    "def plot_results(predicted_data, true_data): \n",
    "    fig = plt.figure(facecolor='white') \n",
    "    ax = fig.add_subplot(111) \n",
    "    ax.plot(true_data, label='True Data') \n",
    "    plt.plot(predicted_data, label='Prediction') \n",
    "    plt.legend() \n",
    "    plt.show() \n",
    "    \n",
    "def plot_results_multiple(predicted_data, true_data, prediction_len):\n",
    "    fig = plt.figure(facecolor='white')\n",
    "    ax = fig.add_subplot(111)\n",
    "    ax.plot(true_data, label='True Data')\n",
    "    #Pad the list of predictions to shift it in the graph to it's correct start\n",
    "    for i, data in enumerate(predicted_data):\n",
    "        padding = [None for p in range(i * prediction_len)]\n",
    "        plt.plot(padding + data, label='Prediction')\n",
    "        plt.legend()\n",
    "    plt.show()\n",
    "\n",
    "print ('Support functions defined')"
   ]
  },
  {
   "cell_type": "code",
   "execution_count": null,
   "metadata": {},
   "outputs": [],
   "source": [
    "feature_train, label_train, feature_test, label_test = load_data(df, 'Gap', 24*7, True)"
   ]
  },
  {
   "cell_type": "code",
   "execution_count": null,
   "metadata": {},
   "outputs": [],
   "source": [
    "model = Sequential()\n",
    "model.add(LSTM(100, return_sequences=True, input_shape=(feature_train.shape[1],1)))\n",
    "model.add(Dropout(0.2))\n",
    "model.add(LSTM(100, return_sequences=False))\n",
    "model.add(Dropout(0.2))\n",
    "model.add(Dense(1, activation = \"linear\"))\n",
    "\n",
    "model.compile(loss='mse', optimizer='adam')\n",
    "\n",
    "print ('model compiled')\n"
   ]
  },
  {
   "cell_type": "code",
   "execution_count": null,
   "metadata": {},
   "outputs": [],
   "source": [
    "model.fit(feature_train, label_train, batch_size=512, epochs=10, validation_data = (feature_test, label_test))"
   ]
  },
  {
   "cell_type": "code",
   "execution_count": null,
   "metadata": {},
   "outputs": [],
   "source": [
    "lstm_gap = model.predict(feature_test)\n",
    "plot_results(lstm_gap,label_test)"
   ]
  },
  {
   "cell_type": "code",
   "execution_count": null,
   "metadata": {},
   "outputs": [],
   "source": [
    "np.save('LSTM_GAP.npy', predictions) # save predictions"
   ]
  },
  {
   "cell_type": "code",
   "execution_count": null,
   "metadata": {},
   "outputs": [],
   "source": [
    "lasso_gap = np.load('LASSO_GAP.npy')"
   ]
  },
  {
   "cell_type": "code",
   "execution_count": null,
   "metadata": {},
   "outputs": [],
   "source": [
    "svr_gap = np.load('SVR_GAP.npy')"
   ]
  },
  {
   "cell_type": "code",
   "execution_count": null,
   "metadata": {},
   "outputs": [],
   "source": [
    "sns.set_style(\"white\")\n",
    "plt.figure(figsize=(12,8))\n",
    "day = 22\n",
    "plt.plot(label_test[day*24+1:day*24+24],\n",
    "         label='Actual Values',\n",
    "         color='black',\n",
    "        linestyle='solid')\n",
    "plt.plot(lstm_gap[day*24+1:day*24+24],\n",
    "         label='LSTM',\n",
    "         color='green',linestyle='dashed')\n",
    "\n",
    "plt.plot(lasso_gap[day*24+1:day*24+24],\n",
    "         label='Lasso',\n",
    "         color='red',linestyle='dotted')\n",
    "\n",
    "# plt.plot(svr_gap[day*24:day*24+24],\n",
    "#          label='SVR',\n",
    "#          color='blue',linestyle='dashdot')\n",
    "\n",
    "# plt.plot(svr_gap[day*24+1:day*24+24],\n",
    "#          label='Lasso',\n",
    "#          color='red',linestyle=':')\n",
    "plt.legend()\n",
    "plt.xlim(0,24)\n",
    "plt.title('GAP Predicitons vs Actual Values', fontsize=18)\n",
    "plt.xlabel('Hour')\n",
    "plt.ylabel('Price')\n",
    "# plt.savefig('../images/dam_RNN_12_test_pred_vs_true_zoomed.jpg', bbox_inches='tight')\n",
    "plt.show();\n",
    "\n",
    "\n"
   ]
  },
  {
   "cell_type": "code",
   "execution_count": null,
   "metadata": {},
   "outputs": [],
   "source": [
    "\n",
    "plt.figure(figsize=(15,8))\n",
    "day = 34\n",
    "plt.plot(label_test,\n",
    "         label='test y-true',\n",
    "         alpha = 0.8,\n",
    "         color='grey')\n",
    "plt.plot(predicted_stock_price,\n",
    "         label='test predictions',\n",
    "         alpha = 0.5,\n",
    "         color='goldenrod')\n",
    "plt.legend()\n",
    "plt.xlim(0, 600)\n",
    "plt.title('LSTM RTM Test: preds vs true', fontsize=18)\n",
    "# plt.savefig('../images/dam_RNN_12_test_pred_vs_true_zoomed.jpg', bbox_inches='tight')\n",
    "plt.show();"
   ]
  },
  {
   "cell_type": "code",
   "execution_count": null,
   "metadata": {},
   "outputs": [],
   "source": [
    "Evaluate(label_test, predicted_stock_price)"
   ]
  },
  {
   "cell_type": "code",
   "execution_count": null,
   "metadata": {},
   "outputs": [],
   "source": [
    "\n",
    "\n",
    "\n",
    "\n",
    "\n"
   ]
  },
  {
   "cell_type": "code",
   "execution_count": null,
   "metadata": {},
   "outputs": [],
   "source": []
  },
  {
   "cell_type": "code",
   "execution_count": null,
   "metadata": {},
   "outputs": [],
   "source": []
  },
  {
   "cell_type": "code",
   "execution_count": null,
   "metadata": {},
   "outputs": [],
   "source": []
  },
  {
   "cell_type": "code",
   "execution_count": null,
   "metadata": {},
   "outputs": [],
   "source": []
  },
  {
   "cell_type": "code",
   "execution_count": 51,
   "metadata": {},
   "outputs": [],
   "source": [
    "df = pd.read_pickle('df.pkl')\n",
    "df = df.reset_index(drop=True)\n",
    "gap = df['DAM LMP_PRC'] - df[('RTM LMP_PRC', 1)]\n",
    "df = add_hours_dam(df, 1, 1)\n",
    "df = add_hours_rtm(df, 12, 1)\n",
    "\n",
    "Y_cols = ['Gap'] \n",
    "X_cols = [col for col in list(df) if col not in Y_cols+[\n",
    "('HASP LMP_CONG_PRC', 1),\n",
    "('HASP LMP_CONG_PRC', 2),\n",
    "('HASP LMP_CONG_PRC', 3),\n",
    "('HASP LMP_CONG_PRC', 4),\n",
    "('HASP LMP_ENE_PRC', 1),\n",
    "('HASP LMP_ENE_PRC', 2),\n",
    "('HASP LMP_ENE_PRC', 3),\n",
    "('HASP LMP_ENE_PRC', 4),\n",
    "('HASP LMP_GHG_PRC', 1),\n",
    "('HASP LMP_LOSS_PRC', 1),\n",
    "('HASP LMP_LOSS_PRC', 2),\n",
    "('HASP LMP_LOSS_PRC', 3),\n",
    "('HASP LMP_LOSS_PRC', 4),\n",
    "('HASP LMP_PRC', 1),\n",
    "('HASP LMP_PRC', 2),\n",
    "('HASP LMP_PRC', 3),\n",
    "('HASP LMP_PRC', 4),\n",
    "('RTM LMP_CONG_PRC', 1),\n",
    "('RTM LMP_CONG_PRC', 2),\n",
    "('RTM LMP_CONG_PRC', 3),\n",
    "('RTM LMP_CONG_PRC', 4),\n",
    "('RTM LMP_CONG_PRC', 5),\n",
    "('RTM LMP_CONG_PRC', 6),\n",
    "('RTM LMP_CONG_PRC', 7),\n",
    "('RTM LMP_CONG_PRC', 8),\n",
    "('RTM LMP_CONG_PRC', 9),\n",
    "('RTM LMP_CONG_PRC', 10),\n",
    "('RTM LMP_CONG_PRC', 11),\n",
    "('RTM LMP_CONG_PRC', 12),\n",
    "('RTM LMP_ENE_PRC', 1),\n",
    "('RTM LMP_ENE_PRC', 2),\n",
    "('RTM LMP_ENE_PRC', 3),\n",
    "('RTM LMP_ENE_PRC', 4),\n",
    "('RTM LMP_ENE_PRC', 5),\n",
    "('RTM LMP_ENE_PRC', 6),\n",
    "('RTM LMP_ENE_PRC', 7),\n",
    "('RTM LMP_ENE_PRC', 8),\n",
    "('RTM LMP_ENE_PRC', 9),\n",
    "('RTM LMP_ENE_PRC', 10),\n",
    "('RTM LMP_ENE_PRC', 11),\n",
    "('RTM LMP_ENE_PRC', 12),\n",
    "('RTM LMP_GHG_PRC', 1),\n",
    "('RTM LMP_GHG_PRC', 7),\n",
    "('RTM LMP_LOSS_PRC', 1),\n",
    "('RTM LMP_LOSS_PRC', 2),\n",
    "('RTM LMP_LOSS_PRC', 3),\n",
    "('RTM LMP_LOSS_PRC', 4),\n",
    "('RTM LMP_LOSS_PRC', 5),\n",
    "('RTM LMP_LOSS_PRC', 6),\n",
    "('RTM LMP_LOSS_PRC', 7),\n",
    "('RTM LMP_LOSS_PRC', 8),\n",
    "('RTM LMP_LOSS_PRC', 9),\n",
    "('RTM LMP_LOSS_PRC', 10),\n",
    "('RTM LMP_LOSS_PRC', 11),\n",
    "('RTM LMP_LOSS_PRC', 12),\n",
    "('RTM LMP_PRC', 1),\n",
    "('RTM LMP_PRC', 2),\n",
    "('RTM LMP_PRC', 3),\n",
    "('RTM LMP_PRC', 4),\n",
    "('RTM LMP_PRC', 5),\n",
    "('RTM LMP_PRC', 6),\n",
    "('RTM LMP_PRC', 7),\n",
    "('RTM LMP_PRC', 8),\n",
    "('RTM LMP_PRC', 9),\n",
    "('RTM LMP_PRC', 10),\n",
    "('RTM LMP_PRC', 11),\n",
    "('RTM LMP_PRC', 12),\n",
    "'DAM LMP_CONG_PRC',\n",
    "'DAM LMP_GHG_PRC',\n",
    "('HASP LMP_CONG_PRC', 1),\n",
    "('HASP LMP_CONG_PRC', 2),\n",
    "('HASP LMP_CONG_PRC', 3),\n",
    "('HASP LMP_CONG_PRC', 4),\n",
    "('HASP LMP_ENE_PRC', 1),\n",
    "('HASP LMP_ENE_PRC', 2),\n",
    "('HASP LMP_ENE_PRC', 3),\n",
    "('HASP LMP_ENE_PRC', 4),\n",
    "('HASP LMP_GHG_PRC', 1),\n",
    "('HASP LMP_LOSS_PRC', 1),\n",
    "('HASP LMP_LOSS_PRC', 2),\n",
    "('HASP LMP_LOSS_PRC', 3),\n",
    "('HASP LMP_LOSS_PRC', 4),\n",
    "('HASP LMP_PRC', 1),\n",
    "('HASP LMP_PRC', 2),\n",
    "('HASP LMP_PRC', 3),\n",
    "('HASP LMP_PRC', 4),\n",
    "('RTM LMP_CONG_PRC', 1),\n",
    "('RTM LMP_CONG_PRC', 2),\n",
    "('RTM LMP_CONG_PRC', 3),\n",
    "('RTM LMP_CONG_PRC', 4),\n",
    "('RTM LMP_CONG_PRC', 5),\n",
    "('RTM LMP_CONG_PRC', 6),\n",
    "('RTM LMP_CONG_PRC', 7),\n",
    "('RTM LMP_CONG_PRC', 8),\n",
    "('RTM LMP_CONG_PRC', 9),\n",
    "('RTM LMP_CONG_PRC', 10),\n",
    "('RTM LMP_CONG_PRC', 11),\n",
    "('RTM LMP_CONG_PRC', 12),\n",
    "('RTM LMP_GHG_PRC', 1),\n",
    "('RTM LMP_GHG_PRC', 7),\n",
    "'DAM LMP_ENE_PRC',\n",
    "'DAM LMP_LOSS_PRC',\n",
    "'Actual_Demand',\n",
    "('RTM LMP_PRC', 1),\n",
    "'DAM LMP_PRC',]]\n",
    "df.insert(0, 'Gap', gap)"
   ]
  },
  {
   "cell_type": "code",
   "execution_count": 52,
   "metadata": {},
   "outputs": [
    {
     "data": {
      "text/html": [
       "<div>\n",
       "<style scoped>\n",
       "    .dataframe tbody tr th:only-of-type {\n",
       "        vertical-align: middle;\n",
       "    }\n",
       "\n",
       "    .dataframe tbody tr th {\n",
       "        vertical-align: top;\n",
       "    }\n",
       "\n",
       "    .dataframe thead th {\n",
       "        text-align: right;\n",
       "    }\n",
       "</style>\n",
       "<table border=\"1\" class=\"dataframe\">\n",
       "  <thead>\n",
       "    <tr style=\"text-align: right;\">\n",
       "      <th></th>\n",
       "      <th>Gap</th>\n",
       "      <th>hr_index</th>\n",
       "      <th>Actual_Demand</th>\n",
       "      <th>(RT_Forecast_RTD, 1)</th>\n",
       "      <th>(RT_Forecast_RTD, 2)</th>\n",
       "      <th>(RT_Forecast_RTD, 3)</th>\n",
       "      <th>(RT_Forecast_RTD, 4)</th>\n",
       "      <th>(RT_Forecast_RTD, 5)</th>\n",
       "      <th>(RT_Forecast_RTD, 6)</th>\n",
       "      <th>(RT_Forecast_RTD, 7)</th>\n",
       "      <th>...</th>\n",
       "      <th>RTM_3_LMP_PRC_12_hours_ago</th>\n",
       "      <th>RTM_4_LMP_PRC_12_hours_ago</th>\n",
       "      <th>RTM_5_LMP_PRC_12_hours_ago</th>\n",
       "      <th>RTM_6_LMP_PRC_12_hours_ago</th>\n",
       "      <th>RTM_7_LMP_PRC_12_hours_ago</th>\n",
       "      <th>RTM_8_LMP_PRC_12_hours_ago</th>\n",
       "      <th>RTM_9_LMP_PRC_12_hours_ago</th>\n",
       "      <th>RTM_10_LMP_PRC_12_hours_ago</th>\n",
       "      <th>RTM_11_LMP_PRC_12_hours_ago</th>\n",
       "      <th>RTM_12_LMP_PRC_12_hours_ago</th>\n",
       "    </tr>\n",
       "  </thead>\n",
       "  <tbody>\n",
       "    <tr>\n",
       "      <th>0</th>\n",
       "      <td>10.13893</td>\n",
       "      <td>12.0</td>\n",
       "      <td>1902.0</td>\n",
       "      <td>1866.04</td>\n",
       "      <td>1862.35</td>\n",
       "      <td>1865.57</td>\n",
       "      <td>1863.19</td>\n",
       "      <td>1864.50</td>\n",
       "      <td>1886.38</td>\n",
       "      <td>1882.36</td>\n",
       "      <td>...</td>\n",
       "      <td>0.00000</td>\n",
       "      <td>0.00000</td>\n",
       "      <td>0.00000</td>\n",
       "      <td>0.00000</td>\n",
       "      <td>0.00000</td>\n",
       "      <td>0.00000</td>\n",
       "      <td>0.00000</td>\n",
       "      <td>0.00000</td>\n",
       "      <td>0.00000</td>\n",
       "      <td>0.00000</td>\n",
       "    </tr>\n",
       "    <tr>\n",
       "      <th>1</th>\n",
       "      <td>3.79165</td>\n",
       "      <td>13.0</td>\n",
       "      <td>1914.0</td>\n",
       "      <td>1902.73</td>\n",
       "      <td>1901.50</td>\n",
       "      <td>1901.30</td>\n",
       "      <td>1899.45</td>\n",
       "      <td>1898.14</td>\n",
       "      <td>1900.59</td>\n",
       "      <td>1900.76</td>\n",
       "      <td>...</td>\n",
       "      <td>8.11680</td>\n",
       "      <td>19.27188</td>\n",
       "      <td>5.95748</td>\n",
       "      <td>-0.00990</td>\n",
       "      <td>0.72576</td>\n",
       "      <td>19.38681</td>\n",
       "      <td>18.59591</td>\n",
       "      <td>13.90616</td>\n",
       "      <td>17.44703</td>\n",
       "      <td>13.90616</td>\n",
       "    </tr>\n",
       "    <tr>\n",
       "      <th>2</th>\n",
       "      <td>22.41365</td>\n",
       "      <td>14.0</td>\n",
       "      <td>1971.0</td>\n",
       "      <td>1915.80</td>\n",
       "      <td>1916.49</td>\n",
       "      <td>1921.39</td>\n",
       "      <td>1921.79</td>\n",
       "      <td>1923.29</td>\n",
       "      <td>1950.46</td>\n",
       "      <td>1955.50</td>\n",
       "      <td>...</td>\n",
       "      <td>14.29626</td>\n",
       "      <td>-0.01009</td>\n",
       "      <td>-0.01000</td>\n",
       "      <td>1.44879</td>\n",
       "      <td>3.97119</td>\n",
       "      <td>6.01381</td>\n",
       "      <td>1.10490</td>\n",
       "      <td>-0.00929</td>\n",
       "      <td>-0.00929</td>\n",
       "      <td>-0.01013</td>\n",
       "    </tr>\n",
       "    <tr>\n",
       "      <th>3</th>\n",
       "      <td>10.75528</td>\n",
       "      <td>15.0</td>\n",
       "      <td>2040.0</td>\n",
       "      <td>1991.30</td>\n",
       "      <td>1996.74</td>\n",
       "      <td>2002.85</td>\n",
       "      <td>2010.36</td>\n",
       "      <td>2017.79</td>\n",
       "      <td>2058.72</td>\n",
       "      <td>2069.04</td>\n",
       "      <td>...</td>\n",
       "      <td>-0.01009</td>\n",
       "      <td>-0.01014</td>\n",
       "      <td>-0.01014</td>\n",
       "      <td>-0.01009</td>\n",
       "      <td>-0.01018</td>\n",
       "      <td>-0.01007</td>\n",
       "      <td>12.77447</td>\n",
       "      <td>20.54274</td>\n",
       "      <td>20.54274</td>\n",
       "      <td>14.78049</td>\n",
       "    </tr>\n",
       "    <tr>\n",
       "      <th>4</th>\n",
       "      <td>5.76567</td>\n",
       "      <td>16.0</td>\n",
       "      <td>2229.0</td>\n",
       "      <td>2075.28</td>\n",
       "      <td>2083.49</td>\n",
       "      <td>2123.54</td>\n",
       "      <td>2135.49</td>\n",
       "      <td>2150.22</td>\n",
       "      <td>2164.55</td>\n",
       "      <td>2185.74</td>\n",
       "      <td>...</td>\n",
       "      <td>14.35317</td>\n",
       "      <td>-0.01020</td>\n",
       "      <td>0.00000</td>\n",
       "      <td>19.20287</td>\n",
       "      <td>22.16425</td>\n",
       "      <td>24.37334</td>\n",
       "      <td>25.74249</td>\n",
       "      <td>26.85688</td>\n",
       "      <td>26.97769</td>\n",
       "      <td>26.03962</td>\n",
       "    </tr>\n",
       "  </tbody>\n",
       "</table>\n",
       "<p>5 rows × 147 columns</p>\n",
       "</div>"
      ],
      "text/plain": [
       "        Gap  hr_index  Actual_Demand  (RT_Forecast_RTD, 1)  \\\n",
       "0  10.13893      12.0         1902.0               1866.04   \n",
       "1   3.79165      13.0         1914.0               1902.73   \n",
       "2  22.41365      14.0         1971.0               1915.80   \n",
       "3  10.75528      15.0         2040.0               1991.30   \n",
       "4   5.76567      16.0         2229.0               2075.28   \n",
       "\n",
       "   (RT_Forecast_RTD, 2)  (RT_Forecast_RTD, 3)  (RT_Forecast_RTD, 4)  \\\n",
       "0               1862.35               1865.57               1863.19   \n",
       "1               1901.50               1901.30               1899.45   \n",
       "2               1916.49               1921.39               1921.79   \n",
       "3               1996.74               2002.85               2010.36   \n",
       "4               2083.49               2123.54               2135.49   \n",
       "\n",
       "   (RT_Forecast_RTD, 5)  (RT_Forecast_RTD, 6)  (RT_Forecast_RTD, 7)  ...  \\\n",
       "0               1864.50               1886.38               1882.36  ...   \n",
       "1               1898.14               1900.59               1900.76  ...   \n",
       "2               1923.29               1950.46               1955.50  ...   \n",
       "3               2017.79               2058.72               2069.04  ...   \n",
       "4               2150.22               2164.55               2185.74  ...   \n",
       "\n",
       "   RTM_3_LMP_PRC_12_hours_ago  RTM_4_LMP_PRC_12_hours_ago  \\\n",
       "0                     0.00000                     0.00000   \n",
       "1                     8.11680                    19.27188   \n",
       "2                    14.29626                    -0.01009   \n",
       "3                    -0.01009                    -0.01014   \n",
       "4                    14.35317                    -0.01020   \n",
       "\n",
       "   RTM_5_LMP_PRC_12_hours_ago  RTM_6_LMP_PRC_12_hours_ago  \\\n",
       "0                     0.00000                     0.00000   \n",
       "1                     5.95748                    -0.00990   \n",
       "2                    -0.01000                     1.44879   \n",
       "3                    -0.01014                    -0.01009   \n",
       "4                     0.00000                    19.20287   \n",
       "\n",
       "   RTM_7_LMP_PRC_12_hours_ago  RTM_8_LMP_PRC_12_hours_ago  \\\n",
       "0                     0.00000                     0.00000   \n",
       "1                     0.72576                    19.38681   \n",
       "2                     3.97119                     6.01381   \n",
       "3                    -0.01018                    -0.01007   \n",
       "4                    22.16425                    24.37334   \n",
       "\n",
       "   RTM_9_LMP_PRC_12_hours_ago  RTM_10_LMP_PRC_12_hours_ago  \\\n",
       "0                     0.00000                      0.00000   \n",
       "1                    18.59591                     13.90616   \n",
       "2                     1.10490                     -0.00929   \n",
       "3                    12.77447                     20.54274   \n",
       "4                    25.74249                     26.85688   \n",
       "\n",
       "   RTM_11_LMP_PRC_12_hours_ago  RTM_12_LMP_PRC_12_hours_ago  \n",
       "0                      0.00000                      0.00000  \n",
       "1                     17.44703                     13.90616  \n",
       "2                     -0.00929                     -0.01013  \n",
       "3                     20.54274                     14.78049  \n",
       "4                     26.97769                     26.03962  \n",
       "\n",
       "[5 rows x 147 columns]"
      ]
     },
     "execution_count": 52,
     "metadata": {},
     "output_type": "execute_result"
    }
   ],
   "source": [
    "df.head()"
   ]
  },
  {
   "cell_type": "code",
   "execution_count": 53,
   "metadata": {},
   "outputs": [
    {
     "data": {
      "text/plain": [
       "array([0.39809673, 0.5       , 0.15275953, 0.41229342, 0.41114383,\n",
       "       0.41157212, 0.40942572, 0.40939242, 0.41390947, 0.4186092 ,\n",
       "       0.41803011, 0.42068074, 0.42022985, 0.4189475 , 0.42239989,\n",
       "       0.40613104, 0.41239644, 0.40898294, 0.40728038, 0.2097006 ,\n",
       "       0.18578991, 0.16328219, 0.98097741, 0.17845118, 0.60930233,\n",
       "       0.53125   , 0.8738    , 0.24915825, 0.69335557, 0.        ,\n",
       "       0.        , 0.24091091, 0.        , 0.13024371, 0.17019577,\n",
       "       1.        , 0.24      , 0.        , 0.98237288, 0.98098712,\n",
       "       0.        , 0.        , 0.        , 0.        , 0.        ,\n",
       "       0.        , 0.        , 0.52173913, 0.18383838, 0.87712288,\n",
       "       0.54280339, 0.30434783, 0.87712288, 0.54280339, 0.11111111,\n",
       "       0.        , 0.69464899, 0.28839655, 0.16870416, 0.04856002,\n",
       "       0.02875071, 0.        , 0.23721656, 0.02706878, 0.61749855,\n",
       "       0.21956803, 0.51343622, 0.63551091, 0.07534606, 0.07245904,\n",
       "       0.11672934, 0.11776151, 0.        , 0.36814026, 0.52138317,\n",
       "       0.50446041, 0.39032488, 0.12269448, 0.04277732, 0.18672064,\n",
       "       0.20934731, 0.29036672, 0.24628048, 0.1900009 , 0.29112449,\n",
       "       0.45260443, 0.45268185, 0.46039298, 0.45711882, 0.46001149,\n",
       "       0.20046524, 0.17798377, 0.1384887 , 0.15402354, 0.13872075,\n",
       "       0.1390451 , 0.14819494, 0.14390427, 0.13251904, 0.13140043,\n",
       "       0.13690501, 0.13507167, 0.12935743, 0.1295562 , 0.13053094,\n",
       "       0.        , 0.        , 0.12892103, 0.36617099, 0.27180075,\n",
       "       0.26722407, 0.27773696, 0.13523522, 0.14088193, 0.13721414,\n",
       "       0.12054488, 0.13486731, 0.17827992, 0.1565144 , 0.14190161,\n",
       "       0.124108  , 0.12145507, 0.1456762 , 0.1185163 , 0.12729736,\n",
       "       0.12915242, 0.12890404, 0.14526674, 0.13839692, 0.14012034,\n",
       "       0.13527739, 0.        , 1.        , 0.        , 0.02531105,\n",
       "       0.14514142, 0.12707018, 0.12476008, 0.14966264, 0.12247449,\n",
       "       0.13150269, 0.13331231, 0.13395038, 0.15030717, 0.14767417,\n",
       "       0.14944448, 0.14274665])"
      ]
     },
     "execution_count": 53,
     "metadata": {},
     "output_type": "execute_result"
    }
   ],
   "source": [
    "from sklearn.preprocessing import MinMaxScaler\n",
    "scaler = MinMaxScaler()\n",
    "values = df.values\n",
    "scaled = scaler.fit_transform(values)\n",
    "scaled[0]"
   ]
  },
  {
   "cell_type": "code",
   "execution_count": 54,
   "metadata": {},
   "outputs": [],
   "source": [
    "def to_supervised(data,dropNa = True,lag = 1):\n",
    "    df = pd.DataFrame(data)\n",
    "    column = []\n",
    "    column.append(df)\n",
    "    for i in range(1,lag+1):\n",
    "        column.append(df.shift(-i))\n",
    "    df = pd.concat(column,axis=1)\n",
    "    df.dropna(inplace = True)\n",
    "    features = data.shape[1]\n",
    "    df = df.values\n",
    "    supervised_data = df[:,:features*lag]\n",
    "    supervised_data = np.column_stack( [supervised_data, df[:,features*lag]])\n",
    "    return supervised_data"
   ]
  },
  {
   "cell_type": "code",
   "execution_count": 55,
   "metadata": {},
   "outputs": [
    {
     "data": {
      "text/html": [
       "<div>\n",
       "<style scoped>\n",
       "    .dataframe tbody tr th:only-of-type {\n",
       "        vertical-align: middle;\n",
       "    }\n",
       "\n",
       "    .dataframe tbody tr th {\n",
       "        vertical-align: top;\n",
       "    }\n",
       "\n",
       "    .dataframe thead th {\n",
       "        text-align: right;\n",
       "    }\n",
       "</style>\n",
       "<table border=\"1\" class=\"dataframe\">\n",
       "  <thead>\n",
       "    <tr style=\"text-align: right;\">\n",
       "      <th></th>\n",
       "      <th>0</th>\n",
       "      <th>1</th>\n",
       "      <th>2</th>\n",
       "      <th>3</th>\n",
       "      <th>4</th>\n",
       "      <th>5</th>\n",
       "      <th>6</th>\n",
       "      <th>7</th>\n",
       "      <th>8</th>\n",
       "      <th>9</th>\n",
       "      <th>...</th>\n",
       "      <th>138</th>\n",
       "      <th>139</th>\n",
       "      <th>140</th>\n",
       "      <th>141</th>\n",
       "      <th>142</th>\n",
       "      <th>143</th>\n",
       "      <th>144</th>\n",
       "      <th>145</th>\n",
       "      <th>146</th>\n",
       "      <th>147</th>\n",
       "    </tr>\n",
       "  </thead>\n",
       "  <tbody>\n",
       "    <tr>\n",
       "      <th>0</th>\n",
       "      <td>0.398097</td>\n",
       "      <td>0.500000</td>\n",
       "      <td>0.152760</td>\n",
       "      <td>0.412293</td>\n",
       "      <td>0.411144</td>\n",
       "      <td>0.411572</td>\n",
       "      <td>0.409426</td>\n",
       "      <td>0.409392</td>\n",
       "      <td>0.413909</td>\n",
       "      <td>0.418609</td>\n",
       "      <td>...</td>\n",
       "      <td>0.149663</td>\n",
       "      <td>0.122474</td>\n",
       "      <td>0.131503</td>\n",
       "      <td>0.133312</td>\n",
       "      <td>0.133950</td>\n",
       "      <td>0.150307</td>\n",
       "      <td>0.147674</td>\n",
       "      <td>0.149444</td>\n",
       "      <td>0.142747</td>\n",
       "      <td>0.396411</td>\n",
       "    </tr>\n",
       "    <tr>\n",
       "      <th>1</th>\n",
       "      <td>0.396411</td>\n",
       "      <td>0.541667</td>\n",
       "      <td>0.156702</td>\n",
       "      <td>0.420400</td>\n",
       "      <td>0.419787</td>\n",
       "      <td>0.419455</td>\n",
       "      <td>0.417394</td>\n",
       "      <td>0.416779</td>\n",
       "      <td>0.417027</td>\n",
       "      <td>0.422701</td>\n",
       "      <td>...</td>\n",
       "      <td>0.161566</td>\n",
       "      <td>0.125688</td>\n",
       "      <td>0.131497</td>\n",
       "      <td>0.133694</td>\n",
       "      <td>0.144205</td>\n",
       "      <td>0.160132</td>\n",
       "      <td>0.155730</td>\n",
       "      <td>0.159603</td>\n",
       "      <td>0.150877</td>\n",
       "      <td>0.401357</td>\n",
       "    </tr>\n",
       "    <tr>\n",
       "      <th>2</th>\n",
       "      <td>0.401357</td>\n",
       "      <td>0.583333</td>\n",
       "      <td>0.175427</td>\n",
       "      <td>0.423288</td>\n",
       "      <td>0.423096</td>\n",
       "      <td>0.423887</td>\n",
       "      <td>0.422303</td>\n",
       "      <td>0.422301</td>\n",
       "      <td>0.427970</td>\n",
       "      <td>0.434874</td>\n",
       "      <td>...</td>\n",
       "      <td>0.149656</td>\n",
       "      <td>0.122469</td>\n",
       "      <td>0.132276</td>\n",
       "      <td>0.135403</td>\n",
       "      <td>0.137131</td>\n",
       "      <td>0.150891</td>\n",
       "      <td>0.147669</td>\n",
       "      <td>0.149439</td>\n",
       "      <td>0.142741</td>\n",
       "      <td>0.398260</td>\n",
       "    </tr>\n",
       "    <tr>\n",
       "      <th>3</th>\n",
       "      <td>0.398260</td>\n",
       "      <td>0.625000</td>\n",
       "      <td>0.198095</td>\n",
       "      <td>0.439969</td>\n",
       "      <td>0.440813</td>\n",
       "      <td>0.441858</td>\n",
       "      <td>0.441766</td>\n",
       "      <td>0.443051</td>\n",
       "      <td>0.451724</td>\n",
       "      <td>0.460124</td>\n",
       "      <td>...</td>\n",
       "      <td>0.149656</td>\n",
       "      <td>0.122469</td>\n",
       "      <td>0.131497</td>\n",
       "      <td>0.133307</td>\n",
       "      <td>0.133945</td>\n",
       "      <td>0.157056</td>\n",
       "      <td>0.159575</td>\n",
       "      <td>0.161406</td>\n",
       "      <td>0.151388</td>\n",
       "      <td>0.396935</td>\n",
       "    </tr>\n",
       "    <tr>\n",
       "      <th>4</th>\n",
       "      <td>0.396935</td>\n",
       "      <td>0.666667</td>\n",
       "      <td>0.260184</td>\n",
       "      <td>0.458524</td>\n",
       "      <td>0.459964</td>\n",
       "      <td>0.468484</td>\n",
       "      <td>0.469262</td>\n",
       "      <td>0.472129</td>\n",
       "      <td>0.474946</td>\n",
       "      <td>0.486076</td>\n",
       "      <td>...</td>\n",
       "      <td>0.149656</td>\n",
       "      <td>0.122474</td>\n",
       "      <td>0.141755</td>\n",
       "      <td>0.144980</td>\n",
       "      <td>0.146842</td>\n",
       "      <td>0.163907</td>\n",
       "      <td>0.163233</td>\n",
       "      <td>0.165153</td>\n",
       "      <td>0.157970</td>\n",
       "      <td>0.400931</td>\n",
       "    </tr>\n",
       "  </tbody>\n",
       "</table>\n",
       "<p>5 rows × 148 columns</p>\n",
       "</div>"
      ],
      "text/plain": [
       "        0         1         2         3         4         5         6    \\\n",
       "0  0.398097  0.500000  0.152760  0.412293  0.411144  0.411572  0.409426   \n",
       "1  0.396411  0.541667  0.156702  0.420400  0.419787  0.419455  0.417394   \n",
       "2  0.401357  0.583333  0.175427  0.423288  0.423096  0.423887  0.422303   \n",
       "3  0.398260  0.625000  0.198095  0.439969  0.440813  0.441858  0.441766   \n",
       "4  0.396935  0.666667  0.260184  0.458524  0.459964  0.468484  0.469262   \n",
       "\n",
       "        7         8         9    ...       138       139       140       141  \\\n",
       "0  0.409392  0.413909  0.418609  ...  0.149663  0.122474  0.131503  0.133312   \n",
       "1  0.416779  0.417027  0.422701  ...  0.161566  0.125688  0.131497  0.133694   \n",
       "2  0.422301  0.427970  0.434874  ...  0.149656  0.122469  0.132276  0.135403   \n",
       "3  0.443051  0.451724  0.460124  ...  0.149656  0.122469  0.131497  0.133307   \n",
       "4  0.472129  0.474946  0.486076  ...  0.149656  0.122474  0.141755  0.144980   \n",
       "\n",
       "        142       143       144       145       146       147  \n",
       "0  0.133950  0.150307  0.147674  0.149444  0.142747  0.396411  \n",
       "1  0.144205  0.160132  0.155730  0.159603  0.150877  0.401357  \n",
       "2  0.137131  0.150891  0.147669  0.149439  0.142741  0.398260  \n",
       "3  0.133945  0.157056  0.159575  0.161406  0.151388  0.396935  \n",
       "4  0.146842  0.163907  0.163233  0.165153  0.157970  0.400931  \n",
       "\n",
       "[5 rows x 148 columns]"
      ]
     },
     "execution_count": 55,
     "metadata": {},
     "output_type": "execute_result"
    }
   ],
   "source": [
    "timeSteps = 1\n",
    "\n",
    "supervised = to_supervised(scaled,lag=timeSteps)\n",
    "pd.DataFrame(supervised).head()"
   ]
  },
  {
   "cell_type": "code",
   "execution_count": 56,
   "metadata": {},
   "outputs": [],
   "source": [
    "features = df.shape[1]\n",
    "train_hours = 550*24\n",
    "X = supervised[:,:features*timeSteps]\n",
    "y = supervised[:,features*timeSteps]\n",
    "\n",
    "x_train = X[:train_hours,:]\n",
    "x_test = X[train_hours:,:]\n",
    "y_train = y[:train_hours]\n",
    "y_test = y[train_hours:]\n",
    "\n"
   ]
  },
  {
   "cell_type": "code",
   "execution_count": 57,
   "metadata": {},
   "outputs": [
    {
     "data": {
      "text/plain": [
       "147"
      ]
     },
     "execution_count": 57,
     "metadata": {},
     "output_type": "execute_result"
    }
   ],
   "source": [
    "features"
   ]
  },
  {
   "cell_type": "code",
   "execution_count": 58,
   "metadata": {},
   "outputs": [
    {
     "data": {
      "text/plain": [
       "(3365, 147)"
      ]
     },
     "execution_count": 58,
     "metadata": {},
     "output_type": "execute_result"
    }
   ],
   "source": [
    "x_test.shape"
   ]
  },
  {
   "cell_type": "code",
   "execution_count": 59,
   "metadata": {},
   "outputs": [
    {
     "data": {
      "text/plain": [
       "(13200,)"
      ]
     },
     "execution_count": 59,
     "metadata": {},
     "output_type": "execute_result"
    }
   ],
   "source": [
    "y_train.shape"
   ]
  },
  {
   "cell_type": "code",
   "execution_count": 60,
   "metadata": {},
   "outputs": [
    {
     "data": {
      "text/plain": [
       "(3365,)"
      ]
     },
     "execution_count": 60,
     "metadata": {},
     "output_type": "execute_result"
    }
   ],
   "source": [
    "y_test.shape"
   ]
  },
  {
   "cell_type": "code",
   "execution_count": 162,
   "metadata": {},
   "outputs": [],
   "source": [
    "\n",
    "#convert data to fit for lstm\n",
    "#dimensions = (sample, timeSteps here it is 1, features )\n",
    "\n",
    "x_train = x_train.reshape(x_train.shape[0], timeSteps, features)\n",
    "x_test = x_test.reshape(x_test.shape[0], timeSteps, features)\n"
   ]
  },
  {
   "cell_type": "code",
   "execution_count": 163,
   "metadata": {},
   "outputs": [
    {
     "data": {
      "text/plain": [
       "(13200, 1, 147)"
      ]
     },
     "execution_count": 163,
     "metadata": {},
     "output_type": "execute_result"
    }
   ],
   "source": [
    "x_train.shape"
   ]
  },
  {
   "cell_type": "code",
   "execution_count": 164,
   "metadata": {},
   "outputs": [
    {
     "data": {
      "text/plain": [
       "(3365, 1, 147)"
      ]
     },
     "execution_count": 164,
     "metadata": {},
     "output_type": "execute_result"
    }
   ],
   "source": [
    "x_test.shape"
   ]
  },
  {
   "cell_type": "code",
   "execution_count": 168,
   "metadata": {},
   "outputs": [
    {
     "name": "stdout",
     "output_type": "stream",
     "text": [
      "Train on 13200 samples, validate on 3365 samples\n",
      "Epoch 1/10\n",
      "13200/13200 [==============================] - 2s 129us/step - loss: 0.0049 - val_loss: 4.1087e-04\n",
      "Epoch 2/10\n",
      "13200/13200 [==============================] - 1s 48us/step - loss: 6.8740e-04 - val_loss: 5.6162e-04\n",
      "Epoch 3/10\n",
      "13200/13200 [==============================] - 1s 48us/step - loss: 6.1448e-04 - val_loss: 7.7896e-04\n",
      "Epoch 4/10\n",
      "13200/13200 [==============================] - 1s 47us/step - loss: 5.8218e-04 - val_loss: 8.9549e-04\n",
      "Epoch 5/10\n",
      "13200/13200 [==============================] - 1s 49us/step - loss: 5.5893e-04 - val_loss: 7.4084e-04\n",
      "Epoch 6/10\n",
      "13200/13200 [==============================] - 1s 48us/step - loss: 5.4283e-04 - val_loss: 5.5809e-04\n",
      "Epoch 7/10\n",
      "13200/13200 [==============================] - 1s 49us/step - loss: 5.3027e-04 - val_loss: 4.8990e-04\n",
      "Epoch 8/10\n",
      " 5832/13200 [============>.................] - ETA: 0s - loss: 2.9683e-04"
     ]
    },
    {
     "ename": "KeyboardInterrupt",
     "evalue": "",
     "output_type": "error",
     "traceback": [
      "\u001b[1;31m---------------------------------------------------------------------------\u001b[0m",
      "\u001b[1;31mKeyboardInterrupt\u001b[0m                         Traceback (most recent call last)",
      "\u001b[1;32m<ipython-input-168-6668240d047d>\u001b[0m in \u001b[0;36m<module>\u001b[1;34m\u001b[0m\n\u001b[0;32m      9\u001b[0m \u001b[1;33m\u001b[0m\u001b[0m\n\u001b[0;32m     10\u001b[0m \u001b[1;31m# model.fit(feature_train, label_train, batch_size=512, epochs=200, validation_data = (feature_test, label_test)\u001b[0m\u001b[1;33m\u001b[0m\u001b[1;33m\u001b[0m\u001b[1;33m\u001b[0m\u001b[0m\n\u001b[1;32m---> 11\u001b[1;33m \u001b[0mhistory\u001b[0m \u001b[1;33m=\u001b[0m  \u001b[0mmodel\u001b[0m\u001b[1;33m.\u001b[0m\u001b[0mfit\u001b[0m\u001b[1;33m(\u001b[0m \u001b[0mx_train\u001b[0m\u001b[1;33m,\u001b[0m\u001b[0my_train\u001b[0m\u001b[1;33m,\u001b[0m \u001b[0mvalidation_data\u001b[0m \u001b[1;33m=\u001b[0m \u001b[1;33m(\u001b[0m\u001b[0mx_test\u001b[0m\u001b[1;33m,\u001b[0m\u001b[0my_test\u001b[0m\u001b[1;33m)\u001b[0m\u001b[1;33m,\u001b[0m \u001b[0mepochs\u001b[0m \u001b[1;33m=\u001b[0m \u001b[1;36m10\u001b[0m \u001b[1;33m,\u001b[0m \u001b[0mbatch_size\u001b[0m \u001b[1;33m=\u001b[0m \u001b[1;36m72\u001b[0m\u001b[1;33m,\u001b[0m \u001b[0mverbose\u001b[0m \u001b[1;33m=\u001b[0m \u001b[1;36m1\u001b[0m\u001b[1;33m,\u001b[0m \u001b[0mshuffle\u001b[0m \u001b[1;33m=\u001b[0m \u001b[1;32mFalse\u001b[0m\u001b[1;33m)\u001b[0m\u001b[1;33m\u001b[0m\u001b[1;33m\u001b[0m\u001b[0m\n\u001b[0m\u001b[0;32m     12\u001b[0m \u001b[1;31m# model = Sequential()\u001b[0m\u001b[1;33m\u001b[0m\u001b[1;33m\u001b[0m\u001b[1;33m\u001b[0m\u001b[0m\n\u001b[0;32m     13\u001b[0m \u001b[1;31m# model.add( LSTM( 50, input_shape = ( timeSteps, x_train.shape[2]) ) )\u001b[0m\u001b[1;33m\u001b[0m\u001b[1;33m\u001b[0m\u001b[1;33m\u001b[0m\u001b[0m\n",
      "\u001b[1;32m~\\Anaconda3\\envs\\PricePrediction\\lib\\site-packages\\keras\\engine\\training.py\u001b[0m in \u001b[0;36mfit\u001b[1;34m(self, x, y, batch_size, epochs, verbose, callbacks, validation_split, validation_data, shuffle, class_weight, sample_weight, initial_epoch, steps_per_epoch, validation_steps, validation_freq, max_queue_size, workers, use_multiprocessing, **kwargs)\u001b[0m\n\u001b[0;32m   1237\u001b[0m                                         \u001b[0msteps_per_epoch\u001b[0m\u001b[1;33m=\u001b[0m\u001b[0msteps_per_epoch\u001b[0m\u001b[1;33m,\u001b[0m\u001b[1;33m\u001b[0m\u001b[1;33m\u001b[0m\u001b[0m\n\u001b[0;32m   1238\u001b[0m                                         \u001b[0mvalidation_steps\u001b[0m\u001b[1;33m=\u001b[0m\u001b[0mvalidation_steps\u001b[0m\u001b[1;33m,\u001b[0m\u001b[1;33m\u001b[0m\u001b[1;33m\u001b[0m\u001b[0m\n\u001b[1;32m-> 1239\u001b[1;33m                                         validation_freq=validation_freq)\n\u001b[0m\u001b[0;32m   1240\u001b[0m \u001b[1;33m\u001b[0m\u001b[0m\n\u001b[0;32m   1241\u001b[0m     def evaluate(self,\n",
      "\u001b[1;32m~\\Anaconda3\\envs\\PricePrediction\\lib\\site-packages\\keras\\engine\\training_arrays.py\u001b[0m in \u001b[0;36mfit_loop\u001b[1;34m(model, fit_function, fit_inputs, out_labels, batch_size, epochs, verbose, callbacks, val_function, val_inputs, shuffle, initial_epoch, steps_per_epoch, validation_steps, validation_freq)\u001b[0m\n\u001b[0;32m    194\u001b[0m                     \u001b[0mins_batch\u001b[0m\u001b[1;33m[\u001b[0m\u001b[0mi\u001b[0m\u001b[1;33m]\u001b[0m \u001b[1;33m=\u001b[0m \u001b[0mins_batch\u001b[0m\u001b[1;33m[\u001b[0m\u001b[0mi\u001b[0m\u001b[1;33m]\u001b[0m\u001b[1;33m.\u001b[0m\u001b[0mtoarray\u001b[0m\u001b[1;33m(\u001b[0m\u001b[1;33m)\u001b[0m\u001b[1;33m\u001b[0m\u001b[1;33m\u001b[0m\u001b[0m\n\u001b[0;32m    195\u001b[0m \u001b[1;33m\u001b[0m\u001b[0m\n\u001b[1;32m--> 196\u001b[1;33m                 \u001b[0mouts\u001b[0m \u001b[1;33m=\u001b[0m \u001b[0mfit_function\u001b[0m\u001b[1;33m(\u001b[0m\u001b[0mins_batch\u001b[0m\u001b[1;33m)\u001b[0m\u001b[1;33m\u001b[0m\u001b[1;33m\u001b[0m\u001b[0m\n\u001b[0m\u001b[0;32m    197\u001b[0m                 \u001b[0mouts\u001b[0m \u001b[1;33m=\u001b[0m \u001b[0mto_list\u001b[0m\u001b[1;33m(\u001b[0m\u001b[0mouts\u001b[0m\u001b[1;33m)\u001b[0m\u001b[1;33m\u001b[0m\u001b[1;33m\u001b[0m\u001b[0m\n\u001b[0;32m    198\u001b[0m                 \u001b[1;32mfor\u001b[0m \u001b[0ml\u001b[0m\u001b[1;33m,\u001b[0m \u001b[0mo\u001b[0m \u001b[1;32min\u001b[0m \u001b[0mzip\u001b[0m\u001b[1;33m(\u001b[0m\u001b[0mout_labels\u001b[0m\u001b[1;33m,\u001b[0m \u001b[0mouts\u001b[0m\u001b[1;33m)\u001b[0m\u001b[1;33m:\u001b[0m\u001b[1;33m\u001b[0m\u001b[1;33m\u001b[0m\u001b[0m\n",
      "\u001b[1;32m~\\Anaconda3\\envs\\PricePrediction\\lib\\site-packages\\tensorflow_core\\python\\keras\\backend.py\u001b[0m in \u001b[0;36m__call__\u001b[1;34m(self, inputs)\u001b[0m\n\u001b[0;32m   3725\u001b[0m         \u001b[0mvalue\u001b[0m \u001b[1;33m=\u001b[0m \u001b[0mmath_ops\u001b[0m\u001b[1;33m.\u001b[0m\u001b[0mcast\u001b[0m\u001b[1;33m(\u001b[0m\u001b[0mvalue\u001b[0m\u001b[1;33m,\u001b[0m \u001b[0mtensor\u001b[0m\u001b[1;33m.\u001b[0m\u001b[0mdtype\u001b[0m\u001b[1;33m)\u001b[0m\u001b[1;33m\u001b[0m\u001b[1;33m\u001b[0m\u001b[0m\n\u001b[0;32m   3726\u001b[0m       \u001b[0mconverted_inputs\u001b[0m\u001b[1;33m.\u001b[0m\u001b[0mappend\u001b[0m\u001b[1;33m(\u001b[0m\u001b[0mvalue\u001b[0m\u001b[1;33m)\u001b[0m\u001b[1;33m\u001b[0m\u001b[1;33m\u001b[0m\u001b[0m\n\u001b[1;32m-> 3727\u001b[1;33m     \u001b[0moutputs\u001b[0m \u001b[1;33m=\u001b[0m \u001b[0mself\u001b[0m\u001b[1;33m.\u001b[0m\u001b[0m_graph_fn\u001b[0m\u001b[1;33m(\u001b[0m\u001b[1;33m*\u001b[0m\u001b[0mconverted_inputs\u001b[0m\u001b[1;33m)\u001b[0m\u001b[1;33m\u001b[0m\u001b[1;33m\u001b[0m\u001b[0m\n\u001b[0m\u001b[0;32m   3728\u001b[0m \u001b[1;33m\u001b[0m\u001b[0m\n\u001b[0;32m   3729\u001b[0m     \u001b[1;31m# EagerTensor.numpy() will often make a copy to ensure memory safety.\u001b[0m\u001b[1;33m\u001b[0m\u001b[1;33m\u001b[0m\u001b[1;33m\u001b[0m\u001b[0m\n",
      "\u001b[1;32m~\\Anaconda3\\envs\\PricePrediction\\lib\\site-packages\\tensorflow_core\\python\\eager\\function.py\u001b[0m in \u001b[0;36m__call__\u001b[1;34m(self, *args, **kwargs)\u001b[0m\n\u001b[0;32m   1549\u001b[0m       \u001b[0mTypeError\u001b[0m\u001b[1;33m:\u001b[0m \u001b[0mFor\u001b[0m \u001b[0minvalid\u001b[0m \u001b[0mpositional\u001b[0m\u001b[1;33m/\u001b[0m\u001b[0mkeyword\u001b[0m \u001b[0margument\u001b[0m \u001b[0mcombinations\u001b[0m\u001b[1;33m.\u001b[0m\u001b[1;33m\u001b[0m\u001b[1;33m\u001b[0m\u001b[0m\n\u001b[0;32m   1550\u001b[0m     \"\"\"\n\u001b[1;32m-> 1551\u001b[1;33m     \u001b[1;32mreturn\u001b[0m \u001b[0mself\u001b[0m\u001b[1;33m.\u001b[0m\u001b[0m_call_impl\u001b[0m\u001b[1;33m(\u001b[0m\u001b[0margs\u001b[0m\u001b[1;33m,\u001b[0m \u001b[0mkwargs\u001b[0m\u001b[1;33m)\u001b[0m\u001b[1;33m\u001b[0m\u001b[1;33m\u001b[0m\u001b[0m\n\u001b[0m\u001b[0;32m   1552\u001b[0m \u001b[1;33m\u001b[0m\u001b[0m\n\u001b[0;32m   1553\u001b[0m   \u001b[1;32mdef\u001b[0m \u001b[0m_call_impl\u001b[0m\u001b[1;33m(\u001b[0m\u001b[0mself\u001b[0m\u001b[1;33m,\u001b[0m \u001b[0margs\u001b[0m\u001b[1;33m,\u001b[0m \u001b[0mkwargs\u001b[0m\u001b[1;33m,\u001b[0m \u001b[0mcancellation_manager\u001b[0m\u001b[1;33m=\u001b[0m\u001b[1;32mNone\u001b[0m\u001b[1;33m)\u001b[0m\u001b[1;33m:\u001b[0m\u001b[1;33m\u001b[0m\u001b[1;33m\u001b[0m\u001b[0m\n",
      "\u001b[1;32m~\\Anaconda3\\envs\\PricePrediction\\lib\\site-packages\\tensorflow_core\\python\\eager\\function.py\u001b[0m in \u001b[0;36m_call_impl\u001b[1;34m(self, args, kwargs, cancellation_manager)\u001b[0m\n\u001b[0;32m   1589\u001b[0m       raise TypeError(\"Keyword arguments {} unknown. Expected {}.\".format(\n\u001b[0;32m   1590\u001b[0m           list(kwargs.keys()), list(self._arg_keywords)))\n\u001b[1;32m-> 1591\u001b[1;33m     \u001b[1;32mreturn\u001b[0m \u001b[0mself\u001b[0m\u001b[1;33m.\u001b[0m\u001b[0m_call_flat\u001b[0m\u001b[1;33m(\u001b[0m\u001b[0margs\u001b[0m\u001b[1;33m,\u001b[0m \u001b[0mself\u001b[0m\u001b[1;33m.\u001b[0m\u001b[0mcaptured_inputs\u001b[0m\u001b[1;33m,\u001b[0m \u001b[0mcancellation_manager\u001b[0m\u001b[1;33m)\u001b[0m\u001b[1;33m\u001b[0m\u001b[1;33m\u001b[0m\u001b[0m\n\u001b[0m\u001b[0;32m   1592\u001b[0m \u001b[1;33m\u001b[0m\u001b[0m\n\u001b[0;32m   1593\u001b[0m   \u001b[1;32mdef\u001b[0m \u001b[0m_filtered_call\u001b[0m\u001b[1;33m(\u001b[0m\u001b[0mself\u001b[0m\u001b[1;33m,\u001b[0m \u001b[0margs\u001b[0m\u001b[1;33m,\u001b[0m \u001b[0mkwargs\u001b[0m\u001b[1;33m)\u001b[0m\u001b[1;33m:\u001b[0m\u001b[1;33m\u001b[0m\u001b[1;33m\u001b[0m\u001b[0m\n",
      "\u001b[1;32m~\\Anaconda3\\envs\\PricePrediction\\lib\\site-packages\\tensorflow_core\\python\\eager\\function.py\u001b[0m in \u001b[0;36m_call_flat\u001b[1;34m(self, args, captured_inputs, cancellation_manager)\u001b[0m\n\u001b[0;32m   1690\u001b[0m       \u001b[1;31m# No tape is watching; skip to running the function.\u001b[0m\u001b[1;33m\u001b[0m\u001b[1;33m\u001b[0m\u001b[1;33m\u001b[0m\u001b[0m\n\u001b[0;32m   1691\u001b[0m       return self._build_call_outputs(self._inference_function.call(\n\u001b[1;32m-> 1692\u001b[1;33m           ctx, args, cancellation_manager=cancellation_manager))\n\u001b[0m\u001b[0;32m   1693\u001b[0m     forward_backward = self._select_forward_and_backward_functions(\n\u001b[0;32m   1694\u001b[0m         \u001b[0margs\u001b[0m\u001b[1;33m,\u001b[0m\u001b[1;33m\u001b[0m\u001b[1;33m\u001b[0m\u001b[0m\n",
      "\u001b[1;32m~\\Anaconda3\\envs\\PricePrediction\\lib\\site-packages\\tensorflow_core\\python\\eager\\function.py\u001b[0m in \u001b[0;36mcall\u001b[1;34m(self, ctx, args, cancellation_manager)\u001b[0m\n\u001b[0;32m    543\u001b[0m               \u001b[0minputs\u001b[0m\u001b[1;33m=\u001b[0m\u001b[0margs\u001b[0m\u001b[1;33m,\u001b[0m\u001b[1;33m\u001b[0m\u001b[1;33m\u001b[0m\u001b[0m\n\u001b[0;32m    544\u001b[0m               \u001b[0mattrs\u001b[0m\u001b[1;33m=\u001b[0m\u001b[1;33m(\u001b[0m\u001b[1;34m\"executor_type\"\u001b[0m\u001b[1;33m,\u001b[0m \u001b[0mexecutor_type\u001b[0m\u001b[1;33m,\u001b[0m \u001b[1;34m\"config_proto\"\u001b[0m\u001b[1;33m,\u001b[0m \u001b[0mconfig\u001b[0m\u001b[1;33m)\u001b[0m\u001b[1;33m,\u001b[0m\u001b[1;33m\u001b[0m\u001b[1;33m\u001b[0m\u001b[0m\n\u001b[1;32m--> 545\u001b[1;33m               ctx=ctx)\n\u001b[0m\u001b[0;32m    546\u001b[0m         \u001b[1;32melse\u001b[0m\u001b[1;33m:\u001b[0m\u001b[1;33m\u001b[0m\u001b[1;33m\u001b[0m\u001b[0m\n\u001b[0;32m    547\u001b[0m           outputs = execute.execute_with_cancellation(\n",
      "\u001b[1;32m~\\Anaconda3\\envs\\PricePrediction\\lib\\site-packages\\tensorflow_core\\python\\eager\\execute.py\u001b[0m in \u001b[0;36mquick_execute\u001b[1;34m(op_name, num_outputs, inputs, attrs, ctx, name)\u001b[0m\n\u001b[0;32m     59\u001b[0m     tensors = pywrap_tensorflow.TFE_Py_Execute(ctx._handle, device_name,\n\u001b[0;32m     60\u001b[0m                                                \u001b[0mop_name\u001b[0m\u001b[1;33m,\u001b[0m \u001b[0minputs\u001b[0m\u001b[1;33m,\u001b[0m \u001b[0mattrs\u001b[0m\u001b[1;33m,\u001b[0m\u001b[1;33m\u001b[0m\u001b[1;33m\u001b[0m\u001b[0m\n\u001b[1;32m---> 61\u001b[1;33m                                                num_outputs)\n\u001b[0m\u001b[0;32m     62\u001b[0m   \u001b[1;32mexcept\u001b[0m \u001b[0mcore\u001b[0m\u001b[1;33m.\u001b[0m\u001b[0m_NotOkStatusException\u001b[0m \u001b[1;32mas\u001b[0m \u001b[0me\u001b[0m\u001b[1;33m:\u001b[0m\u001b[1;33m\u001b[0m\u001b[1;33m\u001b[0m\u001b[0m\n\u001b[0;32m     63\u001b[0m     \u001b[1;32mif\u001b[0m \u001b[0mname\u001b[0m \u001b[1;32mis\u001b[0m \u001b[1;32mnot\u001b[0m \u001b[1;32mNone\u001b[0m\u001b[1;33m:\u001b[0m\u001b[1;33m\u001b[0m\u001b[1;33m\u001b[0m\u001b[0m\n",
      "\u001b[1;31mKeyboardInterrupt\u001b[0m: "
     ]
    }
   ],
   "source": [
    "\n",
    "model = Sequential()\n",
    "model.add(LSTM(100, return_sequences=True, input_shape = ( timeSteps, x_train.shape[2]) ))\n",
    "# model.add(Dropout(0.2))\n",
    "model.add(LSTM(100, return_sequences=False))\n",
    "# model.add(Dropout(0.2))\n",
    "model.add(Dense(1, activation='linear'))\n",
    "\n",
    "model.compile(loss='mse', optimizer='adam')\n",
    "\n",
    "# model.fit(feature_train, label_train, batch_size=512, epochs=200, validation_data = (feature_test, label_test)\n",
    "history =  model.fit( x_train,y_train, validation_data = (x_test,y_test), epochs = 10 , batch_size = 72, verbose = 1, shuffle = False)          \n",
    "# model = Sequential()\n",
    "# model.add( LSTM( 50, input_shape = ( timeSteps, x_train.shape[2]) ) )\n",
    "# model.add( Dense(1) )\n",
    "\n",
    "# model.compile( loss = \"mse\", optimizer = \"adam\")\n",
    "\n",
    "# history =  model.fit( x_train,y_train, validation_data = (x_test,y_test), epochs = 50 , batch_size = 72, verbose = 1, shuffle = False)"
   ]
  },
  {
   "cell_type": "code",
   "execution_count": 165,
   "metadata": {},
   "outputs": [
    {
     "data": {
      "text/plain": [
       "(3365, 1, 147)"
      ]
     },
     "execution_count": 165,
     "metadata": {},
     "output_type": "execute_result"
    }
   ],
   "source": [
    "x_test.shape"
   ]
  },
  {
   "cell_type": "code",
   "execution_count": 166,
   "metadata": {},
   "outputs": [
    {
     "data": {
      "image/png": "[encoded data removed]",
      "text/plain": [
       "<Figure size 432x288 with 1 Axes>"
      ]
     },
     "metadata": {},
     "output_type": "display_data"
    }
   ],
   "source": [
    "plt.plot(history.history['loss'], label='train')\n",
    "plt.plot(history.history['val_loss'], label='test')\n",
    "plt.legend()\n",
    "plt.yticks([])\n",
    "plt.xticks([])\n",
    "plt.title(\"loss during training\")\n",
    "plt.show()"
   ]
  },
  {
   "cell_type": "code",
   "execution_count": 167,
   "metadata": {},
   "outputs": [
    {
     "ename": "ValueError",
     "evalue": "Error when checking input: expected lstm_18_input to have shape (3, 147) but got array with shape (1, 147)",
     "output_type": "error",
     "traceback": [
      "\u001b[1;31m---------------------------------------------------------------------------\u001b[0m",
      "\u001b[1;31mValueError\u001b[0m                                Traceback (most recent call last)",
      "\u001b[1;32m<ipython-input-167-7ced038f8a77>\u001b[0m in \u001b[0;36m<module>\u001b[1;34m\u001b[0m\n\u001b[1;32m----> 1\u001b[1;33m \u001b[0my_pred\u001b[0m \u001b[1;33m=\u001b[0m \u001b[0mmodel\u001b[0m\u001b[1;33m.\u001b[0m\u001b[0mpredict\u001b[0m\u001b[1;33m(\u001b[0m\u001b[0mx_test\u001b[0m\u001b[1;33m)\u001b[0m\u001b[1;33m\u001b[0m\u001b[1;33m\u001b[0m\u001b[0m\n\u001b[0m\u001b[0;32m      2\u001b[0m \u001b[0mx_test\u001b[0m \u001b[1;33m=\u001b[0m \u001b[0mx_test\u001b[0m\u001b[1;33m.\u001b[0m\u001b[0mreshape\u001b[0m\u001b[1;33m(\u001b[0m\u001b[0mx_test\u001b[0m\u001b[1;33m.\u001b[0m\u001b[0mshape\u001b[0m\u001b[1;33m[\u001b[0m\u001b[1;36m0\u001b[0m\u001b[1;33m]\u001b[0m\u001b[1;33m,\u001b[0m \u001b[0mx_test\u001b[0m\u001b[1;33m.\u001b[0m\u001b[0mshape\u001b[0m\u001b[1;33m[\u001b[0m\u001b[1;36m2\u001b[0m\u001b[1;33m]\u001b[0m\u001b[1;33m*\u001b[0m\u001b[0mx_test\u001b[0m\u001b[1;33m.\u001b[0m\u001b[0mshape\u001b[0m\u001b[1;33m[\u001b[0m\u001b[1;36m1\u001b[0m\u001b[1;33m]\u001b[0m\u001b[1;33m)\u001b[0m\u001b[1;33m\u001b[0m\u001b[1;33m\u001b[0m\u001b[0m\n",
      "\u001b[1;32m~\\Anaconda3\\envs\\PricePrediction\\lib\\site-packages\\keras\\engine\\training.py\u001b[0m in \u001b[0;36mpredict\u001b[1;34m(self, x, batch_size, verbose, steps, callbacks, max_queue_size, workers, use_multiprocessing)\u001b[0m\n\u001b[0;32m   1439\u001b[0m \u001b[1;33m\u001b[0m\u001b[0m\n\u001b[0;32m   1440\u001b[0m         \u001b[1;31m# Case 2: Symbolic tensors or Numpy array-like.\u001b[0m\u001b[1;33m\u001b[0m\u001b[1;33m\u001b[0m\u001b[1;33m\u001b[0m\u001b[0m\n\u001b[1;32m-> 1441\u001b[1;33m         \u001b[0mx\u001b[0m\u001b[1;33m,\u001b[0m \u001b[0m_\u001b[0m\u001b[1;33m,\u001b[0m \u001b[0m_\u001b[0m \u001b[1;33m=\u001b[0m \u001b[0mself\u001b[0m\u001b[1;33m.\u001b[0m\u001b[0m_standardize_user_data\u001b[0m\u001b[1;33m(\u001b[0m\u001b[0mx\u001b[0m\u001b[1;33m)\u001b[0m\u001b[1;33m\u001b[0m\u001b[1;33m\u001b[0m\u001b[0m\n\u001b[0m\u001b[0;32m   1442\u001b[0m         \u001b[1;32mif\u001b[0m \u001b[0mself\u001b[0m\u001b[1;33m.\u001b[0m\u001b[0mstateful\u001b[0m\u001b[1;33m:\u001b[0m\u001b[1;33m\u001b[0m\u001b[1;33m\u001b[0m\u001b[0m\n\u001b[0;32m   1443\u001b[0m             \u001b[1;32mif\u001b[0m \u001b[0mx\u001b[0m\u001b[1;33m[\u001b[0m\u001b[1;36m0\u001b[0m\u001b[1;33m]\u001b[0m\u001b[1;33m.\u001b[0m\u001b[0mshape\u001b[0m\u001b[1;33m[\u001b[0m\u001b[1;36m0\u001b[0m\u001b[1;33m]\u001b[0m \u001b[1;33m>\u001b[0m \u001b[0mbatch_size\u001b[0m \u001b[1;32mand\u001b[0m \u001b[0mx\u001b[0m\u001b[1;33m[\u001b[0m\u001b[1;36m0\u001b[0m\u001b[1;33m]\u001b[0m\u001b[1;33m.\u001b[0m\u001b[0mshape\u001b[0m\u001b[1;33m[\u001b[0m\u001b[1;36m0\u001b[0m\u001b[1;33m]\u001b[0m \u001b[1;33m%\u001b[0m \u001b[0mbatch_size\u001b[0m \u001b[1;33m!=\u001b[0m \u001b[1;36m0\u001b[0m\u001b[1;33m:\u001b[0m\u001b[1;33m\u001b[0m\u001b[1;33m\u001b[0m\u001b[0m\n",
      "\u001b[1;32m~\\Anaconda3\\envs\\PricePrediction\\lib\\site-packages\\keras\\engine\\training.py\u001b[0m in \u001b[0;36m_standardize_user_data\u001b[1;34m(self, x, y, sample_weight, class_weight, check_array_lengths, batch_size)\u001b[0m\n\u001b[0;32m    577\u001b[0m             \u001b[0mfeed_input_shapes\u001b[0m\u001b[1;33m,\u001b[0m\u001b[1;33m\u001b[0m\u001b[1;33m\u001b[0m\u001b[0m\n\u001b[0;32m    578\u001b[0m             \u001b[0mcheck_batch_axis\u001b[0m\u001b[1;33m=\u001b[0m\u001b[1;32mFalse\u001b[0m\u001b[1;33m,\u001b[0m  \u001b[1;31m# Don't enforce the batch size.\u001b[0m\u001b[1;33m\u001b[0m\u001b[1;33m\u001b[0m\u001b[0m\n\u001b[1;32m--> 579\u001b[1;33m             exception_prefix='input')\n\u001b[0m\u001b[0;32m    580\u001b[0m \u001b[1;33m\u001b[0m\u001b[0m\n\u001b[0;32m    581\u001b[0m         \u001b[1;32mif\u001b[0m \u001b[0my\u001b[0m \u001b[1;32mis\u001b[0m \u001b[1;32mnot\u001b[0m \u001b[1;32mNone\u001b[0m\u001b[1;33m:\u001b[0m\u001b[1;33m\u001b[0m\u001b[1;33m\u001b[0m\u001b[0m\n",
      "\u001b[1;32m~\\Anaconda3\\envs\\PricePrediction\\lib\\site-packages\\keras\\engine\\training_utils.py\u001b[0m in \u001b[0;36mstandardize_input_data\u001b[1;34m(data, names, shapes, check_batch_axis, exception_prefix)\u001b[0m\n\u001b[0;32m    143\u001b[0m                             \u001b[1;34m': expected '\u001b[0m \u001b[1;33m+\u001b[0m \u001b[0mnames\u001b[0m\u001b[1;33m[\u001b[0m\u001b[0mi\u001b[0m\u001b[1;33m]\u001b[0m \u001b[1;33m+\u001b[0m \u001b[1;34m' to have shape '\u001b[0m \u001b[1;33m+\u001b[0m\u001b[1;33m\u001b[0m\u001b[1;33m\u001b[0m\u001b[0m\n\u001b[0;32m    144\u001b[0m                             \u001b[0mstr\u001b[0m\u001b[1;33m(\u001b[0m\u001b[0mshape\u001b[0m\u001b[1;33m)\u001b[0m \u001b[1;33m+\u001b[0m \u001b[1;34m' but got array with shape '\u001b[0m \u001b[1;33m+\u001b[0m\u001b[1;33m\u001b[0m\u001b[1;33m\u001b[0m\u001b[0m\n\u001b[1;32m--> 145\u001b[1;33m                             str(data_shape))\n\u001b[0m\u001b[0;32m    146\u001b[0m     \u001b[1;32mreturn\u001b[0m \u001b[0mdata\u001b[0m\u001b[1;33m\u001b[0m\u001b[1;33m\u001b[0m\u001b[0m\n\u001b[0;32m    147\u001b[0m \u001b[1;33m\u001b[0m\u001b[0m\n",
      "\u001b[1;31mValueError\u001b[0m: Error when checking input: expected lstm_18_input to have shape (3, 147) but got array with shape (1, 147)"
     ]
    }
   ],
   "source": [
    "y_pred = model.predict(x_test)\n",
    "x_test = x_test.reshape(x_test.shape[0], x_test.shape[2]*x_test.shape[1])"
   ]
  },
  {
   "cell_type": "code",
   "execution_count": 68,
   "metadata": {},
   "outputs": [],
   "source": [
    "\n",
    "#scale back the prediction to orginal scale\n",
    "# y_pred = model.predict(x_test)\n",
    "# x_test = x_test.reshape(x_test.shape[0], x_test.shape[2]*x_test.shape[1])\n",
    "\n",
    "inv_new = np.concatenate( (y_pred, x_test[:,-features+1:] ) , axis =1)\n",
    "inv_new = scaler.inverse_transform(inv_new)\n",
    "final_pred = inv_new[:,0]\n",
    "\n",
    "y_test = y_test.reshape( len(y_test), 1)\n",
    "\n",
    "inv_new = np.concatenate( (y_test, x_test[:,-features+1:] ) ,axis = 1)\n",
    "inv_new = scaler.inverse_transform(inv_new)\n",
    "actual_pred = inv_new[:,0]"
   ]
  },
  {
   "cell_type": "code",
   "execution_count": 69,
   "metadata": {},
   "outputs": [
    {
     "data": {
      "text/plain": [
       "<matplotlib.legend.Legend at 0x24358cd8148>"
      ]
     },
     "execution_count": 69,
     "metadata": {},
     "output_type": "execute_result"
    },
    {
     "data": {
      "image/png": "[encoded data removed]",
      "text/plain": [
       "<Figure size 432x288 with 1 Axes>"
      ]
     },
     "metadata": {},
     "output_type": "display_data"
    }
   ],
   "source": [
    "\n",
    "#plot the prediction with actual data\n",
    "\n",
    "plt.plot(final_pred[:200], label = \"prediction\",c = \"b\")\n",
    "plt.plot(actual_pred[:200],label = \"actual data\",c=\"r\")\n",
    "plt.xlim(0, 100)\n",
    "plt.ylim(0, 300)\n",
    "plt.yticks([])\n",
    "plt.xticks([])\n",
    "plt.title(\"comparison between prediction and actual data\")\n",
    "plt.legend()"
   ]
  },
  {
   "cell_type": "code",
   "execution_count": 70,
   "metadata": {},
   "outputs": [
    {
     "name": "stdout",
     "output_type": "stream",
     "text": [
      "56.8954788896255\n",
      "6613.898443664931\n"
     ]
    }
   ],
   "source": [
    "from sklearn.metrics import mean_absolute_error,mean_squared_error\n",
    "\n",
    "print ((mean_absolute_error(final_pred, actual_pred)))\n",
    "print ((mean_squared_error(final_pred, actual_pred)))"
   ]
  },
  {
   "cell_type": "code",
   "execution_count": 49,
   "metadata": {},
   "outputs": [
    {
     "data": {
      "image/png": "[encoded data removed]",
      "text/plain": [
       "<Figure size 1080x576 with 1 Axes>"
      ]
     },
     "metadata": {
      "needs_background": "light"
     },
     "output_type": "display_data"
    }
   ],
   "source": [
    "\n",
    "plt.figure(figsize=(15,8))\n",
    "day = 31\n",
    "plt.plot(actual_pred[day*24+1:day*24+24],\n",
    "         label='test y-true',\n",
    "         alpha = 0.8,\n",
    "         color='grey')\n",
    "plt.plot(final_pred[day*24+1:day*24+24],\n",
    "         label='test predictions',\n",
    "         alpha = 0.5,\n",
    "         color='goldenrod')\n",
    "plt.legend()\n",
    "plt.xlim(0, 24)\n",
    "plt.title('LSTM RTM Test: preds vs true', fontsize=18)\n",
    "# plt.savefig('../images/dam_RNN_12_test_pred_vs_true_zoomed.jpg', bbox_inches='tight')\n",
    "plt.show();"
   ]
  },
  {
   "cell_type": "code",
   "execution_count": 71,
   "metadata": {},
   "outputs": [
    {
     "data": {
      "text/plain": [
       "array([37.99746566, 49.53432006, 33.48756665, 32.0258944 , 24.24022036,\n",
       "       28.6896418 , 37.75824825, 37.24368396, 33.57766589, 31.05455052])"
      ]
     },
     "execution_count": 71,
     "metadata": {},
     "output_type": "execute_result"
    }
   ],
   "source": [
    "final_pred[:10]"
   ]
  },
  {
   "cell_type": "code",
   "execution_count": 128,
   "metadata": {},
   "outputs": [],
   "source": [
    "df = pd.read_pickle('df.pkl')\n",
    "df = df.reset_index(drop=True)\n",
    "gap = df['DAM LMP_PRC'] - df[('RTM LMP_PRC', 1)]\n",
    "df = add_hours_dam(df, 1, 1)\n",
    "df = add_hours_rtm(df, 12, 1)\n",
    "\n",
    "Y_cols = ['Gap'] \n",
    "X_cols = [col for col in list(df) if col not in Y_cols+[\n",
    "('HASP LMP_CONG_PRC', 1),\n",
    "('HASP LMP_CONG_PRC', 2),\n",
    "('HASP LMP_CONG_PRC', 3),\n",
    "('HASP LMP_CONG_PRC', 4),\n",
    "('HASP LMP_ENE_PRC', 1),\n",
    "('HASP LMP_ENE_PRC', 2),\n",
    "('HASP LMP_ENE_PRC', 3),\n",
    "('HASP LMP_ENE_PRC', 4),\n",
    "('HASP LMP_GHG_PRC', 1),\n",
    "('HASP LMP_LOSS_PRC', 1),\n",
    "('HASP LMP_LOSS_PRC', 2),\n",
    "('HASP LMP_LOSS_PRC', 3),\n",
    "('HASP LMP_LOSS_PRC', 4),\n",
    "('HASP LMP_PRC', 1),\n",
    "('HASP LMP_PRC', 2),\n",
    "('HASP LMP_PRC', 3),\n",
    "('HASP LMP_PRC', 4),\n",
    "('RTM LMP_CONG_PRC', 1),\n",
    "('RTM LMP_CONG_PRC', 2),\n",
    "('RTM LMP_CONG_PRC', 3),\n",
    "('RTM LMP_CONG_PRC', 4),\n",
    "('RTM LMP_CONG_PRC', 5),\n",
    "('RTM LMP_CONG_PRC', 6),\n",
    "('RTM LMP_CONG_PRC', 7),\n",
    "('RTM LMP_CONG_PRC', 8),\n",
    "('RTM LMP_CONG_PRC', 9),\n",
    "('RTM LMP_CONG_PRC', 10),\n",
    "('RTM LMP_CONG_PRC', 11),\n",
    "('RTM LMP_CONG_PRC', 12),\n",
    "('RTM LMP_ENE_PRC', 1),\n",
    "('RTM LMP_ENE_PRC', 2),\n",
    "('RTM LMP_ENE_PRC', 3),\n",
    "('RTM LMP_ENE_PRC', 4),\n",
    "('RTM LMP_ENE_PRC', 5),\n",
    "('RTM LMP_ENE_PRC', 6),\n",
    "('RTM LMP_ENE_PRC', 7),\n",
    "('RTM LMP_ENE_PRC', 8),\n",
    "('RTM LMP_ENE_PRC', 9),\n",
    "('RTM LMP_ENE_PRC', 10),\n",
    "('RTM LMP_ENE_PRC', 11),\n",
    "('RTM LMP_ENE_PRC', 12),\n",
    "('RTM LMP_GHG_PRC', 1),\n",
    "('RTM LMP_GHG_PRC', 7),\n",
    "('RTM LMP_LOSS_PRC', 1),\n",
    "('RTM LMP_LOSS_PRC', 2),\n",
    "('RTM LMP_LOSS_PRC', 3),\n",
    "('RTM LMP_LOSS_PRC', 4),\n",
    "('RTM LMP_LOSS_PRC', 5),\n",
    "('RTM LMP_LOSS_PRC', 6),\n",
    "('RTM LMP_LOSS_PRC', 7),\n",
    "('RTM LMP_LOSS_PRC', 8),\n",
    "('RTM LMP_LOSS_PRC', 9),\n",
    "('RTM LMP_LOSS_PRC', 10),\n",
    "('RTM LMP_LOSS_PRC', 11),\n",
    "('RTM LMP_LOSS_PRC', 12),\n",
    "('RTM LMP_PRC', 1),\n",
    "('RTM LMP_PRC', 2),\n",
    "('RTM LMP_PRC', 3),\n",
    "('RTM LMP_PRC', 4),\n",
    "('RTM LMP_PRC', 5),\n",
    "('RTM LMP_PRC', 6),\n",
    "('RTM LMP_PRC', 7),\n",
    "('RTM LMP_PRC', 8),\n",
    "('RTM LMP_PRC', 9),\n",
    "('RTM LMP_PRC', 10),\n",
    "('RTM LMP_PRC', 11),\n",
    "('RTM LMP_PRC', 12),\n",
    "'DAM LMP_CONG_PRC',\n",
    "'DAM LMP_GHG_PRC',\n",
    "('HASP LMP_CONG_PRC', 1),\n",
    "('HASP LMP_CONG_PRC', 2),\n",
    "('HASP LMP_CONG_PRC', 3),\n",
    "('HASP LMP_CONG_PRC', 4),\n",
    "('HASP LMP_ENE_PRC', 1),\n",
    "('HASP LMP_ENE_PRC', 2),\n",
    "('HASP LMP_ENE_PRC', 3),\n",
    "('HASP LMP_ENE_PRC', 4),\n",
    "('HASP LMP_GHG_PRC', 1),\n",
    "('HASP LMP_LOSS_PRC', 1),\n",
    "('HASP LMP_LOSS_PRC', 2),\n",
    "('HASP LMP_LOSS_PRC', 3),\n",
    "('HASP LMP_LOSS_PRC', 4),\n",
    "('HASP LMP_PRC', 1),\n",
    "('HASP LMP_PRC', 2),\n",
    "('HASP LMP_PRC', 3),\n",
    "('HASP LMP_PRC', 4),\n",
    "('RTM LMP_CONG_PRC', 1),\n",
    "('RTM LMP_CONG_PRC', 2),\n",
    "('RTM LMP_CONG_PRC', 3),\n",
    "('RTM LMP_CONG_PRC', 4),\n",
    "('RTM LMP_CONG_PRC', 5),\n",
    "('RTM LMP_CONG_PRC', 6),\n",
    "('RTM LMP_CONG_PRC', 7),\n",
    "('RTM LMP_CONG_PRC', 8),\n",
    "('RTM LMP_CONG_PRC', 9),\n",
    "('RTM LMP_CONG_PRC', 10),\n",
    "('RTM LMP_CONG_PRC', 11),\n",
    "('RTM LMP_CONG_PRC', 12),\n",
    "('RTM LMP_GHG_PRC', 1),\n",
    "('RTM LMP_GHG_PRC', 7),\n",
    "'DAM LMP_ENE_PRC',\n",
    "'DAM LMP_LOSS_PRC',\n",
    "'Actual_Demand',\n",
    "('RTM LMP_PRC', 1),\n",
    "'DAM LMP_PRC',]]\n",
    "df.insert(0, 'Gap', gap)"
   ]
  },
  {
   "cell_type": "code",
   "execution_count": 129,
   "metadata": {},
   "outputs": [],
   "source": [
    "import numpy\n",
    "import matplotlib.pyplot as plt\n",
    "import pandas\n",
    "import math\n",
    "\n",
    "from keras.models import Sequential\n",
    "from keras.layers import Dense, LSTM, Dropout\n",
    "from sklearn.preprocessing import MinMaxScaler\n",
    "from sklearn.metrics import mean_squared_error\n",
    "\n",
    "\n",
    "# convert an array of values into a dataset matrix\n",
    "\n",
    "def create_dataset(dataset, look_back=1):\n",
    "    dataX, dataY = [], []\n",
    "    for i in range(len(dataset) - look_back - 1):\n",
    "        a = dataset[i:(i + look_back), :]\n",
    "        dataX.append(a)\n",
    "        dataY.append(dataset[i + look_back, 0])\n",
    "    return numpy.array(dataX), numpy.array(dataY)\n",
    "\n"
   ]
  },
  {
   "cell_type": "code",
   "execution_count": 130,
   "metadata": {},
   "outputs": [
    {
     "data": {
      "text/plain": [
       "147"
      ]
     },
     "execution_count": 130,
     "metadata": {},
     "output_type": "execute_result"
    }
   ],
   "source": [
    "len(list(df))"
   ]
  },
  {
   "cell_type": "code",
   "execution_count": 131,
   "metadata": {},
   "outputs": [],
   "source": [
    "# load the dataset\n",
    "dataset = df.values\n",
    "\n",
    "# normalize the dataset\n",
    "scaler = MinMaxScaler(feature_range=(0, 1))\n",
    "dataset = scaler.fit_transform(dataset)\n",
    "\n",
    "# split into train and test sets\n",
    "train_size = int(len(dataset) * 0.9) \n",
    "test_size = len(dataset) - train_size\n",
    "train, test = dataset[0:train_size, :], dataset[train_size:len(dataset), :]\n",
    "\n",
    "# reshape into X=t and Y=t+1\n",
    "look_back = 3\n",
    "trainX, trainY = create_dataset(train, look_back)  \n",
    "testX, testY = create_dataset(test, look_back)\n",
    "\n",
    "# reshape input to be  [samples, time steps, features]\n",
    "trainX = numpy.reshape(trainX, (trainX.shape[0], look_back, 147))\n",
    "testX = numpy.reshape(testX, (testX.shape[0],look_back, 147))"
   ]
  },
  {
   "cell_type": "code",
   "execution_count": 149,
   "metadata": {},
   "outputs": [
    {
     "name": "stdout",
     "output_type": "stream",
     "text": [
      "Train on 14905 samples, validate on 1653 samples\n",
      "Epoch 1/10\n",
      "14905/14905 [==============================] - 5s 343us/step - loss: 0.0032 - val_loss: 3324.3049\n",
      "Epoch 2/10\n",
      "14905/14905 [==============================] - 3s 206us/step - loss: 6.0751e-04 - val_loss: 3324.2923\n",
      "Epoch 3/10\n",
      "14905/14905 [==============================] - 3s 207us/step - loss: 6.0426e-04 - val_loss: 3324.2937\n",
      "Epoch 4/10\n",
      "14905/14905 [==============================] - 3s 209us/step - loss: 6.0107e-04 - val_loss: 3324.2945\n",
      "Epoch 5/10\n",
      "14905/14905 [==============================] - 3s 207us/step - loss: 5.9788e-04 - val_loss: 3324.2952\n",
      "Epoch 6/10\n",
      "14905/14905 [==============================] - 3s 208us/step - loss: 5.9487e-04 - val_loss: 3324.2956\n",
      "Epoch 7/10\n",
      "14905/14905 [==============================] - 3s 207us/step - loss: 5.9158e-04 - val_loss: 3324.2971\n",
      "Epoch 8/10\n",
      "14905/14905 [==============================] - 3s 207us/step - loss: 5.8869e-04 - val_loss: 3324.2933\n",
      "Epoch 9/10\n",
      "14905/14905 [==============================] - 3s 208us/step - loss: 5.8436e-04 - val_loss: 3324.2944\n",
      "Epoch 10/10\n",
      "14905/14905 [==============================] - 3s 207us/step - loss: 5.7845e-04 - val_loss: 3324.2969\n"
     ]
    }
   ],
   "source": [
    "# create and fit the LSTM network\n",
    "model = Sequential()\n",
    "model.add(LSTM(64, return_sequences=True, input_shape = ( look_back, 147) ))\n",
    "# model.add(Dropout(0.2))\n",
    "model.add(LSTM(32, return_sequences=True))\n",
    "# model.add(Dropout(0.2))\n",
    "model.add(LSTM(16, return_sequences=True))\n",
    "model.add(LSTM(8, return_sequences=False))\n",
    "model.add(Dense(1, activation='linear'))\n",
    "\n",
    "model.compile(loss='mse', optimizer='adam')\n",
    "\n",
    "# model.fit(feature_train, label_train, batch_size=512, epochs=200, validation_data = (feature_test, label_test)\n",
    "history =  model.fit( trainX,trainY, validation_data = (testX,testY), epochs = 10 , batch_size = 32, verbose = 1, shuffle = False)  \n",
    "\n",
    "# model = Sequential()\n",
    "# model.add(LSTM(4, input_shape=(look_back, 147)))\n",
    "# model.add(Dense(1))\n",
    "# model.compile(loss='mean_squared_error', optimizer='adam')\n",
    "# history= model.fit(trainX, trainY,validation_split=0.33, nb_epoch=200, batch_size=32)\n"
   ]
  },
  {
   "cell_type": "code",
   "execution_count": 150,
   "metadata": {},
   "outputs": [],
   "source": [
    "# make predictions\n",
    "trainPredict = model.predict(trainX)\n",
    "testPredict = model.predict(testX)"
   ]
  },
  {
   "cell_type": "code",
   "execution_count": 151,
   "metadata": {},
   "outputs": [
    {
     "data": {
      "text/plain": [
       "array([0.40136385, 0.39961052, 0.4001241 , ..., 0.40126666, 0.40197533,\n",
       "       0.40398133], dtype=float32)"
      ]
     },
     "execution_count": 151,
     "metadata": {},
     "output_type": "execute_result"
    }
   ],
   "source": [
    "trainPredict[:,0]"
   ]
  },
  {
   "cell_type": "code",
   "execution_count": 152,
   "metadata": {},
   "outputs": [],
   "source": [
    "\n",
    "# Get something which has as many features as dataset\n",
    "testPredict_extended = numpy.zeros((len(testPredict),147))\n",
    "# Put the predictions there\n",
    "testPredict_extended[:,0] = testPredict[:,0]\n",
    "# Inverse transform it and select the 3rd column.\n",
    "testPredict = scaler.inverse_transform(testPredict_extended)[:,0]   \n"
   ]
  },
  {
   "cell_type": "code",
   "execution_count": 153,
   "metadata": {},
   "outputs": [],
   "source": [
    "testY_extended = numpy.zeros((len(testY),147))\n",
    "testY_extended[:,0]=testY\n",
    "testY=scaler.inverse_transform(testY_extended)[:,0]"
   ]
  },
  {
   "cell_type": "code",
   "execution_count": 154,
   "metadata": {},
   "outputs": [
    {
     "name": "stdout",
     "output_type": "stream",
     "text": [
      "Train Score: 0.02 RMSE\n",
      "Test Score: 217072.79 RMSE\n"
     ]
    }
   ],
   "source": [
    "# calculate root mean squared error\n",
    "trainScore = math.sqrt(mean_squared_error(trainY, trainPredict))\n",
    "print('Train Score: %.2f RMSE' % (trainScore))\n",
    "testScore = math.sqrt(mean_squared_error(testY, testPredict))\n",
    "print('Test Score: %.2f RMSE' % (testScore))"
   ]
  },
  {
   "cell_type": "code",
   "execution_count": 155,
   "metadata": {},
   "outputs": [],
   "source": [
    "testPredictPlot = numpy.empty_like(dataset)\n",
    "testPredictPlot[:, :] = numpy.nan\n",
    "testPredictPlot[len(trainPredict)+(look_back*2)+1:len(dataset)-1, 0] = testPredict"
   ]
  },
  {
   "cell_type": "code",
   "execution_count": 156,
   "metadata": {},
   "outputs": [
    {
     "data": {
      "text/plain": [
       "array([43.14815765, 43.8321489 , 43.38782388, ..., 27.1854445 ,\n",
       "       23.82776107, 23.21367247])"
      ]
     },
     "execution_count": 156,
     "metadata": {},
     "output_type": "execute_result"
    }
   ],
   "source": [
    "testPredict"
   ]
  },
  {
   "cell_type": "code",
   "execution_count": 157,
   "metadata": {},
   "outputs": [
    {
     "data": {
      "text/plain": [
       "array([-1646.18663406, 26539.30454016, 84272.92353003, ...,\n",
       "       53681.23584292, 26651.31083995, 13234.27384628])"
      ]
     },
     "execution_count": 157,
     "metadata": {},
     "output_type": "execute_result"
    }
   ],
   "source": [
    "testY"
   ]
  },
  {
   "cell_type": "code",
   "execution_count": 158,
   "metadata": {},
   "outputs": [
    {
     "data": {
      "image/png": "[encoded data removed]",
      "text/plain": [
       "<Figure size 1080x576 with 1 Axes>"
      ]
     },
     "metadata": {
      "needs_background": "light"
     },
     "output_type": "display_data"
    }
   ],
   "source": [
    "\n",
    "plt.figure(figsize=(15,8))\n",
    "day = 60\n",
    "plt.plot(testY[day*24+1:day*24+24],\n",
    "         label='test y-true',\n",
    "         alpha = 0.8,\n",
    "         color='grey')\n",
    "plt.plot(testPredict[day*24+1:day*24+24],\n",
    "         label='test predictions',\n",
    "         alpha = 0.5,\n",
    "         color='goldenrod')\n",
    "plt.legend()\n",
    "plt.xlim(0, 24)\n",
    "plt.title('LSTM RTM Test: preds vs true', fontsize=18)\n",
    "# plt.savefig('../images/dam_RNN_12_test_pred_vs_true_zoomed.jpg', bbox_inches='tight')\n",
    "plt.show()"
   ]
  },
  {
   "cell_type": "code",
   "execution_count": 141,
   "metadata": {},
   "outputs": [
    {
     "ename": "NameError",
     "evalue": "name 'trainPredictPlot' is not defined",
     "output_type": "error",
     "traceback": [
      "\u001b[1;31m---------------------------------------------------------------------------\u001b[0m",
      "\u001b[1;31mNameError\u001b[0m                                 Traceback (most recent call last)",
      "\u001b[1;32m<ipython-input-141-5d8783fa02cc>\u001b[0m in \u001b[0;36m<module>\u001b[1;34m\u001b[0m\n\u001b[0;32m      1\u001b[0m \u001b[0mserie\u001b[0m\u001b[1;33m,\u001b[0m\u001b[1;33m=\u001b[0m\u001b[0mplt\u001b[0m\u001b[1;33m.\u001b[0m\u001b[0mplot\u001b[0m\u001b[1;33m(\u001b[0m\u001b[0mscaler\u001b[0m\u001b[1;33m.\u001b[0m\u001b[0minverse_transform\u001b[0m\u001b[1;33m(\u001b[0m\u001b[0mdataset\u001b[0m\u001b[1;33m)\u001b[0m\u001b[1;33m[\u001b[0m\u001b[1;33m:\u001b[0m\u001b[1;33m,\u001b[0m\u001b[1;36m0\u001b[0m\u001b[1;33m]\u001b[0m\u001b[1;33m)\u001b[0m\u001b[1;33m\u001b[0m\u001b[1;33m\u001b[0m\u001b[0m\n\u001b[1;32m----> 2\u001b[1;33m \u001b[0mprediccion_entrenamiento\u001b[0m\u001b[1;33m,\u001b[0m\u001b[1;33m=\u001b[0m\u001b[0mplt\u001b[0m\u001b[1;33m.\u001b[0m\u001b[0mplot\u001b[0m\u001b[1;33m(\u001b[0m\u001b[0mtrainPredictPlot\u001b[0m\u001b[1;33m[\u001b[0m\u001b[1;33m:\u001b[0m\u001b[1;33m,\u001b[0m\u001b[1;36m0\u001b[0m\u001b[1;33m]\u001b[0m\u001b[1;33m,\u001b[0m\u001b[0mlinestyle\u001b[0m\u001b[1;33m=\u001b[0m\u001b[1;34m'--'\u001b[0m\u001b[1;33m)\u001b[0m\u001b[1;33m\u001b[0m\u001b[1;33m\u001b[0m\u001b[0m\n\u001b[0m\u001b[0;32m      3\u001b[0m \u001b[0mprediccion_test\u001b[0m\u001b[1;33m,\u001b[0m\u001b[1;33m=\u001b[0m\u001b[0mplt\u001b[0m\u001b[1;33m.\u001b[0m\u001b[0mplot\u001b[0m\u001b[1;33m(\u001b[0m\u001b[0mtestPredictPlot\u001b[0m\u001b[1;33m[\u001b[0m\u001b[1;33m:\u001b[0m\u001b[1;33m,\u001b[0m\u001b[1;36m0\u001b[0m\u001b[1;33m]\u001b[0m\u001b[1;33m,\u001b[0m\u001b[0mlinestyle\u001b[0m\u001b[1;33m=\u001b[0m\u001b[1;34m'--'\u001b[0m\u001b[1;33m)\u001b[0m\u001b[1;33m\u001b[0m\u001b[1;33m\u001b[0m\u001b[0m\n\u001b[0;32m      4\u001b[0m \u001b[0mplt\u001b[0m\u001b[1;33m.\u001b[0m\u001b[0mtitle\u001b[0m\u001b[1;33m(\u001b[0m\u001b[1;34m'Consumo de agua'\u001b[0m\u001b[1;33m)\u001b[0m\u001b[1;33m\u001b[0m\u001b[1;33m\u001b[0m\u001b[0m\n\u001b[0;32m      5\u001b[0m \u001b[0mplt\u001b[0m\u001b[1;33m.\u001b[0m\u001b[0mylabel\u001b[0m\u001b[1;33m(\u001b[0m\u001b[1;34m'cosumo (m3)'\u001b[0m\u001b[1;33m)\u001b[0m\u001b[1;33m\u001b[0m\u001b[1;33m\u001b[0m\u001b[0m\n",
      "\u001b[1;31mNameError\u001b[0m: name 'trainPredictPlot' is not defined"
     ]
    },
    {
     "data": {
      "image/png": "[encoded data removed]",
      "text/plain": [
       "<Figure size 432x288 with 1 Axes>"
      ]
     },
     "metadata": {
      "needs_background": "light"
     },
     "output_type": "display_data"
    }
   ],
   "source": [
    "\n",
    "serie,=plt.plot(scaler.inverse_transform(dataset)[:,0])  \n",
    "prediccion_entrenamiento,=plt.plot(trainPredictPlot[:,0],linestyle='--')  \n",
    "prediccion_test,=plt.plot(testPredictPlot[:,0],linestyle='--')\n",
    "plt.title('Consumo de agua')\n",
    "plt.ylabel('cosumo (m3)')\n",
    "plt.xlabel('dia')\n",
    "plt.legend([serie,prediccion_entrenamiento,prediccion_test],['serie','entrenamiento','test'], loc='upper right')"
   ]
  },
  {
   "cell_type": "code",
   "execution_count": 87,
   "metadata": {},
   "outputs": [
    {
     "data": {
      "text/plain": [
       "array([[[0.40248467, 0.20833333, 0.12779238, ..., 0.18260214,\n",
       "         0.18486504, 0.19851142],\n",
       "        [0.4021936 , 0.25      , 0.16688568, ..., 0.16907389,\n",
       "         0.17307624, 0.16915958],\n",
       "        [0.39801415, 0.29166667, 0.228318  , ..., 0.17725288,\n",
       "         0.1785201 , 0.17132736]],\n",
       "\n",
       "       [[0.4021936 , 0.25      , 0.16688568, ..., 0.16907389,\n",
       "         0.17307624, 0.16915958],\n",
       "        [0.39801415, 0.29166667, 0.228318  , ..., 0.17725288,\n",
       "         0.1785201 , 0.17132736],\n",
       "        [0.38980101, 0.33333333, 0.23883049, ..., 0.1749807 ,\n",
       "         0.17523323, 0.17195394]],\n",
       "\n",
       "       [[0.39801415, 0.29166667, 0.228318  , ..., 0.17725288,\n",
       "         0.1785201 , 0.17132736],\n",
       "        [0.38980101, 0.33333333, 0.23883049, ..., 0.1749807 ,\n",
       "         0.17523323, 0.17195394],\n",
       "        [0.40748648, 0.375     , 0.20992116, ..., 0.15317566,\n",
       "         0.15614482, 0.15018   ]],\n",
       "\n",
       "       ...,\n",
       "\n",
       "       [[0.4007987 , 0.66666667, 0.25886991, ..., 0.17589844,\n",
       "         0.1780947 , 0.17180833],\n",
       "        [0.4009583 , 0.70833333, 0.38764783, ..., 0.17600705,\n",
       "         0.17792078, 0.17133855],\n",
       "        [0.40131352, 0.75      , 0.40407359, ..., 0.17282079,\n",
       "         0.17471839, 0.16864548]],\n",
       "\n",
       "       [[0.4009583 , 0.70833333, 0.38764783, ..., 0.17600705,\n",
       "         0.17792078, 0.17133855],\n",
       "        [0.40131352, 0.75      , 0.40407359, ..., 0.17282079,\n",
       "         0.17471839, 0.16864548],\n",
       "        [0.3992959 , 0.79166667, 0.38797635, ..., 0.16485944,\n",
       "         0.16679359, 0.1595008 ]],\n",
       "\n",
       "       [[0.40131352, 0.75      , 0.40407359, ..., 0.17282079,\n",
       "         0.17471839, 0.16864548],\n",
       "        [0.3992959 , 0.79166667, 0.38797635, ..., 0.16485944,\n",
       "         0.16679359, 0.1595008 ],\n",
       "        [0.39738897, 0.875     , 0.31406045, ..., 0.1553551 ,\n",
       "         0.14944993, 0.14274087]]])"
      ]
     },
     "execution_count": 87,
     "metadata": {},
     "output_type": "execute_result"
    }
   ],
   "source": [
    "testX"
   ]
  },
  {
   "cell_type": "code",
   "execution_count": null,
   "metadata": {},
   "outputs": [],
   "source": []
  }
 ],
 "metadata": {
  "kernelspec": {
   "display_name": "Python 3",
   "language": "python",
   "name": "python3"
  },
  "language_info": {
   "codemirror_mode": {
    "name": "ipython",
    "version": 3
   },
   "file_extension": ".py",
   "mimetype": "text/x-python",
   "name": "python",
   "nbconvert_exporter": "python",
   "pygments_lexer": "ipython3",
   "version": "3.7.1"
  }
 },
 "nbformat": 4,
 "nbformat_minor": 4
}
