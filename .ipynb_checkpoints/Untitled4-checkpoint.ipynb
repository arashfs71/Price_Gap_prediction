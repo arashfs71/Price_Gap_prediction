{
 "cells": [
  {
   "cell_type": "code",
   "execution_count": 1,
   "metadata": {},
   "outputs": [
    {
     "name": "stderr",
     "output_type": "stream",
     "text": [
      "Using TensorFlow backend.\n"
     ]
    }
   ],
   "source": [
    "import numpy\n",
    "import pandas as pd\n",
    "import matplotlib.pyplot as plt\n",
    "\n",
    "from keras.layers import Dense, LSTM\n",
    "from keras.models import Sequential\n",
    "from sklearn.metrics import mean_squared_error\n",
    "\n",
    "from sklearn.preprocessing import MinMaxScaler\n",
    "from tqdm import trange"
   ]
  },
  {
   "cell_type": "code",
   "execution_count": 2,
   "metadata": {},
   "outputs": [],
   "source": [
    "def add_hours_dam(df, start_hour, interval=48):\n",
    "    for i in range(start_hour, start_hour+interval):\n",
    "        start = str(i)\n",
    "        df[\"DAM LMP_PRC_\"+start+\"_hours_ago\"] = 0.0\n",
    "    for i in range(len(df)-1, interval-1, -1):\n",
    "        for j in range(start_hour, start_hour+interval):\n",
    "            start = str(j)\n",
    "            v = df['DAM LMP_PRC'].iloc[i-j,] \n",
    "            df.at[i, \"DAM LMP_PRC_\"+start+\"_hours_ago\"] =  v\n",
    "    return df\n",
    "\n",
    "\n",
    "def add_hours_rtm(df, start_hour, interval=48):\n",
    "    for rtm in range(1, 13):\n",
    "        for i in range(start_hour, start_hour+interval):\n",
    "            start = str(i)\n",
    "            df[\"RTM_\"+str(rtm) +\"_LMP_PRC_\"+start+\"_hours_ago\"] = 0.0\n",
    "        for i in range(len(df)-1, interval-1, -1):\n",
    "            for j in range(start_hour, start_hour+interval):\n",
    "                start = str(j)\n",
    "                v = df[('RTM LMP_PRC', rtm)].iloc[i-j,] \n",
    "                df.at[i, \"RTM_\"+str(rtm) +\"_LMP_PRC_\"+start+\"_hours_ago\"] =  v\n",
    "    return df\n",
    "\n",
    "def add_hours_gap(df, start_hour, interval=48):\n",
    "    for i in range(start_hour, start_hour+interval):\n",
    "        start = str(i)\n",
    "        df[\"GAP LMP_PRC_\"+start+\"_hours_ago\"] = 0.0\n",
    "    for i in range(len(df)-1, interval-1, -1):\n",
    "        for j in range(start_hour, start_hour+interval):\n",
    "            start = str(j)\n",
    "            v = df['Gap'].iloc[i-j,] \n",
    "            df.at[i, \"GAP LMP_PRC_\"+start+\"_hours_ago\"] =  v\n",
    "    return df"
   ]
  },
  {
   "cell_type": "code",
   "execution_count": 3,
   "metadata": {},
   "outputs": [],
   "source": [
    "numpy.random.seed(42)\n",
    "\n",
    "\n",
    "def load_dataset(datasource):\n",
    "    \"\"\"\n",
    "    The function loads dataset from given file name and uses MinMaxScaler to transform data\n",
    "    :param datasource: file name of data source\n",
    "    :return: tuple of dataset and the used MinMaxScaler\n",
    "    \"\"\"\n",
    "    # load the dataset\n",
    "\n",
    "    dataset = datasource.values\n",
    "\n",
    "\n",
    "    # normalize the dataset\n",
    "    scaler = MinMaxScaler(feature_range=(0, 1))\n",
    "    dataset = scaler.fit_transform(dataset)\n",
    "    return dataset, scaler"
   ]
  },
  {
   "cell_type": "code",
   "execution_count": 11,
   "metadata": {},
   "outputs": [],
   "source": [
    "\n",
    "\n",
    "def create_dataset(dataset: numpy.ndarray, look_back: int=1) -> (numpy.ndarray, numpy.ndarray):\n",
    "    \"\"\"\n",
    "    The function takes two arguments: the `dataset`, which is a NumPy array that we want to convert into a dataset,\n",
    "    and the `look_back`, which is the number of previous time steps to use as input variables\n",
    "    to predict the next time period — in this case defaulted to 1.\n",
    "    :param dataset: numpy dataset\n",
    "    :param look_back: number of previous time steps as int\n",
    "    :return: tuple of input and output dataset\n",
    "    \"\"\"\n",
    "    data_x, data_y = [], []\n",
    "    for i in range(len(dataset)-look_back-1):\n",
    "        a = dataset[i:(i+look_back), :]\n",
    "        data_x.append(a)\n",
    "        data_y.append(dataset[i + look_back, 0])\n",
    "    return numpy.array(data_x), numpy.array(data_y)"
   ]
  },
  {
   "cell_type": "code",
   "execution_count": 12,
   "metadata": {},
   "outputs": [],
   "source": [
    "def split_dataset(dataset: numpy.ndarray, train_size, look_back) -> (numpy.ndarray, numpy.ndarray):\n",
    "    \"\"\"\n",
    "    Splits dataset into training and test datasets. The last `look_back` rows in train dataset\n",
    "    will be used as `look_back` for the test dataset.\n",
    "    :param dataset: source dataset\n",
    "    :param train_size: specifies the train data size\n",
    "    :param look_back: number of previous time steps as int\n",
    "    :return: tuple of training data and test dataset\n",
    "    \"\"\"\n",
    "    if not train_size > look_back:\n",
    "        raise ValueError('train_size must be lager than look_back')\n",
    "    train, test = dataset[0:train_size, :], dataset[train_size - look_back:len(dataset), :]\n",
    "    print('train_dataset: {}, test_dataset: {}'.format(len(train), len(test)))\n",
    "    return train, test"
   ]
  },
  {
   "cell_type": "code",
   "execution_count": 21,
   "metadata": {},
   "outputs": [],
   "source": [
    "def build_model(look_back: int, batch_size: int=1) -> Sequential:\n",
    "    \"\"\"\n",
    "    The function builds a keras Sequential model\n",
    "    :param look_back: number of previous time steps as int\n",
    "    :param batch_size: batch_size as int, defaults to 1\n",
    "    :return: keras Sequential model\n",
    "    \"\"\"\n",
    "    model = Sequential()\n",
    "    model.add(LSTM(64,\n",
    "                   activation='relu',\n",
    "                   batch_input_shape=(batch_size, look_back, 147),\n",
    "                   stateful=True,\n",
    "                   return_sequences=False))\n",
    "    model.add(Dense(1, activation='linear'))\n",
    "    model.compile(loss='mean_squared_error', optimizer='adam')\n",
    "    return model"
   ]
  },
  {
   "cell_type": "code",
   "execution_count": 22,
   "metadata": {},
   "outputs": [],
   "source": [
    "def plot_data(dataset: numpy.ndarray,\n",
    "              look_back: int,\n",
    "              train_predict: numpy.ndarray,\n",
    "              test_predict: numpy.ndarray,\n",
    "              forecast_predict: numpy.ndarray):\n",
    "    \"\"\"\n",
    "    Plots baseline and predictions.\n",
    "    blue: baseline\n",
    "    green: prediction with training data\n",
    "    red: prediction with test data\n",
    "    cyan: prediction based on predictions\n",
    "    :param dataset: dataset used for predictions\n",
    "    :param look_back: number of previous time steps as int\n",
    "    :param train_predict: predicted values based on training data\n",
    "    :param test_predict: predicted values based on test data\n",
    "    :param forecast_predict: predicted values based on previous predictions\n",
    "    :return: None\n",
    "    \"\"\"\n",
    "    plt.plot(dataset)\n",
    "    plt.plot([None for _ in range(look_back)] +\n",
    "             [x for x in train_predict])\n",
    "    plt.plot([None for _ in range(look_back)] +\n",
    "             [None for _ in train_predict] +\n",
    "             [x for x in test_predict])\n",
    "    plt.plot([None for _ in range(look_back)] +\n",
    "             [None for _ in train_predict] +\n",
    "             [None for _ in test_predict] +\n",
    "             [x for x in forecast_predict])\n",
    "    plt.show()"
   ]
  },
  {
   "cell_type": "code",
   "execution_count": 23,
   "metadata": {},
   "outputs": [],
   "source": [
    "\n",
    "def make_forecast(model: Sequential, look_back_buffer: numpy.ndarray, timesteps: int=1, batch_size: int=1):\n",
    "    forecast_predict = numpy.empty((0, 1), dtype=numpy.float32)\n",
    "    for _ in trange(timesteps, desc='predicting data\\t', mininterval=1.0):\n",
    "        # make prediction with current lookback buffer\n",
    "        cur_predict = model.predict(look_back_buffer, batch_size)\n",
    "        # add prediction to result\n",
    "        forecast_predict = numpy.concatenate([forecast_predict, cur_predict], axis=0)\n",
    "        # add new axis to prediction to make it suitable as input\n",
    "        cur_predict = numpy.reshape(cur_predict, (cur_predict.shape[1], cur_predict.shape[0], 1))\n",
    "        # remove oldest prediction from buffer\n",
    "        look_back_buffer = numpy.delete(look_back_buffer, 0, axis=1)\n",
    "        # concat buffer with newest prediction\n",
    "        look_back_buffer = numpy.concatenate([look_back_buffer, cur_predict], axis=1)\n",
    "    return forecast_predict"
   ]
  },
  {
   "cell_type": "code",
   "execution_count": 31,
   "metadata": {},
   "outputs": [],
   "source": [
    "df = pd.read_pickle('df.pkl')\n",
    "df = df.reset_index(drop=True)\n",
    "gap = df['DAM LMP_PRC'] - df[('RTM LMP_PRC', 1)]\n",
    "df = add_hours_dam(df, 1, 1)\n",
    "df = add_hours_rtm(df, 12, 1)\n",
    "\n",
    "Y_cols = ['Gap'] \n",
    "X_cols = [col for col in list(df) if col not in Y_cols+[\n",
    "('HASP LMP_CONG_PRC', 1),\n",
    "('HASP LMP_CONG_PRC', 2),\n",
    "('HASP LMP_CONG_PRC', 3),\n",
    "('HASP LMP_CONG_PRC', 4),\n",
    "('HASP LMP_ENE_PRC', 1),\n",
    "('HASP LMP_ENE_PRC', 2),\n",
    "('HASP LMP_ENE_PRC', 3),\n",
    "('HASP LMP_ENE_PRC', 4),\n",
    "('HASP LMP_GHG_PRC', 1),\n",
    "('HASP LMP_LOSS_PRC', 1),\n",
    "('HASP LMP_LOSS_PRC', 2),\n",
    "('HASP LMP_LOSS_PRC', 3),\n",
    "('HASP LMP_LOSS_PRC', 4),\n",
    "('HASP LMP_PRC', 1),\n",
    "('HASP LMP_PRC', 2),\n",
    "('HASP LMP_PRC', 3),\n",
    "('HASP LMP_PRC', 4),\n",
    "('RTM LMP_CONG_PRC', 1),\n",
    "('RTM LMP_CONG_PRC', 2),\n",
    "('RTM LMP_CONG_PRC', 3),\n",
    "('RTM LMP_CONG_PRC', 4),\n",
    "('RTM LMP_CONG_PRC', 5),\n",
    "('RTM LMP_CONG_PRC', 6),\n",
    "('RTM LMP_CONG_PRC', 7),\n",
    "('RTM LMP_CONG_PRC', 8),\n",
    "('RTM LMP_CONG_PRC', 9),\n",
    "('RTM LMP_CONG_PRC', 10),\n",
    "('RTM LMP_CONG_PRC', 11),\n",
    "('RTM LMP_CONG_PRC', 12),\n",
    "('RTM LMP_ENE_PRC', 1),\n",
    "('RTM LMP_ENE_PRC', 2),\n",
    "('RTM LMP_ENE_PRC', 3),\n",
    "('RTM LMP_ENE_PRC', 4),\n",
    "('RTM LMP_ENE_PRC', 5),\n",
    "('RTM LMP_ENE_PRC', 6),\n",
    "('RTM LMP_ENE_PRC', 7),\n",
    "('RTM LMP_ENE_PRC', 8),\n",
    "('RTM LMP_ENE_PRC', 9),\n",
    "('RTM LMP_ENE_PRC', 10),\n",
    "('RTM LMP_ENE_PRC', 11),\n",
    "('RTM LMP_ENE_PRC', 12),\n",
    "('RTM LMP_GHG_PRC', 1),\n",
    "('RTM LMP_GHG_PRC', 7),\n",
    "('RTM LMP_LOSS_PRC', 1),\n",
    "('RTM LMP_LOSS_PRC', 2),\n",
    "('RTM LMP_LOSS_PRC', 3),\n",
    "('RTM LMP_LOSS_PRC', 4),\n",
    "('RTM LMP_LOSS_PRC', 5),\n",
    "('RTM LMP_LOSS_PRC', 6),\n",
    "('RTM LMP_LOSS_PRC', 7),\n",
    "('RTM LMP_LOSS_PRC', 8),\n",
    "('RTM LMP_LOSS_PRC', 9),\n",
    "('RTM LMP_LOSS_PRC', 10),\n",
    "('RTM LMP_LOSS_PRC', 11),\n",
    "('RTM LMP_LOSS_PRC', 12),\n",
    "('RTM LMP_PRC', 1),\n",
    "('RTM LMP_PRC', 2),\n",
    "('RTM LMP_PRC', 3),\n",
    "('RTM LMP_PRC', 4),\n",
    "('RTM LMP_PRC', 5),\n",
    "('RTM LMP_PRC', 6),\n",
    "('RTM LMP_PRC', 7),\n",
    "('RTM LMP_PRC', 8),\n",
    "('RTM LMP_PRC', 9),\n",
    "('RTM LMP_PRC', 10),\n",
    "('RTM LMP_PRC', 11),\n",
    "('RTM LMP_PRC', 12),\n",
    "'DAM LMP_CONG_PRC',\n",
    "'DAM LMP_GHG_PRC',\n",
    "('HASP LMP_CONG_PRC', 1),\n",
    "('HASP LMP_CONG_PRC', 2),\n",
    "('HASP LMP_CONG_PRC', 3),\n",
    "('HASP LMP_CONG_PRC', 4),\n",
    "('HASP LMP_ENE_PRC', 1),\n",
    "('HASP LMP_ENE_PRC', 2),\n",
    "('HASP LMP_ENE_PRC', 3),\n",
    "('HASP LMP_ENE_PRC', 4),\n",
    "('HASP LMP_GHG_PRC', 1),\n",
    "('HASP LMP_LOSS_PRC', 1),\n",
    "('HASP LMP_LOSS_PRC', 2),\n",
    "('HASP LMP_LOSS_PRC', 3),\n",
    "('HASP LMP_LOSS_PRC', 4),\n",
    "('HASP LMP_PRC', 1),\n",
    "('HASP LMP_PRC', 2),\n",
    "('HASP LMP_PRC', 3),\n",
    "('HASP LMP_PRC', 4),\n",
    "('RTM LMP_CONG_PRC', 1),\n",
    "('RTM LMP_CONG_PRC', 2),\n",
    "('RTM LMP_CONG_PRC', 3),\n",
    "('RTM LMP_CONG_PRC', 4),\n",
    "('RTM LMP_CONG_PRC', 5),\n",
    "('RTM LMP_CONG_PRC', 6),\n",
    "('RTM LMP_CONG_PRC', 7),\n",
    "('RTM LMP_CONG_PRC', 8),\n",
    "('RTM LMP_CONG_PRC', 9),\n",
    "('RTM LMP_CONG_PRC', 10),\n",
    "('RTM LMP_CONG_PRC', 11),\n",
    "('RTM LMP_CONG_PRC', 12),\n",
    "('RTM LMP_GHG_PRC', 1),\n",
    "('RTM LMP_GHG_PRC', 7),\n",
    "'DAM LMP_ENE_PRC',\n",
    "'DAM LMP_LOSS_PRC',\n",
    "'Actual_Demand',\n",
    "('RTM LMP_PRC', 1),\n",
    "'DAM LMP_PRC',]]\n",
    "df.insert(0, 'Gap', gap)"
   ]
  },
  {
   "cell_type": "code",
   "execution_count": 32,
   "metadata": {},
   "outputs": [
    {
     "data": {
      "text/plain": [
       "147"
      ]
     },
     "execution_count": 32,
     "metadata": {},
     "output_type": "execute_result"
    }
   ],
   "source": [
    "len(list(df))"
   ]
  },
  {
   "cell_type": "code",
   "execution_count": 50,
   "metadata": {},
   "outputs": [
    {
     "name": "stdout",
     "output_type": "stream",
     "text": [
      "train_dataset: 14909, test_dataset: 1687\n"
     ]
    },
    {
     "name": "stderr",
     "output_type": "stream",
     "text": [
      "fitting model\t:   0%|          | 0/10 [00:00<?, ?it/s]"
     ]
    },
    {
     "name": "stdout",
     "output_type": "stream",
     "text": [
      "Epoch 1/1\n",
      "14878/14878 [==============================] - 133s 9ms/step - loss: 9.3073e-04\n"
     ]
    },
    {
     "name": "stderr",
     "output_type": "stream",
     "text": [
      "fitting model\t:  10%|█         | 1/10 [02:14<20:07, 134.19s/it]"
     ]
    },
    {
     "name": "stdout",
     "output_type": "stream",
     "text": [
      "Epoch 1/1\n",
      "14878/14878 [==============================] - 134s 9ms/step - loss: 5.3508e-04\n"
     ]
    },
    {
     "name": "stderr",
     "output_type": "stream",
     "text": [
      "fitting model\t:  20%|██        | 2/10 [04:27<17:52, 134.05s/it]"
     ]
    },
    {
     "name": "stdout",
     "output_type": "stream",
     "text": [
      "Epoch 1/1\n",
      "14878/14878 [==============================] - 134s 9ms/step - loss: 5.1351e-04\n"
     ]
    },
    {
     "name": "stderr",
     "output_type": "stream",
     "text": [
      "fitting model\t:  30%|███       | 3/10 [06:41<15:37, 133.89s/it]"
     ]
    },
    {
     "name": "stdout",
     "output_type": "stream",
     "text": [
      "Epoch 1/1\n",
      "14878/14878 [==============================] - 134s 9ms/step - loss: 4.9603e-04\n"
     ]
    },
    {
     "name": "stderr",
     "output_type": "stream",
     "text": [
      "fitting model\t:  40%|████      | 4/10 [08:55<13:23, 133.89s/it]"
     ]
    },
    {
     "name": "stdout",
     "output_type": "stream",
     "text": [
      "Epoch 1/1\n",
      "14878/14878 [==============================] - 134s 9ms/step - loss: 4.8732e-04\n"
     ]
    },
    {
     "name": "stderr",
     "output_type": "stream",
     "text": [
      "fitting model\t:  50%|█████     | 5/10 [11:09<11:09, 133.98s/it]"
     ]
    },
    {
     "name": "stdout",
     "output_type": "stream",
     "text": [
      "Epoch 1/1\n",
      "14878/14878 [==============================] - 134s 9ms/step - loss: 4.8032e-04\n"
     ]
    },
    {
     "name": "stderr",
     "output_type": "stream",
     "text": [
      "fitting model\t:  60%|██████    | 6/10 [13:23<08:56, 134.02s/it]"
     ]
    },
    {
     "name": "stdout",
     "output_type": "stream",
     "text": [
      "Epoch 1/1\n",
      "14878/14878 [==============================] - 134s 9ms/step - loss: 4.7522e-04\n"
     ]
    },
    {
     "name": "stderr",
     "output_type": "stream",
     "text": [
      "fitting model\t:  70%|███████   | 7/10 [15:37<06:42, 134.00s/it]"
     ]
    },
    {
     "name": "stdout",
     "output_type": "stream",
     "text": [
      "Epoch 1/1\n",
      "14878/14878 [==============================] - 134s 9ms/step - loss: 4.7277e-04\n"
     ]
    },
    {
     "name": "stderr",
     "output_type": "stream",
     "text": [
      "fitting model\t:  80%|████████  | 8/10 [17:51<04:27, 133.90s/it]"
     ]
    },
    {
     "name": "stdout",
     "output_type": "stream",
     "text": [
      "Epoch 1/1\n",
      "14878/14878 [==============================] - 134s 9ms/step - loss: 4.6793e-04\n"
     ]
    },
    {
     "name": "stderr",
     "output_type": "stream",
     "text": [
      "fitting model\t:  90%|█████████ | 9/10 [20:05<02:14, 134.01s/it]"
     ]
    },
    {
     "name": "stdout",
     "output_type": "stream",
     "text": [
      "Epoch 1/1\n",
      "14878/14878 [==============================] - 134s 9ms/step - loss: 4.6360e-04\n"
     ]
    },
    {
     "name": "stderr",
     "output_type": "stream",
     "text": [
      "fitting model\t: 100%|██████████| 10/10 [22:19<00:00, 133.97s/it]\n"
     ]
    },
    {
     "ename": "TypeError",
     "evalue": "Singleton array 0.3977547753209284 cannot be considered a valid collection.",
     "output_type": "error",
     "traceback": [
      "\u001b[1;31m---------------------------------------------------------------------------\u001b[0m",
      "\u001b[1;31mTypeError\u001b[0m                                 Traceback (most recent call last)",
      "\u001b[1;32m<ipython-input-50-ba429cde6a6a>\u001b[0m in \u001b[0;36m<module>\u001b[1;34m\u001b[0m\n\u001b[0;32m     59\u001b[0m \u001b[1;31m# train_score = numpy.sqrt(mean_squared_error(train_y[0], train_predict[:, 0]))\u001b[0m\u001b[1;33m\u001b[0m\u001b[1;33m\u001b[0m\u001b[1;33m\u001b[0m\u001b[0m\n\u001b[0;32m     60\u001b[0m \u001b[1;31m# print('Train Score: %.2f RMSE' % train_score)\u001b[0m\u001b[1;33m\u001b[0m\u001b[1;33m\u001b[0m\u001b[1;33m\u001b[0m\u001b[0m\n\u001b[1;32m---> 61\u001b[1;33m \u001b[0mtest_score\u001b[0m \u001b[1;33m=\u001b[0m \u001b[0mnumpy\u001b[0m\u001b[1;33m.\u001b[0m\u001b[0msqrt\u001b[0m\u001b[1;33m(\u001b[0m\u001b[0mmean_squared_error\u001b[0m\u001b[1;33m(\u001b[0m\u001b[0myt\u001b[0m\u001b[1;33m[\u001b[0m\u001b[1;36m0\u001b[0m\u001b[1;33m]\u001b[0m\u001b[1;33m,\u001b[0m \u001b[0mtest_predict\u001b[0m\u001b[1;33m[\u001b[0m\u001b[1;33m:\u001b[0m\u001b[1;33m,\u001b[0m \u001b[1;36m0\u001b[0m\u001b[1;33m]\u001b[0m\u001b[1;33m)\u001b[0m\u001b[1;33m)\u001b[0m\u001b[1;33m\u001b[0m\u001b[1;33m\u001b[0m\u001b[0m\n\u001b[0m\u001b[0;32m     62\u001b[0m \u001b[0mprint\u001b[0m\u001b[1;33m(\u001b[0m\u001b[1;34m'Test Score: %.2f RMSE'\u001b[0m \u001b[1;33m%\u001b[0m \u001b[0mtest_score\u001b[0m\u001b[1;33m)\u001b[0m\u001b[1;33m\u001b[0m\u001b[1;33m\u001b[0m\u001b[0m\n\u001b[0;32m     63\u001b[0m \u001b[1;33m\u001b[0m\u001b[0m\n",
      "\u001b[1;32m~\\Anaconda3\\envs\\PricePrediction\\lib\\site-packages\\sklearn\\metrics\\_regression.py\u001b[0m in \u001b[0;36mmean_squared_error\u001b[1;34m(y_true, y_pred, sample_weight, multioutput, squared)\u001b[0m\n\u001b[0;32m    250\u001b[0m     \"\"\"\n\u001b[0;32m    251\u001b[0m     y_type, y_true, y_pred, multioutput = _check_reg_targets(\n\u001b[1;32m--> 252\u001b[1;33m         y_true, y_pred, multioutput)\n\u001b[0m\u001b[0;32m    253\u001b[0m     \u001b[0mcheck_consistent_length\u001b[0m\u001b[1;33m(\u001b[0m\u001b[0my_true\u001b[0m\u001b[1;33m,\u001b[0m \u001b[0my_pred\u001b[0m\u001b[1;33m,\u001b[0m \u001b[0msample_weight\u001b[0m\u001b[1;33m)\u001b[0m\u001b[1;33m\u001b[0m\u001b[1;33m\u001b[0m\u001b[0m\n\u001b[0;32m    254\u001b[0m     output_errors = np.average((y_true - y_pred) ** 2, axis=0,\n",
      "\u001b[1;32m~\\Anaconda3\\envs\\PricePrediction\\lib\\site-packages\\sklearn\\metrics\\_regression.py\u001b[0m in \u001b[0;36m_check_reg_targets\u001b[1;34m(y_true, y_pred, multioutput, dtype)\u001b[0m\n\u001b[0;32m     82\u001b[0m \u001b[1;33m\u001b[0m\u001b[0m\n\u001b[0;32m     83\u001b[0m     \"\"\"\n\u001b[1;32m---> 84\u001b[1;33m     \u001b[0mcheck_consistent_length\u001b[0m\u001b[1;33m(\u001b[0m\u001b[0my_true\u001b[0m\u001b[1;33m,\u001b[0m \u001b[0my_pred\u001b[0m\u001b[1;33m)\u001b[0m\u001b[1;33m\u001b[0m\u001b[1;33m\u001b[0m\u001b[0m\n\u001b[0m\u001b[0;32m     85\u001b[0m     \u001b[0my_true\u001b[0m \u001b[1;33m=\u001b[0m \u001b[0mcheck_array\u001b[0m\u001b[1;33m(\u001b[0m\u001b[0my_true\u001b[0m\u001b[1;33m,\u001b[0m \u001b[0mensure_2d\u001b[0m\u001b[1;33m=\u001b[0m\u001b[1;32mFalse\u001b[0m\u001b[1;33m,\u001b[0m \u001b[0mdtype\u001b[0m\u001b[1;33m=\u001b[0m\u001b[0mdtype\u001b[0m\u001b[1;33m)\u001b[0m\u001b[1;33m\u001b[0m\u001b[1;33m\u001b[0m\u001b[0m\n\u001b[0;32m     86\u001b[0m     \u001b[0my_pred\u001b[0m \u001b[1;33m=\u001b[0m \u001b[0mcheck_array\u001b[0m\u001b[1;33m(\u001b[0m\u001b[0my_pred\u001b[0m\u001b[1;33m,\u001b[0m \u001b[0mensure_2d\u001b[0m\u001b[1;33m=\u001b[0m\u001b[1;32mFalse\u001b[0m\u001b[1;33m,\u001b[0m \u001b[0mdtype\u001b[0m\u001b[1;33m=\u001b[0m\u001b[0mdtype\u001b[0m\u001b[1;33m)\u001b[0m\u001b[1;33m\u001b[0m\u001b[1;33m\u001b[0m\u001b[0m\n",
      "\u001b[1;32m~\\Anaconda3\\envs\\PricePrediction\\lib\\site-packages\\sklearn\\utils\\validation.py\u001b[0m in \u001b[0;36mcheck_consistent_length\u001b[1;34m(*arrays)\u001b[0m\n\u001b[0;32m    206\u001b[0m     \"\"\"\n\u001b[0;32m    207\u001b[0m \u001b[1;33m\u001b[0m\u001b[0m\n\u001b[1;32m--> 208\u001b[1;33m     \u001b[0mlengths\u001b[0m \u001b[1;33m=\u001b[0m \u001b[1;33m[\u001b[0m\u001b[0m_num_samples\u001b[0m\u001b[1;33m(\u001b[0m\u001b[0mX\u001b[0m\u001b[1;33m)\u001b[0m \u001b[1;32mfor\u001b[0m \u001b[0mX\u001b[0m \u001b[1;32min\u001b[0m \u001b[0marrays\u001b[0m \u001b[1;32mif\u001b[0m \u001b[0mX\u001b[0m \u001b[1;32mis\u001b[0m \u001b[1;32mnot\u001b[0m \u001b[1;32mNone\u001b[0m\u001b[1;33m]\u001b[0m\u001b[1;33m\u001b[0m\u001b[1;33m\u001b[0m\u001b[0m\n\u001b[0m\u001b[0;32m    209\u001b[0m     \u001b[0muniques\u001b[0m \u001b[1;33m=\u001b[0m \u001b[0mnp\u001b[0m\u001b[1;33m.\u001b[0m\u001b[0munique\u001b[0m\u001b[1;33m(\u001b[0m\u001b[0mlengths\u001b[0m\u001b[1;33m)\u001b[0m\u001b[1;33m\u001b[0m\u001b[1;33m\u001b[0m\u001b[0m\n\u001b[0;32m    210\u001b[0m     \u001b[1;32mif\u001b[0m \u001b[0mlen\u001b[0m\u001b[1;33m(\u001b[0m\u001b[0muniques\u001b[0m\u001b[1;33m)\u001b[0m \u001b[1;33m>\u001b[0m \u001b[1;36m1\u001b[0m\u001b[1;33m:\u001b[0m\u001b[1;33m\u001b[0m\u001b[1;33m\u001b[0m\u001b[0m\n",
      "\u001b[1;32m~\\Anaconda3\\envs\\PricePrediction\\lib\\site-packages\\sklearn\\utils\\validation.py\u001b[0m in \u001b[0;36m<listcomp>\u001b[1;34m(.0)\u001b[0m\n\u001b[0;32m    206\u001b[0m     \"\"\"\n\u001b[0;32m    207\u001b[0m \u001b[1;33m\u001b[0m\u001b[0m\n\u001b[1;32m--> 208\u001b[1;33m     \u001b[0mlengths\u001b[0m \u001b[1;33m=\u001b[0m \u001b[1;33m[\u001b[0m\u001b[0m_num_samples\u001b[0m\u001b[1;33m(\u001b[0m\u001b[0mX\u001b[0m\u001b[1;33m)\u001b[0m \u001b[1;32mfor\u001b[0m \u001b[0mX\u001b[0m \u001b[1;32min\u001b[0m \u001b[0marrays\u001b[0m \u001b[1;32mif\u001b[0m \u001b[0mX\u001b[0m \u001b[1;32mis\u001b[0m \u001b[1;32mnot\u001b[0m \u001b[1;32mNone\u001b[0m\u001b[1;33m]\u001b[0m\u001b[1;33m\u001b[0m\u001b[1;33m\u001b[0m\u001b[0m\n\u001b[0m\u001b[0;32m    209\u001b[0m     \u001b[0muniques\u001b[0m \u001b[1;33m=\u001b[0m \u001b[0mnp\u001b[0m\u001b[1;33m.\u001b[0m\u001b[0munique\u001b[0m\u001b[1;33m(\u001b[0m\u001b[0mlengths\u001b[0m\u001b[1;33m)\u001b[0m\u001b[1;33m\u001b[0m\u001b[1;33m\u001b[0m\u001b[0m\n\u001b[0;32m    210\u001b[0m     \u001b[1;32mif\u001b[0m \u001b[0mlen\u001b[0m\u001b[1;33m(\u001b[0m\u001b[0muniques\u001b[0m\u001b[1;33m)\u001b[0m \u001b[1;33m>\u001b[0m \u001b[1;36m1\u001b[0m\u001b[1;33m:\u001b[0m\u001b[1;33m\u001b[0m\u001b[1;33m\u001b[0m\u001b[0m\n",
      "\u001b[1;32m~\\Anaconda3\\envs\\PricePrediction\\lib\\site-packages\\sklearn\\utils\\validation.py\u001b[0m in \u001b[0;36m_num_samples\u001b[1;34m(x)\u001b[0m\n\u001b[0;32m    150\u001b[0m         \u001b[1;32mif\u001b[0m \u001b[0mlen\u001b[0m\u001b[1;33m(\u001b[0m\u001b[0mx\u001b[0m\u001b[1;33m.\u001b[0m\u001b[0mshape\u001b[0m\u001b[1;33m)\u001b[0m \u001b[1;33m==\u001b[0m \u001b[1;36m0\u001b[0m\u001b[1;33m:\u001b[0m\u001b[1;33m\u001b[0m\u001b[1;33m\u001b[0m\u001b[0m\n\u001b[0;32m    151\u001b[0m             raise TypeError(\"Singleton array %r cannot be considered\"\n\u001b[1;32m--> 152\u001b[1;33m                             \" a valid collection.\" % x)\n\u001b[0m\u001b[0;32m    153\u001b[0m         \u001b[1;31m# Check that shape is returning an integer or default to len\u001b[0m\u001b[1;33m\u001b[0m\u001b[1;33m\u001b[0m\u001b[1;33m\u001b[0m\u001b[0m\n\u001b[0;32m    154\u001b[0m         \u001b[1;31m# Dask dataframes may not return numeric shape[0] value\u001b[0m\u001b[1;33m\u001b[0m\u001b[1;33m\u001b[0m\u001b[1;33m\u001b[0m\u001b[0m\n",
      "\u001b[1;31mTypeError\u001b[0m: Singleton array 0.3977547753209284 cannot be considered a valid collection."
     ]
    }
   ],
   "source": [
    "\n",
    "#     dataset, scaler = load_dataset(df)\n",
    "dataset = df.values\n",
    "scaler = MinMaxScaler(feature_range=(0, 1))\n",
    "dataset = scaler.fit_transform(dataset)\n",
    "# split into train and test sets\n",
    "look_back = 30\n",
    "train_size = int(len(dataset) * 0.90)\n",
    "train, test = split_dataset(dataset, train_size, look_back)\n",
    "\n",
    "# reshape into X=t and Y=t+1\n",
    "train_x, train_y = create_dataset(train, look_back)\n",
    "test_x, test_y = create_dataset(test, look_back)\n",
    "yt = test_y\n",
    "#     ss1 = MinMaxScaler(feature_range=(0, 1))\n",
    "#     train_x = ss1.fit_transform(train_x)\n",
    "#     test_x = ss1.transform(test_x)\n",
    "#     ss2 = MinMaxScaler(feature_range=(0, 1))\n",
    "#     train_y = ss2.fit_transform(train_y)\n",
    "#     test_y = ss2.transform(test_y)\n",
    "\n",
    "# reshape input to be [samples, time steps, features]\n",
    "train_x = numpy.reshape(train_x, (train_x.shape[0], train_x.shape[1], 147))\n",
    "test_x = numpy.reshape(test_x, (test_x.shape[0], test_x.shape[1], 147))\n",
    "\n",
    "\n",
    "\n",
    "\n",
    "# create and fit Multilayer Perceptron model\n",
    "batch_size = 1\n",
    "model = build_model(look_back, batch_size=batch_size)\n",
    "for _ in trange(10, desc='fitting model\\t', mininterval=1.0):\n",
    "    model.fit(train_x, train_y, epochs=1, batch_size=batch_size, verbose=1, shuffle=False)\n",
    "    model.reset_states()\n",
    "\n",
    "# generate predictions for training\n",
    "train_predict = model.predict(train_x, batch_size)\n",
    "test_predict = model.predict(test_x, batch_size)\n",
    "\n",
    "# generate forecast predictions\n",
    "#     forecast_predict = make_forecast(model, test_x[-1::], timesteps=100, batch_size=batch_size)\n",
    "\n",
    "# invert dataset and predictions\n",
    "#     dataset = scaler.inverse_transform(dataset)\n",
    "#     train_predict = s1.inverse_transform(train_predict)\n",
    "#     train_y = s1.inverse_transform([train_y])\n",
    "#     test_predict = s2.inverse_transform(test_predict)\n",
    "#     test_y = s2.inverse_transform([test_y])\n",
    "#     forecast_predict = scaler.inverse_transform(forecast_predict)\n",
    "\n",
    "# Get something which has as many features as dataset\n",
    "testPredict_extended = numpy.zeros((len(test_predict),147))\n",
    "# Put the predictions there\n",
    "testPredict_extended[:,0] = test_predict[:,0]\n",
    "# Inverse transform it and select the 3rd column.\n",
    "testPredict = scaler.inverse_transform(testPredict_extended)[:,0]   \n",
    "\n",
    "# testY_extended = numpy.zeros((len(testY),147))\n",
    "# testY_extended[:,0]=testY\n",
    "# testY=scaler.inverse_transform(testY_extended)[:,0]\n",
    "\n",
    "# calculate root mean squared error\n",
    "# train_score = numpy.sqrt(mean_squared_error(train_y[0], train_predict[:, 0]))\n",
    "# print('Train Score: %.2f RMSE' % train_score)\n",
    "test_score = numpy.sqrt(mean_squared_error(yt[0], test_predict[:, 0]))\n",
    "print('Test Score: %.2f RMSE' % test_score)\n",
    "\n",
    "#     plot_data(dataset, look_back, train_predict, test_predict, forecast_predict)\n",
    "\n"
   ]
  },
  {
   "cell_type": "code",
   "execution_count": 39,
   "metadata": {},
   "outputs": [],
   "source": [
    "testPredict_extended = numpy.zeros((len(test_predict),147))\n",
    "# Put the predictions there\n",
    "testPredict_extended[:,0] = test_predict[:,0]\n",
    "# Inverse transform it and select the 3rd column.\n",
    "testPredict = scaler.inverse_transform(testPredict_extended)[:,0]   "
   ]
  },
  {
   "cell_type": "code",
   "execution_count": 40,
   "metadata": {},
   "outputs": [
    {
     "data": {
      "text/plain": [
       "array([20.64253409, 24.87674962, 25.24735708, ..., 13.07139274,\n",
       "        5.47085413,  1.35849138])"
      ]
     },
     "execution_count": 40,
     "metadata": {},
     "output_type": "execute_result"
    }
   ],
   "source": [
    "testPredict"
   ]
  },
  {
   "cell_type": "code",
   "execution_count": 43,
   "metadata": {},
   "outputs": [],
   "source": [
    "testY_extended = numpy.zeros((len(test_y),147))\n",
    "testY_extended[:,0]=test_y\n",
    "testY=scaler.inverse_transform(testY_extended)[:,0]"
   ]
  },
  {
   "cell_type": "code",
   "execution_count": 46,
   "metadata": {},
   "outputs": [
    {
     "name": "stdout",
     "output_type": "stream",
     "text": [
      "Test Score: 57.61 RMSE\n"
     ]
    }
   ],
   "source": [
    "test_score = numpy.sqrt(mean_squared_error(testY, test_predict[:, 0]))\n",
    "print('Test Score: %.2f RMSE' % test_score)"
   ]
  },
  {
   "cell_type": "code",
   "execution_count": 45,
   "metadata": {},
   "outputs": [
    {
     "data": {
      "text/plain": [
       "array([ 8.85149, 11.88276, 32.46112, ..., 14.65368,  7.47426,  3.91056])"
      ]
     },
     "execution_count": 45,
     "metadata": {},
     "output_type": "execute_result"
    }
   ],
   "source": [
    "testY"
   ]
  },
  {
   "cell_type": "code",
   "execution_count": 49,
   "metadata": {},
   "outputs": [
    {
     "data": {
      "image/png": "[encoded data removed]",
      "text/plain": [
       "<Figure size 1080x576 with 1 Axes>"
      ]
     },
     "metadata": {
      "needs_background": "light"
     },
     "output_type": "display_data"
    }
   ],
   "source": [
    "\n",
    "plt.figure(figsize=(15,8))\n",
    "day = 22\n",
    "plt.plot(testY[day*24+1:day*24+24],\n",
    "         label='test y-true',\n",
    "         alpha = 0.8,\n",
    "         color='grey')\n",
    "plt.plot(testPredict[day*24+1:day*24+24],\n",
    "         label='test predictions',\n",
    "         alpha = 0.5,\n",
    "         color='goldenrod')\n",
    "plt.legend()\n",
    "plt.xlim(0, 24)\n",
    "plt.title('LSTM DAM Test: preds vs true', fontsize=18)\n",
    "# plt.savefig('../images/dam_RNN_12_test_pred_vs_true_zoomed.jpg', bbox_inches='tight')\n",
    "plt.show();"
   ]
  },
  {
   "cell_type": "code",
   "execution_count": 51,
   "metadata": {},
   "outputs": [],
   "source": [
    "import numpy\n",
    "import matplotlib.pyplot as plt\n",
    "import pandas\n",
    "import math\n",
    "\n",
    "from keras.models import Sequential\n",
    "from keras.layers import Dense, LSTM, Dropout\n",
    "from sklearn.preprocessing import MinMaxScaler\n",
    "from sklearn.metrics import mean_squared_error\n",
    "\n",
    "\n",
    "# convert an array of values into a dataset matrix\n",
    "\n",
    "def create_dataset(dataset, look_back=1):\n",
    "    dataX, dataY = [], []\n",
    "    for i in range(len(dataset) - look_back - 1):\n",
    "        a = dataset[i:(i + look_back), :]\n",
    "        dataX.append(a)\n",
    "        dataY.append(dataset[i + look_back, 0])\n",
    "    return numpy.array(dataX), numpy.array(dataY)\n",
    "\n"
   ]
  },
  {
   "cell_type": "code",
   "execution_count": 153,
   "metadata": {},
   "outputs": [],
   "source": [
    "df = pd.read_pickle('df.pkl')\n",
    "df = df.reset_index(drop=True)\n",
    "gap = df['DAM LMP_PRC'] - df[('RTM LMP_PRC', 1)]\n",
    "df = add_hours_dam(df, 1, 1)\n",
    "df = add_hours_rtm(df, 12, 1)\n",
    "\n",
    "Y_cols = ['Gap'] \n",
    "X_cols = [col for col in list(df) if col not in Y_cols+[\n",
    "('HASP LMP_CONG_PRC', 1),\n",
    "('HASP LMP_CONG_PRC', 2),\n",
    "('HASP LMP_CONG_PRC', 3),\n",
    "('HASP LMP_CONG_PRC', 4),\n",
    "('HASP LMP_ENE_PRC', 1),\n",
    "('HASP LMP_ENE_PRC', 2),\n",
    "('HASP LMP_ENE_PRC', 3),\n",
    "('HASP LMP_ENE_PRC', 4),\n",
    "('HASP LMP_GHG_PRC', 1),\n",
    "('HASP LMP_LOSS_PRC', 1),\n",
    "('HASP LMP_LOSS_PRC', 2),\n",
    "('HASP LMP_LOSS_PRC', 3),\n",
    "('HASP LMP_LOSS_PRC', 4),\n",
    "('HASP LMP_PRC', 1),\n",
    "('HASP LMP_PRC', 2),\n",
    "('HASP LMP_PRC', 3),\n",
    "('HASP LMP_PRC', 4),\n",
    "('RTM LMP_CONG_PRC', 1),\n",
    "('RTM LMP_CONG_PRC', 2),\n",
    "('RTM LMP_CONG_PRC', 3),\n",
    "('RTM LMP_CONG_PRC', 4),\n",
    "('RTM LMP_CONG_PRC', 5),\n",
    "('RTM LMP_CONG_PRC', 6),\n",
    "('RTM LMP_CONG_PRC', 7),\n",
    "('RTM LMP_CONG_PRC', 8),\n",
    "('RTM LMP_CONG_PRC', 9),\n",
    "('RTM LMP_CONG_PRC', 10),\n",
    "('RTM LMP_CONG_PRC', 11),\n",
    "('RTM LMP_CONG_PRC', 12),\n",
    "('RTM LMP_ENE_PRC', 1),\n",
    "('RTM LMP_ENE_PRC', 2),\n",
    "('RTM LMP_ENE_PRC', 3),\n",
    "('RTM LMP_ENE_PRC', 4),\n",
    "('RTM LMP_ENE_PRC', 5),\n",
    "('RTM LMP_ENE_PRC', 6),\n",
    "('RTM LMP_ENE_PRC', 7),\n",
    "('RTM LMP_ENE_PRC', 8),\n",
    "('RTM LMP_ENE_PRC', 9),\n",
    "('RTM LMP_ENE_PRC', 10),\n",
    "('RTM LMP_ENE_PRC', 11),\n",
    "('RTM LMP_ENE_PRC', 12),\n",
    "('RTM LMP_GHG_PRC', 1),\n",
    "('RTM LMP_GHG_PRC', 7),\n",
    "('RTM LMP_LOSS_PRC', 1),\n",
    "('RTM LMP_LOSS_PRC', 2),\n",
    "('RTM LMP_LOSS_PRC', 3),\n",
    "('RTM LMP_LOSS_PRC', 4),\n",
    "('RTM LMP_LOSS_PRC', 5),\n",
    "('RTM LMP_LOSS_PRC', 6),\n",
    "('RTM LMP_LOSS_PRC', 7),\n",
    "('RTM LMP_LOSS_PRC', 8),\n",
    "('RTM LMP_LOSS_PRC', 9),\n",
    "('RTM LMP_LOSS_PRC', 10),\n",
    "('RTM LMP_LOSS_PRC', 11),\n",
    "('RTM LMP_LOSS_PRC', 12),\n",
    "('RTM LMP_PRC', 1),\n",
    "('RTM LMP_PRC', 2),\n",
    "('RTM LMP_PRC', 3),\n",
    "('RTM LMP_PRC', 4),\n",
    "('RTM LMP_PRC', 5),\n",
    "('RTM LMP_PRC', 6),\n",
    "('RTM LMP_PRC', 7),\n",
    "('RTM LMP_PRC', 8),\n",
    "('RTM LMP_PRC', 9),\n",
    "('RTM LMP_PRC', 10),\n",
    "('RTM LMP_PRC', 11),\n",
    "('RTM LMP_PRC', 12),\n",
    "'DAM LMP_CONG_PRC',\n",
    "'DAM LMP_GHG_PRC',\n",
    "('HASP LMP_CONG_PRC', 1),\n",
    "('HASP LMP_CONG_PRC', 2),\n",
    "('HASP LMP_CONG_PRC', 3),\n",
    "('HASP LMP_CONG_PRC', 4),\n",
    "('HASP LMP_ENE_PRC', 1),\n",
    "('HASP LMP_ENE_PRC', 2),\n",
    "('HASP LMP_ENE_PRC', 3),\n",
    "('HASP LMP_ENE_PRC', 4),\n",
    "('HASP LMP_GHG_PRC', 1),\n",
    "('HASP LMP_LOSS_PRC', 1),\n",
    "('HASP LMP_LOSS_PRC', 2),\n",
    "('HASP LMP_LOSS_PRC', 3),\n",
    "('HASP LMP_LOSS_PRC', 4),\n",
    "('HASP LMP_PRC', 1),\n",
    "('HASP LMP_PRC', 2),\n",
    "('HASP LMP_PRC', 3),\n",
    "('HASP LMP_PRC', 4),\n",
    "('RTM LMP_CONG_PRC', 1),\n",
    "('RTM LMP_CONG_PRC', 2),\n",
    "('RTM LMP_CONG_PRC', 3),\n",
    "('RTM LMP_CONG_PRC', 4),\n",
    "('RTM LMP_CONG_PRC', 5),\n",
    "('RTM LMP_CONG_PRC', 6),\n",
    "('RTM LMP_CONG_PRC', 7),\n",
    "('RTM LMP_CONG_PRC', 8),\n",
    "('RTM LMP_CONG_PRC', 9),\n",
    "('RTM LMP_CONG_PRC', 10),\n",
    "('RTM LMP_CONG_PRC', 11),\n",
    "('RTM LMP_CONG_PRC', 12),\n",
    "('RTM LMP_GHG_PRC', 1),\n",
    "('RTM LMP_GHG_PRC', 7),\n",
    "'DAM LMP_ENE_PRC',\n",
    "'DAM LMP_LOSS_PRC',\n",
    "'Actual_Demand',\n",
    "('RTM LMP_PRC', 1),\n",
    "'DAM LMP_PRC',]]\n",
    "temp = df['DAM LMP_PRC']\n",
    "df = df.drop([\"DAM LMP_PRC\"], axis=1)\n",
    "df.insert(0, 'DAM LMP_PRC', temp)\n",
    "df =df.drop(['DAM LMP_CONG_PRC',\n",
    " 'DAM LMP_ENE_PRC',\n",
    " 'DAM LMP_GHG_PRC',\n",
    " 'DAM LMP_LOSS_PRC',\n",
    " ('HASP LMP_CONG_PRC', 1),\n",
    " ('HASP LMP_CONG_PRC', 2),\n",
    " ('HASP LMP_CONG_PRC', 3),\n",
    " ('HASP LMP_CONG_PRC', 4),\n",
    " ('HASP LMP_ENE_PRC', 1),\n",
    " ('HASP LMP_ENE_PRC', 2),\n",
    " ('HASP LMP_ENE_PRC', 3),\n",
    " ('HASP LMP_ENE_PRC', 4),\n",
    " ('HASP LMP_GHG_PRC', 1),\n",
    " ('HASP LMP_LOSS_PRC', 1),\n",
    " ('HASP LMP_LOSS_PRC', 2),\n",
    " ('HASP LMP_LOSS_PRC', 3),\n",
    " ('HASP LMP_LOSS_PRC', 4),\n",
    " ('HASP LMP_PRC', 1),\n",
    " ('HASP LMP_PRC', 2),\n",
    " ('HASP LMP_PRC', 3),\n",
    " ('HASP LMP_PRC', 4),\n",
    " ('RTM LMP_CONG_PRC', 1),\n",
    " ('RTM LMP_CONG_PRC', 2),\n",
    " ('RTM LMP_CONG_PRC', 3),\n",
    " ('RTM LMP_CONG_PRC', 4),\n",
    " ('RTM LMP_CONG_PRC', 5),\n",
    " ('RTM LMP_CONG_PRC', 6),\n",
    " ('RTM LMP_CONG_PRC', 7),\n",
    " ('RTM LMP_CONG_PRC', 8),\n",
    " ('RTM LMP_CONG_PRC', 9),\n",
    " ('RTM LMP_CONG_PRC', 10),\n",
    " ('RTM LMP_CONG_PRC', 11),\n",
    " ('RTM LMP_CONG_PRC', 12),\n",
    " ('RTM LMP_ENE_PRC', 1),\n",
    " ('RTM LMP_ENE_PRC', 2),\n",
    " ('RTM LMP_ENE_PRC', 3),\n",
    " ('RTM LMP_ENE_PRC', 4),\n",
    " ('RTM LMP_ENE_PRC', 5),\n",
    " ('RTM LMP_ENE_PRC', 6),\n",
    " ('RTM LMP_ENE_PRC', 7),\n",
    " ('RTM LMP_ENE_PRC', 8),\n",
    " ('RTM LMP_ENE_PRC', 9),\n",
    " ('RTM LMP_ENE_PRC', 10),\n",
    " ('RTM LMP_ENE_PRC', 11),\n",
    " ('RTM LMP_ENE_PRC', 12),\n",
    " ('RTM LMP_GHG_PRC', 1),\n",
    " ('RTM LMP_GHG_PRC', 7),\n",
    " ('RTM LMP_LOSS_PRC', 1),\n",
    " ('RTM LMP_LOSS_PRC', 2),\n",
    " ('RTM LMP_LOSS_PRC', 3),\n",
    " ('RTM LMP_LOSS_PRC', 4),\n",
    " ('RTM LMP_LOSS_PRC', 5),\n",
    " ('RTM LMP_LOSS_PRC', 6),\n",
    " ('RTM LMP_LOSS_PRC', 7),\n",
    " ('RTM LMP_LOSS_PRC', 8),\n",
    " ('RTM LMP_LOSS_PRC', 9),\n",
    " ('RTM LMP_LOSS_PRC', 10),\n",
    " ('RTM LMP_LOSS_PRC', 11),\n",
    " ('RTM LMP_LOSS_PRC', 12),\n",
    " ('RTM LMP_PRC', 1),\n",
    " ('RTM LMP_PRC', 2),\n",
    " ('RTM LMP_PRC', 3),\n",
    " ('RTM LMP_PRC', 4),\n",
    " ('RTM LMP_PRC', 5),\n",
    " ('RTM LMP_PRC', 6),\n",
    " ('RTM LMP_PRC', 7),\n",
    " ('RTM LMP_PRC', 8),\n",
    " ('RTM LMP_PRC', 9),\n",
    " ('RTM LMP_PRC', 10),\n",
    " ('RTM LMP_PRC', 11),\n",
    " ('RTM LMP_PRC', 12)], axis=1)"
   ]
  },
  {
   "cell_type": "code",
   "execution_count": 203,
   "metadata": {},
   "outputs": [],
   "source": [
    "features = len(list(df)) \n",
    "# load the dataset\n",
    "dataset = df.values\n",
    "\n",
    "# normalize the dataset\n",
    "# scaler = MinMaxScaler(feature_range=(0, 1))\n",
    "# dataset = scaler.fit_transform(dataset)\n",
    "\n",
    "# split into train and test sets\n",
    "train_size = int(len(dataset) * 0.9) \n",
    "test_size = len(dataset) - train_size\n",
    "train, test = dataset[0:train_size, :], dataset[train_size:len(dataset), :]\n",
    "actual_test = test\n",
    "\n",
    "# ss1 = MinMaxScaler(feature_range=(0, 1))\n",
    "# train = ss1.fit_transform(train)\n",
    "# ss2 = MinMaxScaler(feature_range=(0, 1))\n",
    "# trainY = ss2.fit_transform(trainY)\n",
    "# testY = ss2.transform(testY)\n",
    "\n",
    "# reshape into X=t and Y=t+1\n",
    "look_back = 7\n",
    "trainX, trainY = create_dataset(train, look_back)  \n",
    "testX, testY = create_dataset(test, look_back)\n",
    "# trainX.shape\n",
    "# ss1 = MinMaxScaler(feature_range=(0, 1))\n",
    "# trainX = ss1.fit_transform(trainX)\n",
    "# testX = ss1.transform(testX)\n",
    "# ss2 = MinMaxScaler(feature_range=(0, 1))\n",
    "# trainY = ss2.fit_transform(trainY)\n",
    "# testY = ss2.transform(testY)\n",
    "\n",
    "# # reshape input to be  [samples, time steps, features]\n",
    "trainX = numpy.reshape(trainX, (trainX.shape[0], look_back, features))\n",
    "testX = numpy.reshape(testX, (testX.shape[0],look_back, features))\n",
    "\n"
   ]
  },
  {
   "cell_type": "code",
   "execution_count": 204,
   "metadata": {},
   "outputs": [
    {
     "data": {
      "text/plain": [
       "(14901, 7, 75)"
      ]
     },
     "execution_count": 204,
     "metadata": {},
     "output_type": "execute_result"
    }
   ],
   "source": [
    "trainX.shape"
   ]
  },
  {
   "cell_type": "code",
   "execution_count": 205,
   "metadata": {},
   "outputs": [
    {
     "name": "stdout",
     "output_type": "stream",
     "text": [
      "Train on 14901 samples, validate on 1649 samples\n",
      "Epoch 1/20\n",
      "14901/14901 [==============================] - 2s 135us/step - loss: 3544.4736 - val_loss: 2928.8752\n",
      "Epoch 2/20\n",
      "14901/14901 [==============================] - 1s 96us/step - loss: 3290.1932 - val_loss: 2610.2741\n",
      "Epoch 3/20\n",
      "14901/14901 [==============================] - 1s 96us/step - loss: 3099.2755 - val_loss: 2340.7089\n",
      "Epoch 4/20\n",
      "14901/14901 [==============================] - 1s 96us/step - loss: 2943.2234 - val_loss: 2110.0468\n",
      "Epoch 5/20\n",
      "14901/14901 [==============================] - 1s 97us/step - loss: 2815.2848 - val_loss: 1912.3345\n",
      "Epoch 6/20\n",
      "14901/14901 [==============================] - 1s 96us/step - loss: 2710.8753 - val_loss: 1743.0749\n",
      "Epoch 7/20\n",
      "14901/14901 [==============================] - 1s 98us/step - loss: 2626.2728 - val_loss: 1598.5185\n",
      "Epoch 8/20\n",
      "14901/14901 [==============================] - 1s 96us/step - loss: 2558.2915 - val_loss: 1475.4132\n",
      "Epoch 9/20\n",
      "14901/14901 [==============================] - 1s 98us/step - loss: 2504.1818 - val_loss: 1370.8980\n",
      "Epoch 10/20\n",
      "14901/14901 [==============================] - 1s 99us/step - loss: 2461.5332 - val_loss: 1282.4367\n",
      "Epoch 11/20\n",
      "14901/14901 [==============================] - 1s 96us/step - loss: 2428.2600 - val_loss: 1207.7817\n",
      "Epoch 12/20\n",
      "14901/14901 [==============================] - 1s 97us/step - loss: 2402.5699 - val_loss: 1144.9467\n",
      "Epoch 13/20\n",
      "14901/14901 [==============================] - 1s 97us/step - loss: 2382.9396 - val_loss: 1092.1851\n",
      "Epoch 14/20\n",
      "14901/14901 [==============================] - 1s 96us/step - loss: 2368.0920 - val_loss: 1047.9712\n",
      "Epoch 15/20\n",
      "14901/14901 [==============================] - 1s 97us/step - loss: 2356.9727 - val_loss: 1010.9803\n",
      "Epoch 16/20\n",
      "14901/14901 [==============================] - 1s 99us/step - loss: 2348.7244 - val_loss: 980.0716\n",
      "Epoch 17/20\n",
      "14901/14901 [==============================] - 1s 98us/step - loss: 2342.6607 - val_loss: 954.2689\n",
      "Epoch 18/20\n",
      "14901/14901 [==============================] - 1s 97us/step - loss: 2338.2403 - val_loss: 932.7411\n",
      "Epoch 19/20\n",
      "14901/14901 [==============================] - 1s 98us/step - loss: 2335.0433 - val_loss: 914.7860\n",
      "Epoch 20/20\n",
      "14901/14901 [==============================] - 1s 97us/step - loss: 2332.7483 - val_loss: 899.8121\n",
      "Model: \"sequential_15\"\n",
      "_________________________________________________________________\n",
      "Layer (type)                 Output Shape              Param #   \n",
      "=================================================================\n",
      "lstm_15 (LSTM)               (None, 100)               70400     \n",
      "_________________________________________________________________\n",
      "dense_14 (Dense)             (None, 1)                 101       \n",
      "=================================================================\n",
      "Total params: 70,501\n",
      "Trainable params: 70,501\n",
      "Non-trainable params: 0\n",
      "_________________________________________________________________\n"
     ]
    }
   ],
   "source": [
    "model = Sequential()\n",
    "\n",
    "model.add(LSTM(units=100, input_shape=( trainX.shape[1], trainX.shape[2])))\n",
    "\n",
    "model.add(Dense(units=1))\n",
    "model.compile(optimizer='adam',loss='mean_squared_error')\n",
    "\n",
    "history = model.fit(trainX, trainY, epochs=20, batch_size=70, validation_data=(testX, testY),  verbose=1, shuffle=False)\n",
    "\n",
    "model.summary()\n",
    "\n",
    "\n",
    "# model = Sequential()\n",
    "# model.add(LSTM(neurons, batch_input_shape=(batch_size, X.shape[1], X.shape[2]), stateful=True))\n",
    "# model.add(Dense(1))\n",
    "# model.compile(loss='mean_squared_error', optimizer='adam')\n",
    "# for i in range(nb_epoch):\n",
    "#     model.fit(X, y, epochs=1, batch_size=batch_size, verbose=0, shuffle=False)\n",
    "#     model.reset_states()"
   ]
  },
  {
   "cell_type": "code",
   "execution_count": 207,
   "metadata": {},
   "outputs": [],
   "source": [
    "# train_predict = model.predict(trainX)\n",
    "test_predict = numpy.array(model.predict(testX))"
   ]
  },
  {
   "cell_type": "code",
   "execution_count": 210,
   "metadata": {},
   "outputs": [
    {
     "data": {
      "text/plain": [
       "array([[36.48516],\n",
       "       [36.48516],\n",
       "       [36.48516],\n",
       "       ...,\n",
       "       [36.48516],\n",
       "       [36.48516],\n",
       "       [36.48516]], dtype=float32)"
      ]
     },
     "execution_count": 210,
     "metadata": {},
     "output_type": "execute_result"
    }
   ],
   "source": [
    "test_predict"
   ]
  },
  {
   "cell_type": "code",
   "execution_count": 209,
   "metadata": {},
   "outputs": [
    {
     "data": {
      "image/png": "[encoded data removed]",
      "text/plain": [
       "<Figure size 1080x576 with 1 Axes>"
      ]
     },
     "metadata": {
      "needs_background": "light"
     },
     "output_type": "display_data"
    },
    {
     "data": {
      "text/plain": [
       "array([[36.48516],\n",
       "       [36.48516],\n",
       "       [36.48516],\n",
       "       ...,\n",
       "       [36.48516],\n",
       "       [36.48516],\n",
       "       [36.48516]], dtype=float32)"
      ]
     },
     "execution_count": 209,
     "metadata": {},
     "output_type": "execute_result"
    }
   ],
   "source": [
    "import datetime\n",
    "from matplotlib.ticker import FuncFormatter\n",
    "import matplotlib.dates as mdates\n",
    "\n",
    "\n",
    "\n",
    "plt.figure(figsize=(15,8))\n",
    "day = 25\n",
    "plt.plot(testY[day*24+1:day*24+24],\n",
    "         label='test Y-true',\n",
    "         color='blue')\n",
    "plt.plot(test_predict[day*24+1:day*24+24],\n",
    "         label='LSTM',\n",
    "         color='green',linestyle='dashed')\n",
    "\n",
    "# plt.plot(lasso_gap,\n",
    "#          label='Lasso',\n",
    "#          color='red',linestyle=':')\n",
    "plt.legend()\n",
    "plt.xlim(0,24)\n",
    "plt.title('GAP Predicitons vs Actual Values', fontsize=18)\n",
    "plt.xlabel('Hour')\n",
    "plt.ylabel('Price')\n",
    "# plt.savefig('../images/dam_RNN_12_test_pred_vs_true_zoomed.jpg', bbox_inches='tight')\n",
    "plt.show();test_predict"
   ]
  },
  {
   "cell_type": "code",
   "execution_count": 202,
   "metadata": {},
   "outputs": [
    {
     "data": {
      "text/plain": [
       "(1649, 7, 75)"
      ]
     },
     "execution_count": 202,
     "metadata": {},
     "output_type": "execute_result"
    }
   ],
   "source": [
    "testX.shape"
   ]
  },
  {
   "cell_type": "code",
   "execution_count": 199,
   "metadata": {},
   "outputs": [],
   "source": [
    "k = testX[:,-features+10:]"
   ]
  },
  {
   "cell_type": "code",
   "execution_count": 200,
   "metadata": {},
   "outputs": [
    {
     "data": {
      "text/plain": [
       "(1649, 75)"
      ]
     },
     "execution_count": 200,
     "metadata": {},
     "output_type": "execute_result"
    }
   ],
   "source": [
    "k.shape"
   ]
  },
  {
   "cell_type": "code",
   "execution_count": 192,
   "metadata": {},
   "outputs": [
    {
     "data": {
      "text/plain": [
       "array([[0.05853897],\n",
       "       [0.05733035],\n",
       "       [0.05052405],\n",
       "       ...,\n",
       "       [0.05057579],\n",
       "       [0.05347742],\n",
       "       [0.04749667]], dtype=float32)"
      ]
     },
     "execution_count": 192,
     "metadata": {},
     "output_type": "execute_result"
    }
   ],
   "source": [
    "inv_new = numpy.concatenate( (testY, testX[:,-features+1:] ) ,axis = 1)\n",
    "inv_new = scaler.inverse_transform(inv_new)\n",
    "actual_pred = inv_new[:,0]"
   ]
  },
  {
   "cell_type": "code",
   "execution_count": 184,
   "metadata": {},
   "outputs": [
    {
     "data": {
      "text/plain": [
       "(1649,)"
      ]
     },
     "execution_count": 184,
     "metadata": {},
     "output_type": "execute_result"
    }
   ],
   "source": [
    "k[:,0].res"
   ]
  },
  {
   "cell_type": "code",
   "execution_count": 182,
   "metadata": {},
   "outputs": [],
   "source": [
    "k  = actual_test[:-look_back-1][]"
   ]
  },
  {
   "cell_type": "code",
   "execution_count": 183,
   "metadata": {},
   "outputs": [
    {
     "ename": "ValueError",
     "evalue": "could not broadcast input array from shape (1649,1) into shape (1649)",
     "output_type": "error",
     "traceback": [
      "\u001b[1;31m---------------------------------------------------------------------------\u001b[0m",
      "\u001b[1;31mValueError\u001b[0m                                Traceback (most recent call last)",
      "\u001b[1;32m<ipython-input-183-0b72c710b8ee>\u001b[0m in \u001b[0;36m<module>\u001b[1;34m\u001b[0m\n\u001b[1;32m----> 1\u001b[1;33m \u001b[0mk\u001b[0m\u001b[1;33m[\u001b[0m\u001b[1;33m:\u001b[0m\u001b[1;33m,\u001b[0m\u001b[1;36m0\u001b[0m\u001b[1;33m]\u001b[0m \u001b[1;33m=\u001b[0m \u001b[0mtest_predict\u001b[0m\u001b[1;33m\u001b[0m\u001b[1;33m\u001b[0m\u001b[0m\n\u001b[0m",
      "\u001b[1;31mValueError\u001b[0m: could not broadcast input array from shape (1649,1) into shape (1649)"
     ]
    }
   ],
   "source": [
    "k[:,0] = test_predict"
   ]
  },
  {
   "cell_type": "code",
   "execution_count": 171,
   "metadata": {},
   "outputs": [
    {
     "ename": "ValueError",
     "evalue": "all the input array dimensions for the concatenation axis must match exactly, but along dimension 0, the array at index 0 has size 1649 and the array at index 1 has size 1657",
     "output_type": "error",
     "traceback": [
      "\u001b[1;31m---------------------------------------------------------------------------\u001b[0m",
      "\u001b[1;31mValueError\u001b[0m                                Traceback (most recent call last)",
      "\u001b[1;32m<ipython-input-171-119f1a91826c>\u001b[0m in \u001b[0;36m<module>\u001b[1;34m\u001b[0m\n\u001b[1;32m----> 1\u001b[1;33m \u001b[0minv_new\u001b[0m \u001b[1;33m=\u001b[0m \u001b[0mnumpy\u001b[0m\u001b[1;33m.\u001b[0m\u001b[0mconcatenate\u001b[0m\u001b[1;33m(\u001b[0m \u001b[1;33m(\u001b[0m\u001b[0mtest_predict\u001b[0m\u001b[1;33m,\u001b[0m \u001b[0mactual_test\u001b[0m\u001b[1;33m[\u001b[0m\u001b[1;33m:\u001b[0m\u001b[1;33m,\u001b[0m\u001b[1;33m-\u001b[0m\u001b[0mfeatures\u001b[0m\u001b[1;33m+\u001b[0m\u001b[1;36m1\u001b[0m\u001b[1;33m:\u001b[0m\u001b[1;33m]\u001b[0m \u001b[1;33m)\u001b[0m \u001b[1;33m,\u001b[0m \u001b[0maxis\u001b[0m \u001b[1;33m=\u001b[0m\u001b[1;36m1\u001b[0m\u001b[1;33m)\u001b[0m\u001b[1;33m\u001b[0m\u001b[1;33m\u001b[0m\u001b[0m\n\u001b[0m",
      "\u001b[1;32m<__array_function__ internals>\u001b[0m in \u001b[0;36mconcatenate\u001b[1;34m(*args, **kwargs)\u001b[0m\n",
      "\u001b[1;31mValueError\u001b[0m: all the input array dimensions for the concatenation axis must match exactly, but along dimension 0, the array at index 0 has size 1649 and the array at index 1 has size 1657"
     ]
    }
   ],
   "source": [
    "inv_new = numpy.concatenate( (test_predict, actual_test[:,-features+1:] ) , axis =1)"
   ]
  },
  {
   "cell_type": "code",
   "execution_count": 144,
   "metadata": {},
   "outputs": [],
   "source": [
    "inv_new = scaler.inverse_transform(inv_new)"
   ]
  },
  {
   "cell_type": "code",
   "execution_count": 145,
   "metadata": {},
   "outputs": [],
   "source": [
    "final_pred = inv_new[:,0]"
   ]
  },
  {
   "cell_type": "code",
   "execution_count": 146,
   "metadata": {},
   "outputs": [
    {
     "data": {
      "text/plain": [
       "array([85.2740915 , 86.78147708, 71.24247002, ..., 73.40684455,\n",
       "       81.27133673, 67.75877238])"
      ]
     },
     "execution_count": 146,
     "metadata": {},
     "output_type": "execute_result"
    }
   ],
   "source": [
    "final_pred"
   ]
  },
  {
   "cell_type": "code",
   "execution_count": 147,
   "metadata": {},
   "outputs": [],
   "source": [
    "testY = testY.reshape( len(testY), 1)"
   ]
  },
  {
   "cell_type": "code",
   "execution_count": 149,
   "metadata": {},
   "outputs": [],
   "source": [
    "inv_new = numpy.concatenate( (testY, testX[:,-features+1:] ) ,axis = 1)\n",
    "inv_new = scaler.inverse_transform(inv_new)\n",
    "actual_pred = inv_new[:,0]"
   ]
  },
  {
   "cell_type": "code",
   "execution_count": 150,
   "metadata": {},
   "outputs": [
    {
     "data": {
      "text/plain": [
       "array([99.50205, 79.88119, 63.6119 , ..., 50.63608, 47.04583, 44.31923])"
      ]
     },
     "execution_count": 150,
     "metadata": {},
     "output_type": "execute_result"
    }
   ],
   "source": [
    "actual_pred"
   ]
  },
  {
   "cell_type": "code",
   "execution_count": 152,
   "metadata": {},
   "outputs": [
    {
     "data": {
      "text/plain": [
       "array([[0.70833333, 0.44973719, 0.61303579, ..., 0.17295763, 0.17485592,\n",
       "        0.16826125],\n",
       "       [0.75      , 0.46616294, 0.62652232, ..., 0.17196587, 0.17385914,\n",
       "        0.16788822],\n",
       "       [0.79166667, 0.44842313, 0.64481662, ..., 0.16715037, 0.16688329,\n",
       "        0.16313387],\n",
       "       ...,\n",
       "       [0.75      , 0.40407359, 0.59324348, ..., 0.17282079, 0.17471839,\n",
       "        0.16864548],\n",
       "       [0.79166667, 0.38797635, 0.58877375, ..., 0.16485944, 0.16679359,\n",
       "        0.1595008 ],\n",
       "       [0.875     , 0.31406045, 0.55580424, ..., 0.1553551 , 0.14944993,\n",
       "        0.14274087]])"
      ]
     },
     "execution_count": 152,
     "metadata": {},
     "output_type": "execute_result"
    }
   ],
   "source": [
    "testX[:,-features+1:]"
   ]
  },
  {
   "cell_type": "code",
   "execution_count": 129,
   "metadata": {},
   "outputs": [],
   "source": [
    "trainY = trainY.reshape(14901,1)"
   ]
  },
  {
   "cell_type": "code",
   "execution_count": 130,
   "metadata": {},
   "outputs": [
    {
     "ename": "ValueError",
     "evalue": "all the input array dimensions for the concatenation axis must match exactly, but along dimension 0, the array at index 0 has size 14901 and the array at index 1 has size 1649",
     "output_type": "error",
     "traceback": [
      "\u001b[1;31m---------------------------------------------------------------------------\u001b[0m",
      "\u001b[1;31mValueError\u001b[0m                                Traceback (most recent call last)",
      "\u001b[1;32m<ipython-input-130-112e56543fbb>\u001b[0m in \u001b[0;36m<module>\u001b[1;34m\u001b[0m\n\u001b[0;32m      1\u001b[0m \u001b[1;31m# k = dataset\u001b[0m\u001b[1;33m\u001b[0m\u001b[1;33m\u001b[0m\u001b[1;33m\u001b[0m\u001b[0m\n\u001b[1;32m----> 2\u001b[1;33m \u001b[0mgap\u001b[0m \u001b[1;33m=\u001b[0m \u001b[0mnumpy\u001b[0m\u001b[1;33m.\u001b[0m\u001b[0mconcatenate\u001b[0m\u001b[1;33m(\u001b[0m\u001b[1;33m(\u001b[0m\u001b[0mtrainY\u001b[0m\u001b[1;33m,\u001b[0m \u001b[0mtest_predict\u001b[0m\u001b[1;33m)\u001b[0m\u001b[1;33m,\u001b[0m \u001b[0maxis\u001b[0m\u001b[1;33m=\u001b[0m\u001b[1;36m1\u001b[0m\u001b[1;33m)\u001b[0m\u001b[1;33m\u001b[0m\u001b[1;33m\u001b[0m\u001b[0m\n\u001b[0m\u001b[0;32m      3\u001b[0m \u001b[1;31m# k[:,0] = gap\u001b[0m\u001b[1;33m\u001b[0m\u001b[1;33m\u001b[0m\u001b[1;33m\u001b[0m\u001b[0m\n",
      "\u001b[1;32m<__array_function__ internals>\u001b[0m in \u001b[0;36mconcatenate\u001b[1;34m(*args, **kwargs)\u001b[0m\n",
      "\u001b[1;31mValueError\u001b[0m: all the input array dimensions for the concatenation axis must match exactly, but along dimension 0, the array at index 0 has size 14901 and the array at index 1 has size 1649"
     ]
    }
   ],
   "source": [
    "# k = dataset\n",
    "gap = numpy.concatenate((trainY, test_predict), axis=1)\n",
    "# k[:,0] = gap"
   ]
  },
  {
   "cell_type": "code",
   "execution_count": 89,
   "metadata": {},
   "outputs": [
    {
     "ename": "ValueError",
     "evalue": "non-broadcastable output operand with shape (14901,1) doesn't match the broadcast shape (14901,75)",
     "output_type": "error",
     "traceback": [
      "\u001b[1;31m---------------------------------------------------------------------------\u001b[0m",
      "\u001b[1;31mValueError\u001b[0m                                Traceback (most recent call last)",
      "\u001b[1;32m<ipython-input-89-e5d3456f607a>\u001b[0m in \u001b[0;36m<module>\u001b[1;34m\u001b[0m\n\u001b[0;32m      1\u001b[0m \u001b[1;31m# invert predictions\u001b[0m\u001b[1;33m\u001b[0m\u001b[1;33m\u001b[0m\u001b[1;33m\u001b[0m\u001b[0m\n\u001b[1;32m----> 2\u001b[1;33m \u001b[0mtrain_predict\u001b[0m \u001b[1;33m=\u001b[0m \u001b[0mscaler\u001b[0m\u001b[1;33m.\u001b[0m\u001b[0minverse_transform\u001b[0m\u001b[1;33m(\u001b[0m\u001b[0mtrain_predict\u001b[0m\u001b[1;33m)\u001b[0m\u001b[1;33m\u001b[0m\u001b[1;33m\u001b[0m\u001b[0m\n\u001b[0m\u001b[0;32m      3\u001b[0m \u001b[0mY_train\u001b[0m \u001b[1;33m=\u001b[0m \u001b[0mscaler\u001b[0m\u001b[1;33m.\u001b[0m\u001b[0minverse_transform\u001b[0m\u001b[1;33m(\u001b[0m\u001b[1;33m[\u001b[0m\u001b[0mtrainY\u001b[0m\u001b[1;33m]\u001b[0m\u001b[1;33m)\u001b[0m\u001b[1;33m\u001b[0m\u001b[1;33m\u001b[0m\u001b[0m\n\u001b[0;32m      4\u001b[0m \u001b[0mtest_predict\u001b[0m \u001b[1;33m=\u001b[0m \u001b[0mscaler\u001b[0m\u001b[1;33m.\u001b[0m\u001b[0minverse_transform\u001b[0m\u001b[1;33m(\u001b[0m\u001b[0mtest_predict\u001b[0m\u001b[1;33m)\u001b[0m\u001b[1;33m\u001b[0m\u001b[1;33m\u001b[0m\u001b[0m\n\u001b[0;32m      5\u001b[0m \u001b[0mY_test\u001b[0m \u001b[1;33m=\u001b[0m \u001b[0mscaler\u001b[0m\u001b[1;33m.\u001b[0m\u001b[0minverse_transform\u001b[0m\u001b[1;33m(\u001b[0m\u001b[1;33m[\u001b[0m\u001b[0mtestY\u001b[0m\u001b[1;33m]\u001b[0m\u001b[1;33m)\u001b[0m\u001b[1;33m\u001b[0m\u001b[1;33m\u001b[0m\u001b[0m\n",
      "\u001b[1;32m~\\Anaconda3\\envs\\PricePrediction\\lib\\site-packages\\sklearn\\preprocessing\\_data.py\u001b[0m in \u001b[0;36minverse_transform\u001b[1;34m(self, X)\u001b[0m\n\u001b[0;32m    434\u001b[0m                         force_all_finite=\"allow-nan\")\n\u001b[0;32m    435\u001b[0m \u001b[1;33m\u001b[0m\u001b[0m\n\u001b[1;32m--> 436\u001b[1;33m         \u001b[0mX\u001b[0m \u001b[1;33m-=\u001b[0m \u001b[0mself\u001b[0m\u001b[1;33m.\u001b[0m\u001b[0mmin_\u001b[0m\u001b[1;33m\u001b[0m\u001b[1;33m\u001b[0m\u001b[0m\n\u001b[0m\u001b[0;32m    437\u001b[0m         \u001b[0mX\u001b[0m \u001b[1;33m/=\u001b[0m \u001b[0mself\u001b[0m\u001b[1;33m.\u001b[0m\u001b[0mscale_\u001b[0m\u001b[1;33m\u001b[0m\u001b[1;33m\u001b[0m\u001b[0m\n\u001b[0;32m    438\u001b[0m         \u001b[1;32mreturn\u001b[0m \u001b[0mX\u001b[0m\u001b[1;33m\u001b[0m\u001b[1;33m\u001b[0m\u001b[0m\n",
      "\u001b[1;31mValueError\u001b[0m: non-broadcastable output operand with shape (14901,1) doesn't match the broadcast shape (14901,75)"
     ]
    }
   ],
   "source": [
    "\n",
    "# invert predictions\n",
    "# train_predict = scaler.inverse_transform(train_predict)\n",
    "# Y_train = scaler.inverse_transform([trainY])\n",
    "test_predict = scaler.inverse_transform(test_predict)\n",
    "# Y_test = scaler.inverse_transform([testY])\n",
    "print('Train Mean Absolute Error:', mean_absolute_error(Y_train[0], train_predict[:,0]))\n",
    "print('Train Root Mean Squared Error:',np.sqrt(mean_squared_error(Y_train[0], train_predict[:,0])))\n",
    "print('Test Mean Absolute Error:', mean_absolute_error(Y_test[0], test_predict[:,0]))\n",
    "print('Test Root Mean Squared Error:',np.sqrt(mean_squared_error(Y_test[0], test_predict[:,0])))"
   ]
  },
  {
   "cell_type": "code",
   "execution_count": null,
   "metadata": {},
   "outputs": [],
   "source": []
  }
 ],
 "metadata": {
  "kernelspec": {
   "display_name": "Python 3",
   "language": "python",
   "name": "python3"
  },
  "language_info": {
   "codemirror_mode": {
    "name": "ipython",
    "version": 3
   },
   "file_extension": ".py",
   "mimetype": "text/x-python",
   "name": "python",
   "nbconvert_exporter": "python",
   "pygments_lexer": "ipython3",
   "version": "3.7.4"
  }
 },
 "nbformat": 4,
 "nbformat_minor": 4
}
