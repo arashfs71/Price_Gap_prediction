{
 "cells": [
  {
   "cell_type": "code",
   "execution_count": 1,
   "metadata": {},
   "outputs": [
    {
     "ename": "ModuleNotFoundError",
     "evalue": "No module named 'keras'",
     "output_type": "error",
     "traceback": [
      "\u001b[1;31m---------------------------------------------------------------------------\u001b[0m",
      "\u001b[1;31mModuleNotFoundError\u001b[0m                       Traceback (most recent call last)",
      "\u001b[1;32m<ipython-input-1-06286deed339>\u001b[0m in \u001b[0;36m<module>\u001b[1;34m\u001b[0m\n\u001b[0;32m      1\u001b[0m \u001b[1;32mimport\u001b[0m \u001b[0mpandas\u001b[0m \u001b[1;32mas\u001b[0m \u001b[0mpd\u001b[0m\u001b[1;33m\u001b[0m\u001b[1;33m\u001b[0m\u001b[0m\n\u001b[0;32m      2\u001b[0m \u001b[1;32mimport\u001b[0m \u001b[0mnumpy\u001b[0m \u001b[1;32mas\u001b[0m \u001b[0mnp\u001b[0m\u001b[1;33m\u001b[0m\u001b[1;33m\u001b[0m\u001b[0m\n\u001b[1;32m----> 3\u001b[1;33m \u001b[1;32mfrom\u001b[0m \u001b[0mkeras\u001b[0m\u001b[1;33m.\u001b[0m\u001b[0mmodels\u001b[0m \u001b[1;32mimport\u001b[0m \u001b[0mSequential\u001b[0m\u001b[1;33m\u001b[0m\u001b[1;33m\u001b[0m\u001b[0m\n\u001b[0m\u001b[0;32m      4\u001b[0m \u001b[1;32mfrom\u001b[0m \u001b[0mkeras\u001b[0m\u001b[1;33m.\u001b[0m\u001b[0mlayers\u001b[0m \u001b[1;32mimport\u001b[0m \u001b[0mDense\u001b[0m\u001b[1;33m,\u001b[0m \u001b[0mEmbedding\u001b[0m\u001b[1;33m,\u001b[0m \u001b[0mLSTM\u001b[0m\u001b[1;33m\u001b[0m\u001b[1;33m\u001b[0m\u001b[0m\n\u001b[0;32m      5\u001b[0m \u001b[1;32mfrom\u001b[0m \u001b[0msklearn\u001b[0m\u001b[1;33m.\u001b[0m\u001b[0mmodel_selection\u001b[0m \u001b[1;32mimport\u001b[0m \u001b[0mtrain_test_split\u001b[0m\u001b[1;33m\u001b[0m\u001b[1;33m\u001b[0m\u001b[0m\n",
      "\u001b[1;31mModuleNotFoundError\u001b[0m: No module named 'keras'"
     ]
    }
   ],
   "source": [
    "import pandas as pd\n",
    "import numpy as np\n",
    "from keras.models import Sequential\n",
    "from keras.layers import Dense, Embedding, LSTM\n",
    "from sklearn.model_selection import train_test_split\n",
    "from matplotlib import pyplot\n",
    "import keras\n",
    "from keras.models import Sequential\n",
    "from keras.layers import Dense\n",
    "from keras.layers import LSTM\n",
    "from keras.layers import Dropout\n",
    "from keras.layers import *\n",
    "from sklearn.preprocessing import MinMaxScaler\n",
    "from sklearn.metrics import mean_squared_error\n",
    "from sklearn.metrics import mean_absolute_error\n",
    "from keras.callbacks import EarlyStopping\n",
    "\n",
    "import matplotlib.pyplot as plt\n",
    "import warnings\n",
    "warnings.simplefilter(action = 'ignore', category = FutureWarning)\n",
    "from keras.optimizers import RMSprop\n",
    "from keras.callbacks import ModelCheckpoint, EarlyStopping\n",
    "from keras.models import model_from_json\n"
   ]
  },
  {
   "cell_type": "code",
   "execution_count": 111,
   "metadata": {},
   "outputs": [],
   "source": [
    "df = pd.read_pickle('df.pkl')\n",
    "df = df.reset_index(drop=True)\n",
    "Y_cols = ['DAM LMP_PRC'] \n",
    "X_cols = [col for col in list(df) if col not in Y_cols+[\n",
    "('HASP LMP_CONG_PRC', 1),\n",
    "('HASP LMP_CONG_PRC', 2),\n",
    "('HASP LMP_CONG_PRC', 3),\n",
    "('HASP LMP_CONG_PRC', 4),\n",
    "('HASP LMP_ENE_PRC', 1),\n",
    "('HASP LMP_ENE_PRC', 2),\n",
    "('HASP LMP_ENE_PRC', 3),\n",
    "('HASP LMP_ENE_PRC', 4),\n",
    "('HASP LMP_GHG_PRC', 1),\n",
    "('HASP LMP_LOSS_PRC', 1),\n",
    "('HASP LMP_LOSS_PRC', 2),\n",
    "('HASP LMP_LOSS_PRC', 3),\n",
    "('HASP LMP_LOSS_PRC', 4),\n",
    "('HASP LMP_PRC', 1),\n",
    "('HASP LMP_PRC', 2),\n",
    "('HASP LMP_PRC', 3),\n",
    "('HASP LMP_PRC', 4),\n",
    "('RTM LMP_CONG_PRC', 1),\n",
    "('RTM LMP_CONG_PRC', 2),\n",
    "('RTM LMP_CONG_PRC', 3),\n",
    "('RTM LMP_CONG_PRC', 4),\n",
    "('RTM LMP_CONG_PRC', 5),\n",
    "('RTM LMP_CONG_PRC', 6),\n",
    "('RTM LMP_CONG_PRC', 7),\n",
    "('RTM LMP_CONG_PRC', 8),\n",
    "('RTM LMP_CONG_PRC', 9),\n",
    "('RTM LMP_CONG_PRC', 10),\n",
    "('RTM LMP_CONG_PRC', 11),\n",
    "('RTM LMP_CONG_PRC', 12),\n",
    "('RTM LMP_ENE_PRC', 1),\n",
    "('RTM LMP_ENE_PRC', 2),\n",
    "('RTM LMP_ENE_PRC', 3),\n",
    "('RTM LMP_ENE_PRC', 4),\n",
    "('RTM LMP_ENE_PRC', 5),\n",
    "('RTM LMP_ENE_PRC', 6),\n",
    "('RTM LMP_ENE_PRC', 7),\n",
    "('RTM LMP_ENE_PRC', 8),\n",
    "('RTM LMP_ENE_PRC', 9),\n",
    "('RTM LMP_ENE_PRC', 10),\n",
    "('RTM LMP_ENE_PRC', 11),\n",
    "('RTM LMP_ENE_PRC', 12),\n",
    "('RTM LMP_GHG_PRC', 1),\n",
    "('RTM LMP_GHG_PRC', 7),\n",
    "('RTM LMP_LOSS_PRC', 1),\n",
    "('RTM LMP_LOSS_PRC', 2),\n",
    "('RTM LMP_LOSS_PRC', 3),\n",
    "('RTM LMP_LOSS_PRC', 4),\n",
    "('RTM LMP_LOSS_PRC', 5),\n",
    "('RTM LMP_LOSS_PRC', 6),\n",
    "('RTM LMP_LOSS_PRC', 7),\n",
    "('RTM LMP_LOSS_PRC', 8),\n",
    "('RTM LMP_LOSS_PRC', 9),\n",
    "('RTM LMP_LOSS_PRC', 10),\n",
    "('RTM LMP_LOSS_PRC', 11),\n",
    "('RTM LMP_LOSS_PRC', 12),\n",
    "('RTM LMP_PRC', 1),\n",
    "('RTM LMP_PRC', 2),\n",
    "('RTM LMP_PRC', 3),\n",
    "('RTM LMP_PRC', 4),\n",
    "('RTM LMP_PRC', 5),\n",
    "('RTM LMP_PRC', 6),\n",
    "('RTM LMP_PRC', 7),\n",
    "('RTM LMP_PRC', 8),\n",
    "('RTM LMP_PRC', 9),\n",
    "('RTM LMP_PRC', 10),\n",
    "('RTM LMP_PRC', 11),\n",
    "('RTM LMP_PRC', 12),\n",
    "'DAM LMP_CONG_PRC',\n",
    "'DAM LMP_GHG_PRC',\n",
    "('HASP LMP_CONG_PRC', 1),\n",
    "('HASP LMP_CONG_PRC', 2),\n",
    "('HASP LMP_CONG_PRC', 3),\n",
    "('HASP LMP_CONG_PRC', 4),\n",
    "('HASP LMP_ENE_PRC', 1),\n",
    "('HASP LMP_ENE_PRC', 2),\n",
    "('HASP LMP_ENE_PRC', 3),\n",
    "('HASP LMP_ENE_PRC', 4),\n",
    "('HASP LMP_GHG_PRC', 1),\n",
    "('HASP LMP_LOSS_PRC', 1),\n",
    "('HASP LMP_LOSS_PRC', 2),\n",
    "('HASP LMP_LOSS_PRC', 3),\n",
    "('HASP LMP_LOSS_PRC', 4),\n",
    "('HASP LMP_PRC', 1),\n",
    "('HASP LMP_PRC', 2),\n",
    "('HASP LMP_PRC', 3),\n",
    "('HASP LMP_PRC', 4),\n",
    "('RTM LMP_CONG_PRC', 1),\n",
    "('RTM LMP_CONG_PRC', 2),\n",
    "('RTM LMP_CONG_PRC', 3),\n",
    "('RTM LMP_CONG_PRC', 4),\n",
    "('RTM LMP_CONG_PRC', 5),\n",
    "('RTM LMP_CONG_PRC', 6),\n",
    "('RTM LMP_CONG_PRC', 7),\n",
    "('RTM LMP_CONG_PRC', 8),\n",
    "('RTM LMP_CONG_PRC', 9),\n",
    "('RTM LMP_CONG_PRC', 10),\n",
    "('RTM LMP_CONG_PRC', 11),\n",
    "('RTM LMP_CONG_PRC', 12),\n",
    "('RTM LMP_GHG_PRC', 1),\n",
    "('RTM LMP_GHG_PRC', 7),\n",
    "'DAM LMP_ENE_PRC',\n",
    "'DAM LMP_LOSS_PRC',\n",
    "'Actual_Demand',]]\n",
    "Y = df[Y_cols]\n",
    "X = df[X_cols]\n",
    "X_train, X_test, Y_train, Y_test = train_test_split(X, Y, test_size=0.1, shuffle=False, random_state=42)"
   ]
  },
  {
   "cell_type": "code",
   "execution_count": 112,
   "metadata": {},
   "outputs": [
    {
     "data": {
      "text/plain": [
       "(2237, 1)"
      ]
     },
     "execution_count": 112,
     "metadata": {},
     "output_type": "execute_result"
    }
   ],
   "source": [
    "Y_val.shape\n"
   ]
  },
  {
   "cell_type": "code",
   "execution_count": 113,
   "metadata": {},
   "outputs": [
    {
     "data": {
      "text/html": [
       "<div>\n",
       "<style scoped>\n",
       "    .dataframe tbody tr th:only-of-type {\n",
       "        vertical-align: middle;\n",
       "    }\n",
       "\n",
       "    .dataframe tbody tr th {\n",
       "        vertical-align: top;\n",
       "    }\n",
       "\n",
       "    .dataframe thead th {\n",
       "        text-align: right;\n",
       "    }\n",
       "</style>\n",
       "<table border=\"1\" class=\"dataframe\">\n",
       "  <thead>\n",
       "    <tr style=\"text-align: right;\">\n",
       "      <th></th>\n",
       "      <th>hr_index</th>\n",
       "      <th>(RT_Forecast_RTD, 1)</th>\n",
       "      <th>(RT_Forecast_RTD, 2)</th>\n",
       "      <th>(RT_Forecast_RTD, 3)</th>\n",
       "      <th>(RT_Forecast_RTD, 4)</th>\n",
       "      <th>(RT_Forecast_RTD, 5)</th>\n",
       "      <th>(RT_Forecast_RTD, 6)</th>\n",
       "      <th>(RT_Forecast_RTD, 7)</th>\n",
       "      <th>(RT_Forecast_RTD, 8)</th>\n",
       "      <th>(RT_Forecast_RTD, 9)</th>\n",
       "      <th>...</th>\n",
       "      <th>Clearsky DNI</th>\n",
       "      <th>Clearsky GHI</th>\n",
       "      <th>Cloud Type</th>\n",
       "      <th>Fill Flag</th>\n",
       "      <th>Relative Humidity</th>\n",
       "      <th>Solar Zenith Angle</th>\n",
       "      <th>Precipitable Water</th>\n",
       "      <th>IsWeekday</th>\n",
       "      <th>IsWeekend</th>\n",
       "      <th>IsHoliday</th>\n",
       "    </tr>\n",
       "  </thead>\n",
       "  <tbody>\n",
       "    <tr>\n",
       "      <th>14904</th>\n",
       "      <td>6.0</td>\n",
       "      <td>2064.07</td>\n",
       "      <td>2090.03</td>\n",
       "      <td>2114.27</td>\n",
       "      <td>2134.47</td>\n",
       "      <td>2156.80</td>\n",
       "      <td>2175.77</td>\n",
       "      <td>2194.88</td>\n",
       "      <td>2211.20</td>\n",
       "      <td>2220.28</td>\n",
       "      <td>...</td>\n",
       "      <td>394.0</td>\n",
       "      <td>77.0</td>\n",
       "      <td>0.0</td>\n",
       "      <td>0.0</td>\n",
       "      <td>55.61</td>\n",
       "      <td>83.75</td>\n",
       "      <td>1.5</td>\n",
       "      <td>1.0</td>\n",
       "      <td>0.0</td>\n",
       "      <td>0.0</td>\n",
       "    </tr>\n",
       "    <tr>\n",
       "      <th>14905</th>\n",
       "      <td>7.0</td>\n",
       "      <td>2241.53</td>\n",
       "      <td>2246.38</td>\n",
       "      <td>2249.86</td>\n",
       "      <td>2253.57</td>\n",
       "      <td>2255.00</td>\n",
       "      <td>2257.04</td>\n",
       "      <td>2259.28</td>\n",
       "      <td>2261.82</td>\n",
       "      <td>2264.55</td>\n",
       "      <td>...</td>\n",
       "      <td>696.0</td>\n",
       "      <td>276.0</td>\n",
       "      <td>0.0</td>\n",
       "      <td>0.0</td>\n",
       "      <td>49.82</td>\n",
       "      <td>72.05</td>\n",
       "      <td>1.5</td>\n",
       "      <td>1.0</td>\n",
       "      <td>0.0</td>\n",
       "      <td>0.0</td>\n",
       "    </tr>\n",
       "    <tr>\n",
       "      <th>14906</th>\n",
       "      <td>8.0</td>\n",
       "      <td>2290.52</td>\n",
       "      <td>2297.98</td>\n",
       "      <td>2303.27</td>\n",
       "      <td>2296.42</td>\n",
       "      <td>2300.19</td>\n",
       "      <td>2302.45</td>\n",
       "      <td>2303.90</td>\n",
       "      <td>2280.29</td>\n",
       "      <td>2281.19</td>\n",
       "      <td>...</td>\n",
       "      <td>821.0</td>\n",
       "      <td>473.0</td>\n",
       "      <td>0.0</td>\n",
       "      <td>0.0</td>\n",
       "      <td>44.91</td>\n",
       "      <td>61.23</td>\n",
       "      <td>1.5</td>\n",
       "      <td>1.0</td>\n",
       "      <td>0.0</td>\n",
       "      <td>0.0</td>\n",
       "    </tr>\n",
       "    <tr>\n",
       "      <th>14907</th>\n",
       "      <td>9.0</td>\n",
       "      <td>2255.74</td>\n",
       "      <td>2237.90</td>\n",
       "      <td>2237.16</td>\n",
       "      <td>2261.94</td>\n",
       "      <td>2261.65</td>\n",
       "      <td>2260.98</td>\n",
       "      <td>2259.82</td>\n",
       "      <td>2247.86</td>\n",
       "      <td>2248.21</td>\n",
       "      <td>...</td>\n",
       "      <td>892.0</td>\n",
       "      <td>634.0</td>\n",
       "      <td>0.0</td>\n",
       "      <td>0.0</td>\n",
       "      <td>40.60</td>\n",
       "      <td>52.02</td>\n",
       "      <td>1.5</td>\n",
       "      <td>1.0</td>\n",
       "      <td>0.0</td>\n",
       "      <td>0.0</td>\n",
       "    </tr>\n",
       "    <tr>\n",
       "      <th>14908</th>\n",
       "      <td>10.0</td>\n",
       "      <td>2237.33</td>\n",
       "      <td>2245.45</td>\n",
       "      <td>2246.86</td>\n",
       "      <td>2247.79</td>\n",
       "      <td>2234.61</td>\n",
       "      <td>2236.31</td>\n",
       "      <td>2238.26</td>\n",
       "      <td>2257.63</td>\n",
       "      <td>2260.10</td>\n",
       "      <td>...</td>\n",
       "      <td>933.0</td>\n",
       "      <td>740.0</td>\n",
       "      <td>0.0</td>\n",
       "      <td>0.0</td>\n",
       "      <td>36.62</td>\n",
       "      <td>45.49</td>\n",
       "      <td>1.5</td>\n",
       "      <td>1.0</td>\n",
       "      <td>0.0</td>\n",
       "      <td>0.0</td>\n",
       "    </tr>\n",
       "  </tbody>\n",
       "</table>\n",
       "<p>5 rows × 60 columns</p>\n",
       "</div>"
      ],
      "text/plain": [
       "       hr_index  (RT_Forecast_RTD, 1)  (RT_Forecast_RTD, 2)  \\\n",
       "14904       6.0               2064.07               2090.03   \n",
       "14905       7.0               2241.53               2246.38   \n",
       "14906       8.0               2290.52               2297.98   \n",
       "14907       9.0               2255.74               2237.90   \n",
       "14908      10.0               2237.33               2245.45   \n",
       "\n",
       "       (RT_Forecast_RTD, 3)  (RT_Forecast_RTD, 4)  (RT_Forecast_RTD, 5)  \\\n",
       "14904               2114.27               2134.47               2156.80   \n",
       "14905               2249.86               2253.57               2255.00   \n",
       "14906               2303.27               2296.42               2300.19   \n",
       "14907               2237.16               2261.94               2261.65   \n",
       "14908               2246.86               2247.79               2234.61   \n",
       "\n",
       "       (RT_Forecast_RTD, 6)  (RT_Forecast_RTD, 7)  (RT_Forecast_RTD, 8)  \\\n",
       "14904               2175.77               2194.88               2211.20   \n",
       "14905               2257.04               2259.28               2261.82   \n",
       "14906               2302.45               2303.90               2280.29   \n",
       "14907               2260.98               2259.82               2247.86   \n",
       "14908               2236.31               2238.26               2257.63   \n",
       "\n",
       "       (RT_Forecast_RTD, 9)  ...  Clearsky DNI  Clearsky GHI  Cloud Type  \\\n",
       "14904               2220.28  ...         394.0          77.0         0.0   \n",
       "14905               2264.55  ...         696.0         276.0         0.0   \n",
       "14906               2281.19  ...         821.0         473.0         0.0   \n",
       "14907               2248.21  ...         892.0         634.0         0.0   \n",
       "14908               2260.10  ...         933.0         740.0         0.0   \n",
       "\n",
       "       Fill Flag  Relative Humidity  Solar Zenith Angle  Precipitable Water  \\\n",
       "14904        0.0              55.61               83.75                 1.5   \n",
       "14905        0.0              49.82               72.05                 1.5   \n",
       "14906        0.0              44.91               61.23                 1.5   \n",
       "14907        0.0              40.60               52.02                 1.5   \n",
       "14908        0.0              36.62               45.49                 1.5   \n",
       "\n",
       "       IsWeekday  IsWeekend  IsHoliday  \n",
       "14904        1.0        0.0        0.0  \n",
       "14905        1.0        0.0        0.0  \n",
       "14906        1.0        0.0        0.0  \n",
       "14907        1.0        0.0        0.0  \n",
       "14908        1.0        0.0        0.0  \n",
       "\n",
       "[5 rows x 60 columns]"
      ]
     },
     "execution_count": 113,
     "metadata": {},
     "output_type": "execute_result"
    }
   ],
   "source": [
    "X_val.tail()"
   ]
  },
  {
   "cell_type": "code",
   "execution_count": 114,
   "metadata": {},
   "outputs": [
    {
     "data": {
      "text/plain": [
       "(1657, 60)"
      ]
     },
     "execution_count": 114,
     "metadata": {},
     "output_type": "execute_result"
    }
   ],
   "source": [
    "X_test.shape"
   ]
  },
  {
   "cell_type": "code",
   "execution_count": 114,
   "metadata": {},
   "outputs": [
    {
     "ename": "AttributeError",
     "evalue": "'numpy.ndarray' object has no attribute 'values'",
     "output_type": "error",
     "traceback": [
      "\u001b[1;31m---------------------------------------------------------------------------\u001b[0m",
      "\u001b[1;31mAttributeError\u001b[0m                            Traceback (most recent call last)",
      "\u001b[1;32m<ipython-input-114-d3a0f004abe8>\u001b[0m in \u001b[0;36m<module>\u001b[1;34m\u001b[0m\n\u001b[0;32m      1\u001b[0m \u001b[1;32mfrom\u001b[0m \u001b[0msklearn\u001b[0m\u001b[1;33m.\u001b[0m\u001b[0mpreprocessing\u001b[0m \u001b[1;32mimport\u001b[0m \u001b[0mMinMaxScaler\u001b[0m\u001b[1;33m\u001b[0m\u001b[1;33m\u001b[0m\u001b[0m\n\u001b[0;32m      2\u001b[0m \u001b[1;31m# normalize the dataset\u001b[0m\u001b[1;33m\u001b[0m\u001b[1;33m\u001b[0m\u001b[1;33m\u001b[0m\u001b[0m\n\u001b[1;32m----> 3\u001b[1;33m \u001b[0mX_train\u001b[0m \u001b[1;33m=\u001b[0m \u001b[0mX_train\u001b[0m\u001b[1;33m.\u001b[0m\u001b[0mvalues\u001b[0m\u001b[1;33m\u001b[0m\u001b[1;33m\u001b[0m\u001b[0m\n\u001b[0m\u001b[0;32m      4\u001b[0m \u001b[0mY_train\u001b[0m \u001b[1;33m=\u001b[0m \u001b[0mY_train\u001b[0m\u001b[1;33m.\u001b[0m\u001b[0mvalues\u001b[0m\u001b[1;33m\u001b[0m\u001b[1;33m\u001b[0m\u001b[0m\n\u001b[0;32m      5\u001b[0m \u001b[0mX_test\u001b[0m \u001b[1;33m=\u001b[0m \u001b[0mX_test\u001b[0m\u001b[1;33m.\u001b[0m\u001b[0mvalues\u001b[0m\u001b[1;33m\u001b[0m\u001b[1;33m\u001b[0m\u001b[0m\n",
      "\u001b[1;31mAttributeError\u001b[0m: 'numpy.ndarray' object has no attribute 'values'"
     ]
    }
   ],
   "source": [
    "from sklearn.preprocessing import MinMaxScaler\n",
    "# normalize the dataset\n",
    "X_train = X_train.values\n",
    "Y_train = Y_train.values\n",
    "X_test = X_test.values\n",
    "Y_test = Y_test.values\n",
    "\n",
    "scaler = MinMaxScaler(feature_range=(0, 1))\n",
    "X_train = scaler.fit_transform(X_train)\n",
    "Y_train = scaler.fit_transform(Y_train)\n",
    "X_test = scaler.transform(X_test)\n",
    "Y_test = scaler.transform(Y_test)\n",
    "# X_val = scaler.fit_transform(X_val)\n",
    "# Y_val = scaler.fit_transform(Y_val)\n"
   ]
  },
  {
   "cell_type": "code",
   "execution_count": 116,
   "metadata": {},
   "outputs": [],
   "source": [
    "from keras.preprocessing.sequence import TimeseriesGenerator\n",
    "look_back = 5\n",
    "train_data_gen = TimeseriesGenerator(X_train, Y_train, length=look_back, batch_size=5)\n",
    "\n",
    "test_data_gen = TimeseriesGenerator(X_test, Y_test, length=look_back,  batch_size=1)\n",
    "\n",
    "val_data_gen = TimeseriesGenerator(X_train, Y_train, length=look_back,  batch_size=1)\n"
   ]
  },
  {
   "cell_type": "code",
   "execution_count": 117,
   "metadata": {},
   "outputs": [
    {
     "name": "stdout",
     "output_type": "stream",
     "text": [
      "Epoch 1/5\n",
      "2981/2981 [==============================] - 7s 2ms/step - loss: 0.0023\n",
      "Epoch 2/5\n",
      "2981/2981 [==============================] - 7s 2ms/step - loss: 3.7095e-04\n",
      "Epoch 3/5\n",
      "2981/2981 [==============================] - 7s 2ms/step - loss: 3.3296e-04\n",
      "Epoch 4/5\n",
      "2981/2981 [==============================] - 7s 2ms/step - loss: 3.1006e-04\n",
      "Epoch 5/5\n",
      "2981/2981 [==============================] - 7s 2ms/step - loss: 3.0421e-04\n"
     ]
    },
    {
     "data": {
      "text/plain": [
       "<keras.callbacks.callbacks.History at 0x2750b1a9a48>"
      ]
     },
     "execution_count": 117,
     "metadata": {},
     "output_type": "execute_result"
    }
   ],
   "source": [
    "model = Sequential()\n",
    "model.add(LSTM(units=10, input_shape=(look_back, 60)))\n",
    "model.add(Dropout(0.5))\n",
    "# model.add(LSTM(units=50,return_sequences=True))\n",
    "# model.add(Dropout(0.4))\n",
    "# model.add(LSTM(units=50,return_sequences=True))|\n",
    "# model.add(Dropout(0.4))\n",
    "# model.add(LSTM(units=50))\n",
    "# model.add(Dropout(0.4))\n",
    "model.add(Dense(units=1))\n",
    "model.compile(optimizer='adam',loss='mean_squared_error')\n",
    "model.fit_generator(train_data_gen, epochs=5)\n",
    "\n",
    "# model.add(LSTM(200, activation='relu', input_shape=(look_back, 60)))\n",
    "# model.add(Dense(1))\n",
    "# model.compile(loss='mean_squared_error', optimizer='adam')\n",
    "# history = model.fit_generator(train_data_gen, epochs=100).history"
   ]
  },
  {
   "cell_type": "code",
   "execution_count": 30,
   "metadata": {},
   "outputs": [
    {
     "ename": "NameError",
     "evalue": "name 'history' is not defined",
     "output_type": "error",
     "traceback": [
      "\u001b[1;31m---------------------------------------------------------------------------\u001b[0m",
      "\u001b[1;31mNameError\u001b[0m                                 Traceback (most recent call last)",
      "\u001b[1;32m<ipython-input-30-b5d16e429600>\u001b[0m in \u001b[0;36m<module>\u001b[1;34m\u001b[0m\n\u001b[1;32m----> 1\u001b[1;33m \u001b[0mprint\u001b[0m\u001b[1;33m(\u001b[0m\u001b[0mhistory\u001b[0m\u001b[1;33m.\u001b[0m\u001b[0mhistory\u001b[0m\u001b[1;33m[\u001b[0m\u001b[1;34m'loss'\u001b[0m\u001b[1;33m]\u001b[0m\u001b[1;33m)\u001b[0m\u001b[1;33m\u001b[0m\u001b[1;33m\u001b[0m\u001b[0m\n\u001b[0m\u001b[0;32m      2\u001b[0m \u001b[0mprint\u001b[0m\u001b[1;33m(\u001b[0m\u001b[0mhistory\u001b[0m\u001b[1;33m.\u001b[0m\u001b[0mhistory\u001b[0m\u001b[1;33m[\u001b[0m\u001b[1;34m'accuracy'\u001b[0m\u001b[1;33m]\u001b[0m\u001b[1;33m)\u001b[0m\u001b[1;33m\u001b[0m\u001b[1;33m\u001b[0m\u001b[0m\n",
      "\u001b[1;31mNameError\u001b[0m: name 'history' is not defined"
     ]
    }
   ],
   "source": [
    "print(history.history['loss'])\n",
    "print(history.history['accuracy'])"
   ]
  },
  {
   "cell_type": "code",
   "execution_count": 118,
   "metadata": {},
   "outputs": [],
   "source": [
    "# model.evaluate_generator(test_data_gen)\n",
    "# trainPredict = model.predict_generator(train_data_gen)\n",
    "prediction = model.predict_generator(test_data_gen)"
   ]
  },
  {
   "cell_type": "code",
   "execution_count": 120,
   "metadata": {},
   "outputs": [],
   "source": [
    "prediction = scaler.inverse_transform(prediction)"
   ]
  },
  {
   "cell_type": "code",
   "execution_count": 121,
   "metadata": {},
   "outputs": [],
   "source": [
    "prediction = prediction.reshape((-1))"
   ]
  },
  {
   "cell_type": "code",
   "execution_count": 122,
   "metadata": {},
   "outputs": [
    {
     "data": {
      "text/plain": [
       "(1652,)"
      ]
     },
     "execution_count": 122,
     "metadata": {},
     "output_type": "execute_result"
    }
   ],
   "source": [
    "prediction.shape"
   ]
  },
  {
   "cell_type": "code",
   "execution_count": 123,
   "metadata": {},
   "outputs": [
    {
     "data": {
      "text/plain": [
       "138.63474616889658"
      ]
     },
     "execution_count": 123,
     "metadata": {},
     "output_type": "execute_result"
    }
   ],
   "source": [
    "from sklearn.metrics import mean_squared_error\n",
    "mean_squared_error(prediction, Y_test[:-5])"
   ]
  },
  {
   "cell_type": "code",
   "execution_count": 129,
   "metadata": {},
   "outputs": [
    {
     "data": {
      "text/plain": [
       "array([17.887033 , 18.585316 , 18.696589 , 18.008596 , 16.348005 ,\n",
       "       14.215082 , 13.275337 , 12.7562685, 11.953891 , 11.258284 ,\n",
       "       10.699562 , 10.414519 , 10.294983 , 10.464877 , 10.52576  ,\n",
       "       10.329234 ,  9.934615 ,  9.68005  ,  9.642432 ,  9.957204 ],\n",
       "      dtype=float32)"
      ]
     },
     "execution_count": 129,
     "metadata": {},
     "output_type": "execute_result"
    }
   ],
   "source": [
    "prediction[0:20]"
   ]
  },
  {
   "cell_type": "code",
   "execution_count": null,
   "metadata": {},
   "outputs": [],
   "source": [
    "Y_test"
   ]
  },
  {
   "cell_type": "code",
   "execution_count": 124,
   "metadata": {},
   "outputs": [
    {
     "name": "stdout",
     "output_type": "stream",
     "text": [
      "Epoch 1/5\n",
      "2981/2981 [==============================] - 17s 6ms/step - loss: 4.0201e-04\n",
      "Epoch 2/5\n",
      "2981/2981 [==============================] - 16s 5ms/step - loss: 3.1315e-04\n",
      "Epoch 3/5\n",
      "2981/2981 [==============================] - 17s 6ms/step - loss: 3.0965e-04\n",
      "Epoch 4/5\n",
      "2981/2981 [==============================] - 16s 5ms/step - loss: 3.0921e-04\n",
      "Epoch 5/5\n",
      "2981/2981 [==============================] - 17s 6ms/step - loss: 3.0890e-04\n"
     ]
    },
    {
     "data": {
      "text/plain": [
       "<keras.callbacks.callbacks.History at 0x2752cc03308>"
      ]
     },
     "execution_count": 124,
     "metadata": {},
     "output_type": "execute_result"
    }
   ],
   "source": [
    "stacked_lstm = Sequential()\n",
    "stacked_lstm.add(LSTM(16, input_shape=(look_back, 60), return_sequences=True))\n",
    "stacked_lstm.add(Dropout(0.4))\n",
    "stacked_lstm.add(LSTM(8, return_sequences=True))\n",
    "stacked_lstm.add(Dropout(0.4))\n",
    "stacked_lstm.add(LSTM(4))\n",
    "stacked_lstm.add(Dropout(0.4))\n",
    "stacked_lstm.add(Dense(1))\n",
    "stacked_lstm.compile(loss='mse', optimizer='RMSprop')\n",
    "stacked_lstm.fit_generator(train_data_gen, epochs=5)\n"
   ]
  },
  {
   "cell_type": "code",
   "execution_count": 125,
   "metadata": {},
   "outputs": [],
   "source": [
    "prediction = stacked_lstm.predict_generator(test_data_gen)"
   ]
  },
  {
   "cell_type": "code",
   "execution_count": 126,
   "metadata": {},
   "outputs": [
    {
     "data": {
      "text/plain": [
       "141.8959262534384"
      ]
     },
     "execution_count": 126,
     "metadata": {},
     "output_type": "execute_result"
    }
   ],
   "source": [
    "prediction = scaler.inverse_transform(prediction)\n",
    "prediction = prediction.reshape((-1))\n",
    "mean_squared_error(prediction, Y_test[:-5])"
   ]
  },
  {
   "cell_type": "code",
   "execution_count": 127,
   "metadata": {},
   "outputs": [
    {
     "data": {
      "text/plain": [
       "array([17.887033, 18.585316, 18.696589, ..., 12.361155, 11.536631,\n",
       "       11.077503], dtype=float32)"
      ]
     },
     "execution_count": 127,
     "metadata": {},
     "output_type": "execute_result"
    }
   ],
   "source": [
    "prediction"
   ]
  },
  {
   "cell_type": "code",
   "execution_count": 10,
   "metadata": {},
   "outputs": [],
   "source": [
    "import matplotlib.pyplot as plt\n",
    "import seaborn as sns\n",
    "from pandas.plotting import register_matplotlib_converters\n",
    " \n",
    "register_matplotlib_converters()\n",
    "%matplotlib inline\n",
    "sns.set_style('whitegrid')\n",
    "\n",
    "from sklearn.preprocessing import StandardScaler\n",
    "from sklearn.model_selection import train_test_split\n",
    "from sklearn.metrics import accuracy_score\n",
    "\n",
    "from keras.models import Sequential\n",
    "from keras.layers import Dense, Dropout, LSTM\n",
    "from keras.optimizers import Adam\n",
    "from keras.preprocessing.sequence import TimeseriesGenerator\n",
    "from keras import regularizers"
   ]
  },
  {
   "cell_type": "code",
   "execution_count": 11,
   "metadata": {},
   "outputs": [],
   "source": [
    "def MSE(true, predicted):\n",
    "    squared_diff = np.square(true - predicted)\n",
    "    return np.mean(squared_diff)\n",
    "\n",
    "# Root Mean Square Error\n",
    "def RMSE(true, predicted):\n",
    "    squared_diff = np.square(true - predicted)    \n",
    "    return np.sqrt(np.mean(squared_diff))\n",
    "\n",
    "# R-squared, coefficient of determination\n",
    "def R_squared(true, predicted):\n",
    "    true      = np.array(true)\n",
    "    predicted = np.array(predicted)\n",
    "    sum_squared_diff = sum(np.square(true - predicted))\n",
    "    variance  = sum(np.square(true - np.mean(true)))\n",
    "    calc_r2   = 1 - (sum_squared_diff / variance)\n",
    "    return calc_r2"
   ]
  },
  {
   "cell_type": "code",
   "execution_count": 142,
   "metadata": {},
   "outputs": [],
   "source": [
    "df = pd.read_pickle('df.pkl')\n",
    "df = df.reset_index(drop=True)\n",
    "Y_cols = ['DAM LMP_PRC'] \n",
    "X_cols = [col for col in list(df) if col not in Y_cols+[\n",
    "('HASP LMP_CONG_PRC', 1),\n",
    "('HASP LMP_CONG_PRC', 2),\n",
    "('HASP LMP_CONG_PRC', 3),\n",
    "('HASP LMP_CONG_PRC', 4),\n",
    "('HASP LMP_ENE_PRC', 1),\n",
    "('HASP LMP_ENE_PRC', 2),\n",
    "('HASP LMP_ENE_PRC', 3),\n",
    "('HASP LMP_ENE_PRC', 4),\n",
    "('HASP LMP_GHG_PRC', 1),\n",
    "('HASP LMP_LOSS_PRC', 1),\n",
    "('HASP LMP_LOSS_PRC', 2),\n",
    "('HASP LMP_LOSS_PRC', 3),\n",
    "('HASP LMP_LOSS_PRC', 4),\n",
    "('HASP LMP_PRC', 1),\n",
    "('HASP LMP_PRC', 2),\n",
    "('HASP LMP_PRC', 3),\n",
    "('HASP LMP_PRC', 4),\n",
    "('RTM LMP_CONG_PRC', 1),\n",
    "('RTM LMP_CONG_PRC', 2),\n",
    "('RTM LMP_CONG_PRC', 3),\n",
    "('RTM LMP_CONG_PRC', 4),\n",
    "('RTM LMP_CONG_PRC', 5),\n",
    "('RTM LMP_CONG_PRC', 6),\n",
    "('RTM LMP_CONG_PRC', 7),\n",
    "('RTM LMP_CONG_PRC', 8),\n",
    "('RTM LMP_CONG_PRC', 9),\n",
    "('RTM LMP_CONG_PRC', 10),\n",
    "('RTM LMP_CONG_PRC', 11),\n",
    "('RTM LMP_CONG_PRC', 12),\n",
    "('RTM LMP_ENE_PRC', 1),\n",
    "('RTM LMP_ENE_PRC', 2),\n",
    "('RTM LMP_ENE_PRC', 3),\n",
    "('RTM LMP_ENE_PRC', 4),\n",
    "('RTM LMP_ENE_PRC', 5),\n",
    "('RTM LMP_ENE_PRC', 6),\n",
    "('RTM LMP_ENE_PRC', 7),\n",
    "('RTM LMP_ENE_PRC', 8),\n",
    "('RTM LMP_ENE_PRC', 9),\n",
    "('RTM LMP_ENE_PRC', 10),\n",
    "('RTM LMP_ENE_PRC', 11),\n",
    "('RTM LMP_ENE_PRC', 12),\n",
    "('RTM LMP_GHG_PRC', 1),\n",
    "('RTM LMP_GHG_PRC', 7),\n",
    "('RTM LMP_LOSS_PRC', 1),\n",
    "('RTM LMP_LOSS_PRC', 2),\n",
    "('RTM LMP_LOSS_PRC', 3),\n",
    "('RTM LMP_LOSS_PRC', 4),\n",
    "('RTM LMP_LOSS_PRC', 5),\n",
    "('RTM LMP_LOSS_PRC', 6),\n",
    "('RTM LMP_LOSS_PRC', 7),\n",
    "('RTM LMP_LOSS_PRC', 8),\n",
    "('RTM LMP_LOSS_PRC', 9),\n",
    "('RTM LMP_LOSS_PRC', 10),\n",
    "('RTM LMP_LOSS_PRC', 11),\n",
    "('RTM LMP_LOSS_PRC', 12),\n",
    "('RTM LMP_PRC', 1),\n",
    "('RTM LMP_PRC', 2),\n",
    "('RTM LMP_PRC', 3),\n",
    "('RTM LMP_PRC', 4),\n",
    "('RTM LMP_PRC', 5),\n",
    "('RTM LMP_PRC', 6),\n",
    "('RTM LMP_PRC', 7),\n",
    "('RTM LMP_PRC', 8),\n",
    "('RTM LMP_PRC', 9),\n",
    "('RTM LMP_PRC', 10),\n",
    "('RTM LMP_PRC', 11),\n",
    "('RTM LMP_PRC', 12),\n",
    "'DAM LMP_CONG_PRC',\n",
    "'DAM LMP_GHG_PRC',\n",
    "('HASP LMP_CONG_PRC', 1),\n",
    "('HASP LMP_CONG_PRC', 2),\n",
    "('HASP LMP_CONG_PRC', 3),\n",
    "('HASP LMP_CONG_PRC', 4),\n",
    "('HASP LMP_ENE_PRC', 1),\n",
    "('HASP LMP_ENE_PRC', 2),\n",
    "('HASP LMP_ENE_PRC', 3),\n",
    "('HASP LMP_ENE_PRC', 4),\n",
    "('HASP LMP_GHG_PRC', 1),\n",
    "('HASP LMP_LOSS_PRC', 1),\n",
    "('HASP LMP_LOSS_PRC', 2),\n",
    "('HASP LMP_LOSS_PRC', 3),\n",
    "('HASP LMP_LOSS_PRC', 4),\n",
    "('HASP LMP_PRC', 1),\n",
    "('HASP LMP_PRC', 2),\n",
    "('HASP LMP_PRC', 3),\n",
    "('HASP LMP_PRC', 4),\n",
    "('RTM LMP_CONG_PRC', 1),\n",
    "('RTM LMP_CONG_PRC', 2),\n",
    "('RTM LMP_CONG_PRC', 3),\n",
    "('RTM LMP_CONG_PRC', 4),\n",
    "('RTM LMP_CONG_PRC', 5),\n",
    "('RTM LMP_CONG_PRC', 6),\n",
    "('RTM LMP_CONG_PRC', 7),\n",
    "('RTM LMP_CONG_PRC', 8),\n",
    "('RTM LMP_CONG_PRC', 9),\n",
    "('RTM LMP_CONG_PRC', 10),\n",
    "('RTM LMP_CONG_PRC', 11),\n",
    "('RTM LMP_CONG_PRC', 12),\n",
    "('RTM LMP_GHG_PRC', 1),\n",
    "('RTM LMP_GHG_PRC', 7),\n",
    "'DAM LMP_ENE_PRC',\n",
    "'DAM LMP_LOSS_PRC',\n",
    "'Actual_Demand',]]\n",
    "columns = list(df)\n",
    "Y = df[Y_cols]\n",
    "X = df[X_cols]\n",
    "X_train, X_test, Y_train, Y_test = train_test_split(X, Y, test_size=0.10615, shuffle=False, random_state=42)"
   ]
  },
  {
   "cell_type": "code",
   "execution_count": 126,
   "metadata": {},
   "outputs": [],
   "source": [
    "df = df.values\n",
    "\n",
    "scaler = MinMaxScaler(feature_range=(0, 1))\n",
    "df = scaler.fit_transform(df)"
   ]
  },
  {
   "cell_type": "code",
   "execution_count": 127,
   "metadata": {},
   "outputs": [],
   "source": [
    "df = pd.DataFrame(data=df,  columns=columns)"
   ]
  },
  {
   "cell_type": "code",
   "execution_count": 140,
   "metadata": {},
   "outputs": [],
   "source": [
    "Y = df[Y_cols]\n",
    "X = df[X_cols]\n",
    "X_train, X_test, Y_train, Y_test = train_test_split(X, Y, test_size=0.10615, shuffle=False, random_state=42)"
   ]
  },
  {
   "cell_type": "code",
   "execution_count": 148,
   "metadata": {},
   "outputs": [],
   "source": [
    "ss = StandardScaler()\n",
    "X_train_sc = ss.fit_transform(X_train)\n",
    "X_test_sc = ss.transform(X_test)\n",
    "Y_train_sc = ss.fit_transform(Y_train)\n",
    "Y_test_sc = ss.transform(Y_test)"
   ]
  },
  {
   "cell_type": "code",
   "execution_count": 149,
   "metadata": {},
   "outputs": [],
   "source": [
    "lookback_length = 12        # one week look-back\n",
    "batch_size = 60"
   ]
  },
  {
   "cell_type": "code",
   "execution_count": 150,
   "metadata": {},
   "outputs": [],
   "source": [
    "train_sequences  = TimeseriesGenerator(X_train_sc,\n",
    "                                       Y_train_sc,\n",
    "                                       length=lookback_length,\n",
    "                                       batch_size=batch_size)"
   ]
  },
  {
   "cell_type": "code",
   "execution_count": null,
   "metadata": {},
   "outputs": [],
   "source": []
  },
  {
   "cell_type": "code",
   "execution_count": 151,
   "metadata": {},
   "outputs": [],
   "source": [
    "test_sequences = TimeseriesGenerator(X_test_sc,\n",
    "                                     Y_test_sc,\n",
    "                                     length=lookback_length,\n",
    "                                     batch_size=batch_size)"
   ]
  },
  {
   "cell_type": "code",
   "execution_count": 161,
   "metadata": {},
   "outputs": [
    {
     "name": "stdout",
     "output_type": "stream",
     "text": [
      "Epoch 1/100\n",
      "247/247 [==============================] - 3s 13ms/step - loss: 0.8740 - val_loss: 0.0422\n",
      "Epoch 2/100\n",
      "247/247 [==============================] - 3s 10ms/step - loss: 0.7835 - val_loss: 0.0339\n",
      "Epoch 3/100\n",
      "247/247 [==============================] - 3s 10ms/step - loss: 0.7446 - val_loss: 0.0342\n",
      "Epoch 4/100\n",
      "247/247 [==============================] - 3s 10ms/step - loss: 0.6718 - val_loss: 0.0338\n",
      "Epoch 5/100\n",
      "247/247 [==============================] - 3s 10ms/step - loss: 0.6987 - val_loss: 0.0297\n",
      "Epoch 6/100\n",
      "247/247 [==============================] - 3s 10ms/step - loss: 0.6326 - val_loss: 0.0284\n",
      "Epoch 7/100\n",
      "247/247 [==============================] - 3s 10ms/step - loss: 0.6416 - val_loss: 0.0395\n",
      "Epoch 8/100\n",
      "247/247 [==============================] - 3s 10ms/step - loss: 0.6133 - val_loss: 0.0409\n",
      "Epoch 9/100\n",
      "247/247 [==============================] - 3s 10ms/step - loss: 0.5976 - val_loss: 0.0652\n",
      "Epoch 10/100\n",
      "247/247 [==============================] - 3s 10ms/step - loss: 0.5777 - val_loss: 0.0606\n",
      "Epoch 11/100\n",
      "247/247 [==============================] - 3s 10ms/step - loss: 0.6011 - val_loss: 0.0249\n",
      "Epoch 12/100\n",
      "247/247 [==============================] - 3s 10ms/step - loss: 0.5704 - val_loss: 0.0158\n",
      "Epoch 13/100\n",
      "247/247 [==============================] - 3s 10ms/step - loss: 0.5211 - val_loss: 0.0187\n",
      "Epoch 14/100\n",
      "247/247 [==============================] - 3s 10ms/step - loss: 0.5250 - val_loss: 0.0156\n",
      "Epoch 15/100\n",
      "247/247 [==============================] - 3s 10ms/step - loss: 0.5142 - val_loss: 0.0131\n",
      "Epoch 16/100\n",
      "247/247 [==============================] - 3s 10ms/step - loss: 0.4996 - val_loss: 0.0188\n",
      "Epoch 17/100\n",
      "247/247 [==============================] - 3s 10ms/step - loss: 0.4600 - val_loss: 0.0338\n",
      "Epoch 18/100\n",
      "247/247 [==============================] - 3s 10ms/step - loss: 0.4606 - val_loss: 0.0169\n",
      "Epoch 19/100\n",
      "247/247 [==============================] - 3s 10ms/step - loss: 0.4637 - val_loss: 0.0212\n",
      "Epoch 20/100\n",
      "247/247 [==============================] - 3s 10ms/step - loss: 0.3946 - val_loss: 0.0354\n",
      "Epoch 21/100\n",
      "247/247 [==============================] - 3s 10ms/step - loss: 0.4826 - val_loss: 0.0351\n",
      "Epoch 22/100\n",
      "247/247 [==============================] - 3s 10ms/step - loss: 0.4634 - val_loss: 0.0679\n",
      "Epoch 23/100\n",
      "247/247 [==============================] - 3s 10ms/step - loss: 0.3993 - val_loss: 0.0734\n",
      "Epoch 24/100\n",
      "247/247 [==============================] - 3s 10ms/step - loss: 0.3638 - val_loss: 0.0643\n",
      "Epoch 25/100\n",
      "247/247 [==============================] - 3s 10ms/step - loss: 0.3863 - val_loss: 0.0528\n",
      "Epoch 26/100\n",
      "247/247 [==============================] - 3s 10ms/step - loss: 0.3644 - val_loss: 0.0654\n",
      "Epoch 27/100\n",
      "247/247 [==============================] - 3s 10ms/step - loss: 0.3701 - val_loss: 0.0878\n",
      "Epoch 28/100\n",
      "247/247 [==============================] - 3s 10ms/step - loss: 0.3724 - val_loss: 0.0691\n",
      "Epoch 29/100\n",
      "247/247 [==============================] - 3s 10ms/step - loss: 0.3110 - val_loss: 0.0983\n",
      "Epoch 30/100\n",
      "247/247 [==============================] - 3s 10ms/step - loss: 0.3813 - val_loss: 0.1127\n",
      "Epoch 31/100\n",
      "247/247 [==============================] - 3s 10ms/step - loss: 0.3257 - val_loss: 0.1882\n",
      "Epoch 32/100\n",
      "247/247 [==============================] - 3s 10ms/step - loss: 0.3945 - val_loss: 0.0612\n",
      "Epoch 33/100\n",
      "247/247 [==============================] - 3s 10ms/step - loss: 0.3471 - val_loss: 0.1205\n",
      "Epoch 34/100\n",
      "247/247 [==============================] - 3s 10ms/step - loss: 0.2787 - val_loss: 0.1279\n",
      "Epoch 35/100\n",
      "247/247 [==============================] - 3s 10ms/step - loss: 0.2549 - val_loss: 0.0646\n",
      "Epoch 36/100\n",
      "247/247 [==============================] - 3s 10ms/step - loss: 0.2570 - val_loss: 0.2181\n",
      "Epoch 37/100\n",
      "247/247 [==============================] - 3s 10ms/step - loss: 0.3065 - val_loss: 0.1936\n",
      "Epoch 38/100\n",
      "247/247 [==============================] - 3s 10ms/step - loss: 0.2740 - val_loss: 0.1357\n",
      "Epoch 39/100\n",
      "247/247 [==============================] - 3s 10ms/step - loss: 0.3403 - val_loss: 0.0999\n",
      "Epoch 40/100\n",
      "247/247 [==============================] - 3s 10ms/step - loss: 0.2764 - val_loss: 0.1482\n",
      "Epoch 41/100\n",
      "247/247 [==============================] - 3s 10ms/step - loss: 0.2047 - val_loss: 0.1457\n",
      "Epoch 42/100\n",
      "247/247 [==============================] - 3s 10ms/step - loss: 0.2861 - val_loss: 0.1088\n",
      "Epoch 43/100\n",
      "247/247 [==============================] - 3s 10ms/step - loss: 0.2815 - val_loss: 0.1463\n",
      "Epoch 44/100\n",
      "247/247 [==============================] - 3s 10ms/step - loss: 0.2829 - val_loss: 0.1671\n",
      "Epoch 45/100\n",
      "247/247 [==============================] - 3s 10ms/step - loss: 0.2149 - val_loss: 0.1706\n",
      "Epoch 46/100\n",
      "247/247 [==============================] - 3s 10ms/step - loss: 0.2443 - val_loss: 0.1053\n",
      "Epoch 47/100\n",
      "247/247 [==============================] - 3s 10ms/step - loss: 0.2538 - val_loss: 0.1914\n",
      "Epoch 48/100\n",
      "247/247 [==============================] - 3s 10ms/step - loss: 0.2275 - val_loss: 0.1483\n",
      "Epoch 49/100\n",
      "247/247 [==============================] - 3s 10ms/step - loss: 0.1985 - val_loss: 0.1135\n",
      "Epoch 50/100\n",
      "247/247 [==============================] - 3s 10ms/step - loss: 0.2265 - val_loss: 0.1096\n",
      "Epoch 51/100\n",
      "247/247 [==============================] - 3s 10ms/step - loss: 0.1717 - val_loss: 0.1437\n",
      "Epoch 52/100\n",
      "247/247 [==============================] - 3s 10ms/step - loss: 0.1835 - val_loss: 0.1569\n",
      "Epoch 53/100\n",
      "247/247 [==============================] - 3s 10ms/step - loss: 0.1845 - val_loss: 0.1947\n",
      "Epoch 54/100\n",
      "247/247 [==============================] - 3s 10ms/step - loss: 0.1967 - val_loss: 0.1551\n",
      "Epoch 55/100\n",
      "247/247 [==============================] - 3s 10ms/step - loss: 0.3276 - val_loss: 0.0942\n",
      "Epoch 56/100\n",
      "247/247 [==============================] - 3s 10ms/step - loss: 0.2634 - val_loss: 0.1850\n",
      "Epoch 57/100\n",
      "247/247 [==============================] - 3s 10ms/step - loss: 0.2355 - val_loss: 0.1593\n",
      "Epoch 58/100\n",
      "247/247 [==============================] - 3s 10ms/step - loss: 0.1709 - val_loss: 0.2037\n",
      "Epoch 59/100\n",
      "247/247 [==============================] - 3s 11ms/step - loss: 0.2115 - val_loss: 0.2293\n",
      "Epoch 60/100\n",
      "247/247 [==============================] - 3s 11ms/step - loss: 0.1551 - val_loss: 0.1850\n",
      "Epoch 61/100\n",
      "247/247 [==============================] - 3s 11ms/step - loss: 0.2931 - val_loss: 0.0946\n",
      "Epoch 62/100\n",
      "247/247 [==============================] - 3s 11ms/step - loss: 0.1967 - val_loss: 0.2390\n",
      "Epoch 63/100\n",
      "247/247 [==============================] - 3s 10ms/step - loss: 0.1774 - val_loss: 0.2291\n",
      "Epoch 64/100\n",
      "247/247 [==============================] - 3s 10ms/step - loss: 0.1310 - val_loss: 0.1866\n",
      "Epoch 65/100\n",
      "247/247 [==============================] - 3s 10ms/step - loss: 0.1447 - val_loss: 0.1498\n",
      "Epoch 66/100\n",
      "247/247 [==============================] - 3s 10ms/step - loss: 0.1271 - val_loss: 0.1586\n",
      "Epoch 67/100\n",
      "247/247 [==============================] - 3s 10ms/step - loss: 0.1378 - val_loss: 0.1731\n",
      "Epoch 68/100\n",
      "247/247 [==============================] - 3s 10ms/step - loss: 0.1754 - val_loss: 0.1932\n",
      "Epoch 69/100\n",
      "247/247 [==============================] - 3s 10ms/step - loss: 0.1537 - val_loss: 0.0835\n",
      "Epoch 70/100\n",
      "247/247 [==============================] - 3s 10ms/step - loss: 0.3067 - val_loss: 0.0292\n",
      "Epoch 71/100\n",
      "247/247 [==============================] - 3s 10ms/step - loss: 0.2155 - val_loss: 0.0549\n",
      "Epoch 72/100\n",
      "247/247 [==============================] - 3s 10ms/step - loss: 0.2186 - val_loss: 0.0889\n",
      "Epoch 73/100\n",
      "247/247 [==============================] - 3s 10ms/step - loss: 0.1662 - val_loss: 0.1096\n",
      "Epoch 74/100\n",
      "247/247 [==============================] - 3s 10ms/step - loss: 0.1267 - val_loss: 0.1037\n",
      "Epoch 75/100\n",
      "247/247 [==============================] - 3s 10ms/step - loss: 0.1165 - val_loss: 0.0984\n",
      "Epoch 76/100\n",
      "247/247 [==============================] - 3s 10ms/step - loss: 0.1002 - val_loss: 0.1704\n",
      "Epoch 77/100\n",
      "247/247 [==============================] - 3s 10ms/step - loss: 0.1096 - val_loss: 0.0655\n",
      "Epoch 78/100\n",
      "247/247 [==============================] - 3s 10ms/step - loss: 0.1184 - val_loss: 0.0869\n",
      "Epoch 79/100\n",
      "247/247 [==============================] - 3s 10ms/step - loss: 0.1252 - val_loss: 0.0574\n",
      "Epoch 80/100\n",
      "247/247 [==============================] - 3s 10ms/step - loss: 0.0954 - val_loss: 0.1653\n",
      "Epoch 81/100\n",
      "247/247 [==============================] - 3s 10ms/step - loss: 0.1275 - val_loss: 0.1711\n",
      "Epoch 82/100\n",
      "247/247 [==============================] - 3s 10ms/step - loss: 0.1223 - val_loss: 0.1890\n",
      "Epoch 83/100\n",
      "247/247 [==============================] - 3s 10ms/step - loss: 0.1305 - val_loss: 0.1484\n",
      "Epoch 84/100\n",
      "247/247 [==============================] - 3s 10ms/step - loss: 0.1195 - val_loss: 0.0895\n",
      "Epoch 85/100\n",
      "247/247 [==============================] - 3s 10ms/step - loss: 0.1080 - val_loss: 0.0763\n",
      "Epoch 86/100\n",
      "247/247 [==============================] - 3s 10ms/step - loss: 0.0875 - val_loss: 0.0848\n",
      "Epoch 87/100\n",
      "247/247 [==============================] - 3s 10ms/step - loss: 0.1034 - val_loss: 0.0963\n",
      "Epoch 88/100\n",
      "247/247 [==============================] - 3s 10ms/step - loss: 0.3650 - val_loss: 0.0224\n",
      "Epoch 89/100\n",
      "247/247 [==============================] - 3s 10ms/step - loss: 0.2761 - val_loss: 0.0680\n",
      "Epoch 90/100\n",
      "247/247 [==============================] - 3s 10ms/step - loss: 0.2401 - val_loss: 0.0587\n",
      "Epoch 91/100\n",
      "247/247 [==============================] - 3s 10ms/step - loss: 0.1427 - val_loss: 0.1200\n",
      "Epoch 92/100\n",
      "247/247 [==============================] - 3s 10ms/step - loss: 0.1397 - val_loss: 0.1722\n",
      "Epoch 93/100\n",
      "247/247 [==============================] - 3s 10ms/step - loss: 0.0937 - val_loss: 0.1680\n",
      "Epoch 94/100\n",
      "247/247 [==============================] - 3s 10ms/step - loss: 0.1221 - val_loss: 0.1815\n",
      "Epoch 95/100\n",
      "247/247 [==============================] - 3s 10ms/step - loss: 0.0904 - val_loss: 0.2607\n",
      "Epoch 96/100\n",
      "247/247 [==============================] - 3s 10ms/step - loss: 0.1428 - val_loss: 0.0808\n",
      "Epoch 97/100\n",
      "247/247 [==============================] - 3s 10ms/step - loss: 0.1389 - val_loss: 0.1709\n",
      "Epoch 98/100\n",
      "247/247 [==============================] - 3s 10ms/step - loss: 0.0836 - val_loss: 0.1836\n",
      "Epoch 99/100\n",
      "247/247 [==============================] - 3s 10ms/step - loss: 0.0738 - val_loss: 0.0982\n",
      "Epoch 100/100\n",
      "247/247 [==============================] - 3s 10ms/step - loss: 0.0914 - val_loss: 0.1522\n"
     ]
    },
    {
     "data": {
      "text/plain": [
       "<keras.callbacks.callbacks.History at 0x2c14cfae748>"
      ]
     },
     "execution_count": 161,
     "metadata": {},
     "output_type": "execute_result"
    }
   ],
   "source": [
    "model = Sequential()\n",
    "\n",
    "# model.add(LSTM(16,\n",
    "#               input_shape=(lookback_length, batch_size),\n",
    "#               return_sequences=True))\n",
    "\n",
    "# model.add(LSTM(16))\n",
    "\n",
    "# model.add(Dense(32, activation='relu'))\n",
    "# model.add(Dropout(0.5))                  # refers to nodes in the first hidden layer\n",
    "\n",
    "# model.add(Dense(16, activation='relu'))\n",
    "# model.add(Dropout(0.5))\n",
    "\n",
    "# model.add(Dense(8, activation='relu'))\n",
    "# model.add(Dropout(0.5))\n",
    "\n",
    "# model.add(Dense(1, activation='linear'))\n",
    "model.add(LSTM(units=100, input_shape=(lookback_length, batch_size)))\n",
    "model.add(Dropout(0.5))\n",
    "# model.add(LSTM(units=50,return_sequences=True))\n",
    "# model.add(Dropout(0.4))\n",
    "# model.add(LSTM(units=50,return_sequences=True))|\n",
    "# model.add(Dropout(0.4))\n",
    "# model.add(LSTM(units=50))\n",
    "# model.add(Dropout(0.4))\n",
    "model.add(Dense(units=1))\n",
    "model.compile(optimizer='adam',loss='mean_squared_error')\n",
    "model.fit_generator(train_sequences, validation_data=test_sequences, epochs=100, verbose=1)"
   ]
  },
  {
   "cell_type": "code",
   "execution_count": 162,
   "metadata": {},
   "outputs": [],
   "source": [
    "pred = model.predict_generator(test_sequences)\n",
    "pred = ss.inverse_transform(pred)\n",
    "# model.compile(optimizer=Adam(lr=.0005),\n",
    "#               loss='mean_squared_error')\n",
    "\n",
    "# model.fit_generator(train_sequences, validation_data=test_sequences, epochs=100, verbose=1)"
   ]
  },
  {
   "cell_type": "code",
   "execution_count": 163,
   "metadata": {},
   "outputs": [
    {
     "name": "stdout",
     "output_type": "stream",
     "text": [
      "Train pred:   14795 rows\n",
      "Train y-true: 14795 rows\n"
     ]
    }
   ],
   "source": [
    "pred_train   = []\n",
    "y_train_true = []\n",
    "\n",
    "for i in range(len(train_sequences)):\n",
    "    pred_train.extend(model.predict(train_sequences[i][0]).ravel())\n",
    "    y_train_true.extend(train_sequences[i][1].ravel())\n",
    "\n",
    "print(f'Train pred:   {len(pred_train)} rows')\n",
    "print(f'Train y-true: {len(y_train_true)} rows')"
   ]
  },
  {
   "cell_type": "code",
   "execution_count": 164,
   "metadata": {},
   "outputs": [
    {
     "name": "stdout",
     "output_type": "stream",
     "text": [
      "Test pred:   1747 rows\n",
      "Test y-true: 1747 rows\n"
     ]
    }
   ],
   "source": [
    "pred_test   = []\n",
    "y_test_true = []\n",
    "\n",
    "for i in range(len(test_sequences)):\n",
    "    pred_test.extend(model.predict(test_sequences[i][0]).ravel())\n",
    "    y_test_true.extend(test_sequences[i][1].ravel())\n",
    "\n",
    "print(f'Test pred:   {len(pred_test)} rows')\n",
    "print(f'Test y-true: {len(y_test_true)} rows')"
   ]
  },
  {
   "cell_type": "code",
   "execution_count": 165,
   "metadata": {},
   "outputs": [
    {
     "name": "stdout",
     "output_type": "stream",
     "text": [
      "Train R2 score: 0.9473\n",
      "Test R2 score   0.2178\n",
      "Overfit:        0.7295\n"
     ]
    }
   ],
   "source": [
    "print(f'Train R2 score: {R_squared(y_train_true, pred_train):.4f}\\\n",
    "\\nTest R2 score   {R_squared(y_test_true, pred_test):.4f}\\\n",
    "\\nOverfit:        {R_squared(y_train_true, pred_train) - R_squared(y_test_true, pred_test):.4f}')"
   ]
  },
  {
   "cell_type": "code",
   "execution_count": 166,
   "metadata": {},
   "outputs": [
    {
     "data": {
      "image/png": "[encoded data removed]",
      "text/plain": [
       "<Figure size 1080x576 with 1 Axes>"
      ]
     },
     "metadata": {},
     "output_type": "display_data"
    }
   ],
   "source": [
    "\n",
    "plt.figure(figsize=(15,8))\n",
    "\n",
    "plt.plot(ss.inverse_transform(y_test_true),\n",
    "         label='test y-true',\n",
    "         alpha = 0.8,\n",
    "         color='grey')\n",
    "plt.plot(pred,\n",
    "         label='test predictions',\n",
    "         alpha = 0.5,\n",
    "         color='goldenrod')\n",
    "plt.legend()\n",
    "plt.xlim(0, 600)\n",
    "plt.title('DAM - lstm Test: preds vs true', fontsize=18)\n",
    "# plt.savefig('../images/dam_RNN_12_test_pred_vs_true_zoomed.jpg', bbox_inches='tight')\n",
    "plt.show();"
   ]
  },
  {
   "cell_type": "code",
   "execution_count": 157,
   "metadata": {},
   "outputs": [
    {
     "data": {
      "text/html": [
       "<div>\n",
       "<style scoped>\n",
       "    .dataframe tbody tr th:only-of-type {\n",
       "        vertical-align: middle;\n",
       "    }\n",
       "\n",
       "    .dataframe tbody tr th {\n",
       "        vertical-align: top;\n",
       "    }\n",
       "\n",
       "    .dataframe thead th {\n",
       "        text-align: right;\n",
       "    }\n",
       "</style>\n",
       "<table border=\"1\" class=\"dataframe\">\n",
       "  <thead>\n",
       "    <tr style=\"text-align: right;\">\n",
       "      <th></th>\n",
       "      <th>DAM LMP_PRC</th>\n",
       "    </tr>\n",
       "  </thead>\n",
       "  <tbody>\n",
       "    <tr>\n",
       "      <th>14807</th>\n",
       "      <td>37.17104</td>\n",
       "    </tr>\n",
       "    <tr>\n",
       "      <th>14808</th>\n",
       "      <td>35.54138</td>\n",
       "    </tr>\n",
       "    <tr>\n",
       "      <th>14809</th>\n",
       "      <td>33.85262</td>\n",
       "    </tr>\n",
       "    <tr>\n",
       "      <th>14810</th>\n",
       "      <td>33.44305</td>\n",
       "    </tr>\n",
       "    <tr>\n",
       "      <th>14811</th>\n",
       "      <td>35.74524</td>\n",
       "    </tr>\n",
       "    <tr>\n",
       "      <th>...</th>\n",
       "      <td>...</td>\n",
       "    </tr>\n",
       "    <tr>\n",
       "      <th>16561</th>\n",
       "      <td>52.40227</td>\n",
       "    </tr>\n",
       "    <tr>\n",
       "      <th>16562</th>\n",
       "      <td>50.63608</td>\n",
       "    </tr>\n",
       "    <tr>\n",
       "      <th>16563</th>\n",
       "      <td>47.04583</td>\n",
       "    </tr>\n",
       "    <tr>\n",
       "      <th>16564</th>\n",
       "      <td>44.31923</td>\n",
       "    </tr>\n",
       "    <tr>\n",
       "      <th>16565</th>\n",
       "      <td>39.54673</td>\n",
       "    </tr>\n",
       "  </tbody>\n",
       "</table>\n",
       "<p>1759 rows × 1 columns</p>\n",
       "</div>"
      ],
      "text/plain": [
       "       DAM LMP_PRC\n",
       "14807     37.17104\n",
       "14808     35.54138\n",
       "14809     33.85262\n",
       "14810     33.44305\n",
       "14811     35.74524\n",
       "...            ...\n",
       "16561     52.40227\n",
       "16562     50.63608\n",
       "16563     47.04583\n",
       "16564     44.31923\n",
       "16565     39.54673\n",
       "\n",
       "[1759 rows x 1 columns]"
      ]
     },
     "execution_count": 157,
     "metadata": {},
     "output_type": "execute_result"
    }
   ],
   "source": [
    "Y_test"
   ]
  },
  {
   "cell_type": "code",
   "execution_count": 158,
   "metadata": {},
   "outputs": [
    {
     "data": {
      "text/plain": [
       "array([[-0.13384226],\n",
       "       [-0.07119643],\n",
       "       [-0.01022486],\n",
       "       ...,\n",
       "       [ 0.08295324],\n",
       "       [ 0.0515901 ],\n",
       "       [-0.02753446]], dtype=float32)"
      ]
     },
     "execution_count": 158,
     "metadata": {},
     "output_type": "execute_result"
    }
   ],
   "source": [
    "pred"
   ]
  },
  {
   "cell_type": "code",
   "execution_count": null,
   "metadata": {},
   "outputs": [],
   "source": []
  }
 ],
 "metadata": {
  "kernelspec": {
   "display_name": "Python 3",
   "language": "python",
   "name": "python3"
  },
  "language_info": {
   "codemirror_mode": {
    "name": "ipython",
    "version": 3
   },
   "file_extension": ".py",
   "mimetype": "text/x-python",
   "name": "python",
   "nbconvert_exporter": "python",
   "pygments_lexer": "ipython3",
   "version": "3.7.4"
  }
 },
 "nbformat": 4,
 "nbformat_minor": 4
}
