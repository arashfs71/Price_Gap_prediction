{
 "cells": [
  {
   "cell_type": "code",
   "execution_count": 1,
   "metadata": {},
   "outputs": [
    {
     "ename": "ModuleNotFoundError",
     "evalue": "No module named 'keras'",
     "output_type": "error",
     "traceback": [
      "\u001b[1;31m---------------------------------------------------------------------------\u001b[0m",
      "\u001b[1;31mModuleNotFoundError\u001b[0m                       Traceback (most recent call last)",
      "\u001b[1;32m<ipython-input-1-06286deed339>\u001b[0m in \u001b[0;36m<module>\u001b[1;34m\u001b[0m\n\u001b[0;32m      1\u001b[0m \u001b[1;32mimport\u001b[0m \u001b[0mpandas\u001b[0m \u001b[1;32mas\u001b[0m \u001b[0mpd\u001b[0m\u001b[1;33m\u001b[0m\u001b[1;33m\u001b[0m\u001b[0m\n\u001b[0;32m      2\u001b[0m \u001b[1;32mimport\u001b[0m \u001b[0mnumpy\u001b[0m \u001b[1;32mas\u001b[0m \u001b[0mnp\u001b[0m\u001b[1;33m\u001b[0m\u001b[1;33m\u001b[0m\u001b[0m\n\u001b[1;32m----> 3\u001b[1;33m \u001b[1;32mfrom\u001b[0m \u001b[0mkeras\u001b[0m\u001b[1;33m.\u001b[0m\u001b[0mmodels\u001b[0m \u001b[1;32mimport\u001b[0m \u001b[0mSequential\u001b[0m\u001b[1;33m\u001b[0m\u001b[1;33m\u001b[0m\u001b[0m\n\u001b[0m\u001b[0;32m      4\u001b[0m \u001b[1;32mfrom\u001b[0m \u001b[0mkeras\u001b[0m\u001b[1;33m.\u001b[0m\u001b[0mlayers\u001b[0m \u001b[1;32mimport\u001b[0m \u001b[0mDense\u001b[0m\u001b[1;33m,\u001b[0m \u001b[0mEmbedding\u001b[0m\u001b[1;33m,\u001b[0m \u001b[0mLSTM\u001b[0m\u001b[1;33m\u001b[0m\u001b[1;33m\u001b[0m\u001b[0m\n\u001b[0;32m      5\u001b[0m \u001b[1;32mfrom\u001b[0m \u001b[0msklearn\u001b[0m\u001b[1;33m.\u001b[0m\u001b[0mmodel_selection\u001b[0m \u001b[1;32mimport\u001b[0m \u001b[0mtrain_test_split\u001b[0m\u001b[1;33m\u001b[0m\u001b[1;33m\u001b[0m\u001b[0m\n",
      "\u001b[1;31mModuleNotFoundError\u001b[0m: No module named 'keras'"
     ]
    }
   ],
   "source": [
    "import pandas as pd\n",
    "import numpy as np\n",
    "from keras.models import Sequential\n",
    "from keras.layers import Dense, Embedding, LSTM\n",
    "from sklearn.model_selection import train_test_split\n",
    "from matplotlib import pyplot\n",
    "import keras\n",
    "from keras.models import Sequential\n",
    "from keras.layers import Dense\n",
    "from keras.layers import LSTM\n",
    "from keras.layers import Dropout\n",
    "from keras.layers import *\n",
    "from sklearn.preprocessing import MinMaxScaler\n",
    "from sklearn.metrics import mean_squared_error\n",
    "from sklearn.metrics import mean_absolute_error\n",
    "from keras.callbacks import EarlyStopping\n",
    "\n",
    "import matplotlib.pyplot as plt\n",
    "import warnings\n",
    "warnings.simplefilter(action = 'ignore', category = FutureWarning)\n",
    "from keras.optimizers import RMSprop\n",
    "from keras.callbacks import ModelCheckpoint, EarlyStopping\n",
    "from keras.models import model_from_json\n"
   ]
  },
  {
   "cell_type": "code",
   "execution_count": 67,
   "metadata": {},
   "outputs": [],
   "source": [
    "\n",
    "\n",
    "def add_hours_dam(df, start_hour, interval=48):\n",
    "    for i in range(start_hour, start_hour+interval):\n",
    "        start = str(i)\n",
    "        df[\"DAM LMP_PRC_\"+start+\"_hours_ago\"] = 0.0\n",
    "    for i in range(len(df)-1, interval-1, -1):\n",
    "        for j in range(start_hour, start_hour+interval):\n",
    "            start = str(j)\n",
    "            v = df['DAM LMP_PRC'].iloc[i-j,] \n",
    "            df.at[i, \"DAM LMP_PRC_\"+start+\"_hours_ago\"] =  v\n",
    "    return df\n",
    "\n",
    "\n",
    "def add_hours_rtm(df, start_hour, interval=48):\n",
    "    for rtm in range(1, 13):\n",
    "        for i in range(start_hour, start_hour+interval):\n",
    "            start = str(i)\n",
    "            df[\"RTM_\"+str(rtm) +\"_LMP_PRC_\"+start+\"_hours_ago\"] = 0.0\n",
    "        for i in range(len(df)-1, interval-1, -1):\n",
    "            for j in range(start_hour, start_hour+interval):\n",
    "                start = str(j)\n",
    "                v = df[('RTM LMP_PRC', rtm)].iloc[i-j,] \n",
    "                df.at[i, \"RTM_\"+str(rtm) +\"_LMP_PRC_\"+start+\"_hours_ago\"] =  v\n",
    "    return df\n",
    "\n",
    "def add_hours_gap(df, start_hour, interval=48):\n",
    "    for i in range(start_hour, start_hour+interval):\n",
    "        start = str(i)\n",
    "        df[\"GAP LMP_PRC_\"+start+\"_hours_ago\"] = 0.0\n",
    "    for i in range(len(df)-1, interval-1, -1):\n",
    "        for j in range(start_hour, start_hour+interval):\n",
    "            start = str(j)\n",
    "            v = df['Gap'].iloc[i-j,] \n",
    "            df.at[i, \"GAP LMP_PRC_\"+start+\"_hours_ago\"] =  v\n",
    "    return df"
   ]
  },
  {
   "cell_type": "code",
   "execution_count": 68,
   "metadata": {},
   "outputs": [],
   "source": [
    "from sklearn.metrics import mean_absolute_error\n",
    "\n",
    "def MAE(true, predicted):\n",
    "    return mean_absolute_error(true, predicted)\n",
    "\n",
    "def r_MAE(true, predicted):\n",
    "    return mean_absolute_error(true, predicted)/np.mean(true)\n",
    "\n",
    "def MSE(true, predicted):\n",
    "    squared_diff = np.square(true - predicted)\n",
    "    return np.mean(squared_diff)\n",
    "\n",
    "# Root Mean Square Error\n",
    "def RMSE(true, predicted):\n",
    "    squared_diff = np.square(true - predicted)    \n",
    "    return np.sqrt(np.mean(squared_diff))\n",
    "\n",
    "# R-squared, coefficient of determination\n",
    "def R_squared(true, predicted):\n",
    "    true      = np.array(true)\n",
    "    predicted = np.array(predicted)\n",
    "    sum_squared_diff = sum(np.square(true - predicted))\n",
    "    variance  = sum(np.square(true - np.mean(true)))\n",
    "    calc_r2   = 1 - (sum_squared_diff / variance)\n",
    "    return calc_r2\n",
    "\n",
    "def r_MSE(true, predicted):\n",
    "    mse = MSE(true, predicted)\n",
    "    return mse/np.mean(true)\n",
    "\n",
    "def r_RMSE(true, predicted):\n",
    "    rmse = RMSE(true, predicted)\n",
    "    return rmse/np.mean(true)\n",
    "\n",
    "\n",
    "def MAPE(true, predicted): \n",
    "    return np.mean(np.abs((true - predicted) / true)) * 100"
   ]
  },
  {
   "cell_type": "code",
   "execution_count": 69,
   "metadata": {},
   "outputs": [],
   "source": [
    "def Evaluate(Y_true, predictions):\n",
    "    print('MAE '+str(MAE(Y_true, predictions)))\n",
    "    print('RMSE '+str(RMSE(Y_true, predictions)))\n",
    "    print('rMAE '+str(r_MAE(Y_true, predictions)*100) +'%')\n",
    "    print('rRMSE '+str(r_RMSE(Y_true, predictions)*100)+'%')\n",
    "    print('MAPE '+str(MAPE(Y_true, predictions))+'%')"
   ]
  },
  {
   "cell_type": "code",
   "execution_count": null,
   "metadata": {},
   "outputs": [],
   "source": []
  },
  {
   "cell_type": "code",
   "execution_count": 139,
   "metadata": {},
   "outputs": [],
   "source": [
    "df = pd.read_pickle('df.pkl')\n",
    "df = df.reset_index(drop=True)\n",
    "df = add_hours_rtm(df, 12, 1)\n",
    "df = add_hours_dam(df, 1, 1)\n",
    "Y_cols = ['DAM LMP_PRC'] \n",
    "X_cols = [col for col in list(df) if col not in Y_cols+[\n",
    "('HASP LMP_CONG_PRC', 1),\n",
    "('HASP LMP_CONG_PRC', 2),\n",
    "('HASP LMP_CONG_PRC', 3),\n",
    "('HASP LMP_CONG_PRC', 4),\n",
    "('HASP LMP_ENE_PRC', 1),\n",
    "('HASP LMP_ENE_PRC', 2),\n",
    "('HASP LMP_ENE_PRC', 3),\n",
    "('HASP LMP_ENE_PRC', 4),\n",
    "('HASP LMP_GHG_PRC', 1),\n",
    "('HASP LMP_LOSS_PRC', 1),\n",
    "('HASP LMP_LOSS_PRC', 2),\n",
    "('HASP LMP_LOSS_PRC', 3),\n",
    "('HASP LMP_LOSS_PRC', 4),\n",
    "('HASP LMP_PRC', 1),\n",
    "('HASP LMP_PRC', 2),\n",
    "('HASP LMP_PRC', 3),\n",
    "('HASP LMP_PRC', 4),\n",
    "('RTM LMP_CONG_PRC', 1),\n",
    "('RTM LMP_CONG_PRC', 2),\n",
    "('RTM LMP_CONG_PRC', 3),\n",
    "('RTM LMP_CONG_PRC', 4),\n",
    "('RTM LMP_CONG_PRC', 5),\n",
    "('RTM LMP_CONG_PRC', 6),\n",
    "('RTM LMP_CONG_PRC', 7),\n",
    "('RTM LMP_CONG_PRC', 8),\n",
    "('RTM LMP_CONG_PRC', 9),\n",
    "('RTM LMP_CONG_PRC', 10),\n",
    "('RTM LMP_CONG_PRC', 11),\n",
    "('RTM LMP_CONG_PRC', 12),\n",
    "('RTM LMP_ENE_PRC', 1),\n",
    "('RTM LMP_ENE_PRC', 2),\n",
    "('RTM LMP_ENE_PRC', 3),\n",
    "('RTM LMP_ENE_PRC', 4),\n",
    "('RTM LMP_ENE_PRC', 5),\n",
    "('RTM LMP_ENE_PRC', 6),\n",
    "('RTM LMP_ENE_PRC', 7),\n",
    "('RTM LMP_ENE_PRC', 8),\n",
    "('RTM LMP_ENE_PRC', 9),\n",
    "('RTM LMP_ENE_PRC', 10),\n",
    "('RTM LMP_ENE_PRC', 11),\n",
    "('RTM LMP_ENE_PRC', 12),\n",
    "('RTM LMP_GHG_PRC', 1),\n",
    "('RTM LMP_GHG_PRC', 7),\n",
    "('RTM LMP_LOSS_PRC', 1),\n",
    "('RTM LMP_LOSS_PRC', 2),\n",
    "('RTM LMP_LOSS_PRC', 3),\n",
    "('RTM LMP_LOSS_PRC', 4),\n",
    "('RTM LMP_LOSS_PRC', 5),\n",
    "('RTM LMP_LOSS_PRC', 6),\n",
    "('RTM LMP_LOSS_PRC', 7),\n",
    "('RTM LMP_LOSS_PRC', 8),\n",
    "('RTM LMP_LOSS_PRC', 9),\n",
    "('RTM LMP_LOSS_PRC', 10),\n",
    "('RTM LMP_LOSS_PRC', 11),\n",
    "('RTM LMP_LOSS_PRC', 12),\n",
    "('RTM LMP_PRC', 1),\n",
    "('RTM LMP_PRC', 2),\n",
    "('RTM LMP_PRC', 3),\n",
    "('RTM LMP_PRC', 4),\n",
    "('RTM LMP_PRC', 5),\n",
    "('RTM LMP_PRC', 6),\n",
    "('RTM LMP_PRC', 7),\n",
    "('RTM LMP_PRC', 8),\n",
    "('RTM LMP_PRC', 9),\n",
    "('RTM LMP_PRC', 10),\n",
    "('RTM LMP_PRC', 11),\n",
    "('RTM LMP_PRC', 12),\n",
    "'DAM LMP_CONG_PRC',\n",
    "'DAM LMP_GHG_PRC',\n",
    "('HASP LMP_CONG_PRC', 1),\n",
    "('HASP LMP_CONG_PRC', 2),\n",
    "('HASP LMP_CONG_PRC', 3),\n",
    "('HASP LMP_CONG_PRC', 4),\n",
    "('HASP LMP_ENE_PRC', 1),\n",
    "('HASP LMP_ENE_PRC', 2),\n",
    "('HASP LMP_ENE_PRC', 3),\n",
    "('HASP LMP_ENE_PRC', 4),\n",
    "('HASP LMP_GHG_PRC', 1),\n",
    "('HASP LMP_LOSS_PRC', 1),\n",
    "('HASP LMP_LOSS_PRC', 2),\n",
    "('HASP LMP_LOSS_PRC', 3),\n",
    "('HASP LMP_LOSS_PRC', 4),\n",
    "('HASP LMP_PRC', 1),\n",
    "('HASP LMP_PRC', 2),\n",
    "('HASP LMP_PRC', 3),\n",
    "('HASP LMP_PRC', 4),\n",
    "('RTM LMP_CONG_PRC', 1),\n",
    "('RTM LMP_CONG_PRC', 2),\n",
    "('RTM LMP_CONG_PRC', 3),\n",
    "('RTM LMP_CONG_PRC', 4),\n",
    "('RTM LMP_CONG_PRC', 5),\n",
    "('RTM LMP_CONG_PRC', 6),\n",
    "('RTM LMP_CONG_PRC', 7),\n",
    "('RTM LMP_CONG_PRC', 8),\n",
    "('RTM LMP_CONG_PRC', 9),\n",
    "('RTM LMP_CONG_PRC', 10),\n",
    "('RTM LMP_CONG_PRC', 11),\n",
    "('RTM LMP_CONG_PRC', 12),\n",
    "('RTM LMP_GHG_PRC', 1),\n",
    "('RTM LMP_GHG_PRC', 7),\n",
    "'DAM LMP_ENE_PRC',\n",
    "'DAM LMP_LOSS_PRC',\n",
    "'Actual_Demand',\n",
    "('RTM LMP_PRC', 1),\n",
    "'DAM LMP_PRC',]]\n",
    "          \n",
    "Y = df[Y_cols]\n",
    "X = df[X_cols]\n",
    "\n",
    "X_train, X_test, Y_train, Y_test = train_test_split(X, Y, test_size=0.1, shuffle=False, random_state=42)\n",
    "ss1 = MinMaxScaler(feature_range=(0, 1))\n",
    "X_train = ss1.fit_transform(X_train)\n",
    "X_test = ss1.transform(X_test)\n",
    "ss2 = MinMaxScaler(feature_range=(0, 1))\n",
    "Y_train = ss2.fit_transform(Y_train)\n",
    "Y_test = ss2.transform(Y_test)"
   ]
  },
  {
   "cell_type": "code",
   "execution_count": 192,
   "metadata": {},
   "outputs": [],
   "source": [
    "lookback_length = 24*7\n",
    "batch_size = 1"
   ]
  },
  {
   "cell_type": "code",
   "execution_count": 193,
   "metadata": {},
   "outputs": [],
   "source": [
    "from keras.preprocessing.sequence import TimeseriesGenerator\n",
    "train_sequences  = TimeseriesGenerator(X_train,\n",
    "                                       Y_train,\n",
    "                                       length=lookback_length,\n",
    "                                       batch_size=batch_size)\n",
    "test_sequences = TimeseriesGenerator(X_test,\n",
    "                                     Y_test,\n",
    "                                     length=lookback_length,\n",
    "                                     batch_size=batch_size)"
   ]
  },
  {
   "cell_type": "code",
   "execution_count": 194,
   "metadata": {},
   "outputs": [],
   "source": [
    "features = len(list(X))"
   ]
  },
  {
   "cell_type": "code",
   "execution_count": 196,
   "metadata": {},
   "outputs": [
    {
     "name": "stdout",
     "output_type": "stream",
     "text": [
      "Epoch 1/10\n",
      "14741/14741 [==============================] - 1028s 70ms/step - loss: 7.3873e-04 - val_loss: 3.7475e-06\n",
      "Epoch 2/10\n",
      "14741/14741 [==============================] - 1052s 71ms/step - loss: 2.5014e-04 - val_loss: 1.4289e-05\n",
      "Epoch 3/10\n",
      "14741/14741 [==============================] - 1089s 74ms/step - loss: 2.3040e-04 - val_loss: 3.4939e-06\n",
      "Epoch 4/10\n",
      " 8926/14741 [=================>............] - ETA: 6:41 - loss: 2.1818e-0"
     ]
    },
    {
     "name": "stderr",
     "output_type": "stream",
     "text": [
      "IOPub message rate exceeded.\n",
      "The notebook server will temporarily stop sending output\n",
      "to the client in order to avoid crashing it.\n",
      "To change this limit, set the config variable\n",
      "`--NotebookApp.iopub_msg_rate_limit`.\n",
      "\n",
      "Current values:\n",
      "NotebookApp.iopub_msg_rate_limit=1000.0 (msgs/sec)\n",
      "NotebookApp.rate_limit_window=3.0 (secs)\n",
      "\n"
     ]
    },
    {
     "name": "stdout",
     "output_type": "stream",
     "text": [
      "14741/14741 [==============================] - 1060s 72ms/step - loss: 2.1968e-04 - val_loss: 7.3573e-06\n",
      "Epoch 6/10\n",
      "14741/14741 [==============================] - 1073s 73ms/step - loss: 2.1179e-04 - val_loss: 2.1233e-05\n",
      "Epoch 7/10\n",
      "14741/14741 [==============================] - 881s 60ms/step - loss: 2.0152e-04 - val_loss: 8.5495e-05\n",
      "Epoch 8/10\n",
      "14741/14741 [==============================] - 872s 59ms/step - loss: 2.0743e-04 - val_loss: 1.4163e-06\n",
      "Epoch 9/10\n",
      "14741/14741 [==============================] - 855s 58ms/step - loss: 2.0995e-04 - val_loss: 5.0260e-05\n",
      "Epoch 10/10\n",
      "14741/14741 [==============================] - 831s 56ms/step - loss: 2.1763e-04 - val_loss: 2.2125e-05\n"
     ]
    },
    {
     "data": {
      "text/plain": [
       "<keras.callbacks.callbacks.History at 0x17d06fe5108>"
      ]
     },
     "execution_count": 196,
     "metadata": {},
     "output_type": "execute_result"
    }
   ],
   "source": [
    "model = Sequential()\n",
    "\n",
    "model.add(LSTM(units=100, input_shape=(lookback_length, features)))\n",
    "# model.add(Dropout(0.2))\n",
    "model.add(Dense(units=1))\n",
    "model.compile(optimizer='rmsprop',loss='mean_squared_error')\n",
    "model.fit_generator(train_sequences, validation_data=test_sequences, epochs=10, verbose=1)"
   ]
  },
  {
   "cell_type": "code",
   "execution_count": 197,
   "metadata": {},
   "outputs": [],
   "source": [
    "scaled_predictions = model.predict_generator(test_sequences)"
   ]
  },
  {
   "cell_type": "code",
   "execution_count": 198,
   "metadata": {},
   "outputs": [],
   "source": [
    "predictions = ss2.inverse_transform(np.array(scaled_predictions).reshape(1, -1))"
   ]
  },
  {
   "cell_type": "code",
   "execution_count": 199,
   "metadata": {},
   "outputs": [],
   "source": [
    "temp = ss2.inverse_transform(Y_test)"
   ]
  },
  {
   "cell_type": "code",
   "execution_count": 200,
   "metadata": {},
   "outputs": [],
   "source": [
    "Y_true = []\n",
    "temp = ss2.inverse_transform(Y_test)\n",
    "for item in temp:\n",
    "    Y_true.append(item[0])"
   ]
  },
  {
   "cell_type": "code",
   "execution_count": 201,
   "metadata": {},
   "outputs": [
    {
     "name": "stdout",
     "output_type": "stream",
     "text": [
      "MAE 20.663387544341436\n",
      "RMSE 26.967736311255575\n"
     ]
    }
   ],
   "source": [
    "Evaluate(Y_true[:-lookback_length], predictions[0])"
   ]
  },
  {
   "cell_type": "code",
   "execution_count": 1,
   "metadata": {},
   "outputs": [
    {
     "ename": "NameError",
     "evalue": "name 'plt' is not defined",
     "output_type": "error",
     "traceback": [
      "\u001b[1;31m---------------------------------------------------------------------------\u001b[0m",
      "\u001b[1;31mNameError\u001b[0m                                 Traceback (most recent call last)",
      "\u001b[1;32m<ipython-input-1-af141fa83cac>\u001b[0m in \u001b[0;36m<module>\u001b[1;34m\u001b[0m\n\u001b[0;32m      5\u001b[0m \u001b[1;33m\u001b[0m\u001b[0m\n\u001b[0;32m      6\u001b[0m \u001b[1;33m\u001b[0m\u001b[0m\n\u001b[1;32m----> 7\u001b[1;33m \u001b[0mplt\u001b[0m\u001b[1;33m.\u001b[0m\u001b[0mfigure\u001b[0m\u001b[1;33m(\u001b[0m\u001b[0mfigsize\u001b[0m\u001b[1;33m=\u001b[0m\u001b[1;33m(\u001b[0m\u001b[1;36m15\u001b[0m\u001b[1;33m,\u001b[0m\u001b[1;36m8\u001b[0m\u001b[1;33m)\u001b[0m\u001b[1;33m)\u001b[0m\u001b[1;33m\u001b[0m\u001b[1;33m\u001b[0m\u001b[0m\n\u001b[0m\u001b[0;32m      8\u001b[0m \u001b[0mday\u001b[0m \u001b[1;33m=\u001b[0m \u001b[1;36m21\u001b[0m\u001b[1;33m\u001b[0m\u001b[1;33m\u001b[0m\u001b[0m\n\u001b[0;32m      9\u001b[0m plt.plot(Y_true[day*24+1:day*24+48],\n",
      "\u001b[1;31mNameError\u001b[0m: name 'plt' is not defined"
     ]
    }
   ],
   "source": [
    "import datetime\n",
    "from matplotlib.ticker import FuncFormatter\n",
    "import matplotlib.dates as mdates\n",
    "\n",
    "\n",
    "\n",
    "plt.figure(figsize=(15,8))\n",
    "day = 21\n",
    "plt.plot(Y_true[day*24+1:day*24+48],\n",
    "         label='test Y-true',\n",
    "         color='blue')\n",
    "plt.plot(predictions[0][day*24+1:day*24+48],\n",
    "         label='LSTM',\n",
    "         color='green',linestyle='dashed')\n",
    "\n",
    "# plt.plot(lasso_gap,\n",
    "#          label='Lasso',\n",
    "#          color='red',linestyle=':')\n",
    "plt.legend()\n",
    "plt.xlim(0,48)\n",
    "plt.title('DAM Predicitons vs Actual Values', fontsize=18)\n",
    "plt.xlabel('Hour')\n",
    "plt.ylabel('Price')\n",
    "# plt.savefig('../images/dam_RNN_12_test_pred_vs_true_zoomed.jpg', bbox_inches='tight')\n",
    "plt.show();"
   ]
  },
  {
   "cell_type": "code",
   "execution_count": 136,
   "metadata": {},
   "outputs": [],
   "source": [
    "from pandas import Series\n",
    "from pandas import DataFrame\n",
    "from pandas import Series\n",
    "from pandas import concat\n",
    "from pandas import read_csv\n",
    "from pandas import datetime\n",
    "from sklearn.metrics import mean_squared_error\n",
    "from sklearn.preprocessing import MinMaxScaler\n",
    "from keras.models import Sequential\n",
    "from keras.layers import Dense\n",
    "from keras.layers import LSTM\n",
    "from math import sqrt\n",
    "from matplotlib import pyplot\n",
    "df = pd.read_pickle('df.pkl')\n",
    "df = df.reset_index(drop=True)\n",
    "# transform data to be stationary\n",
    "raw_values = df.values\n",
    "diff_values = difference(raw_values, 1)"
   ]
  },
  {
   "cell_type": "code",
   "execution_count": 495,
   "metadata": {},
   "outputs": [],
   "source": [
    "\n",
    "# transform data to be supervised learning\n",
    "supervised = timeseries_to_supervised(diff_values, 1)\n",
    "supervised_values = supervised.values"
   ]
  },
  {
   "cell_type": "code",
   "execution_count": 510,
   "metadata": {},
   "outputs": [
    {
     "data": {
      "text/plain": [
       "(16565, 2)"
      ]
     },
     "execution_count": 510,
     "metadata": {},
     "output_type": "execute_result"
    }
   ],
   "source": [
    "supervised_values.shape"
   ]
  },
  {
   "cell_type": "code",
   "execution_count": 524,
   "metadata": {},
   "outputs": [],
   "source": [
    "import numpy as np # linear algebra\n",
    "from numpy import newaxis\n",
    "import pandas as pd # data processing, CSV file I/O (e.g. pd.read_csv)\n",
    "from keras.layers.core import Dense, Activation, Dropout\n",
    "from keras.layers.recurrent import LSTM, GRU\n",
    "from keras.models import Sequential\n",
    "from keras import optimizers\n",
    "from sklearn.preprocessing import MinMaxScaler\n",
    "import matplotlib.pyplot as plt\n",
    "plt.style.use('fivethirtyeight')"
   ]
  },
  {
   "cell_type": "code",
   "execution_count": 526,
   "metadata": {},
   "outputs": [
    {
     "name": "stdout",
     "output_type": "stream",
     "text": [
      "enrol window set to 100\n"
     ]
    }
   ],
   "source": [
    "Enrol_window = 100\n",
    "\n",
    "print ('enrol window set to',Enrol_window )"
   ]
  },
  {
   "cell_type": "code",
   "execution_count": 6,
   "metadata": {},
   "outputs": [
    {
     "name": "stdout",
     "output_type": "stream",
     "text": [
      "Support functions defined\n"
     ]
    }
   ],
   "source": [
    "\n",
    "def load_data(datasetname, column, seq_len, normalise_window):\n",
    "    # A support function to help prepare datasets for an RNN/LSTM/GRU\n",
    " # A support function to help prepare datasets for an RNN/LSTM/GRU\n",
    "    data = datasetname.loc[:,column]\n",
    "\n",
    "    sequence_length = seq_len + 1\n",
    "    result = []\n",
    "    for index in range(len(data) - sequence_length):\n",
    "        result.append(data[index: index + sequence_length])\n",
    "    \n",
    "#     if normalise_window:\n",
    "#         result = sc.fit_transform(result)\n",
    "#         result = normalise_windows(result)\n",
    "\n",
    "    result = np.array(result)\n",
    "\n",
    "    #Last 10% is used for validation test, first 90% for training\n",
    "    row = round(0.9 * result.shape[0])\n",
    "    train = result[:int(row), :]\n",
    "    np.random.shuffle(train)\n",
    "    x_train = train[:, :-1]\n",
    "    y_train = train[:, -1]\n",
    "    x_test = result[int(row):, :-1]\n",
    "    y_test = result[int(row):, -1]\n",
    "\n",
    "    x_train = np.reshape(x_train, (x_train.shape[0], x_train.shape[1], 1))\n",
    "    x_test = np.reshape(x_test, (x_test.shape[0], x_test.shape[1], 1))  \n",
    "\n",
    "    return [x_train, y_train, x_test, y_test]\n",
    "\n",
    "def normalise_windows(window_data):\n",
    "    # A support function to normalize a dataset\n",
    "    normalised_data = []\n",
    "    for window in window_data:\n",
    "        normalised_window = [((float(p) / float(window[0])) - 1) for p in window]\n",
    "        normalised_data.append(normalised_window)\n",
    "    return normalised_data\n",
    "\n",
    "def predict_sequence_full(model, data, window_size):\n",
    "    #Shift the window by 1 new prediction each time, re-run predictions on new window\n",
    "    curr_frame = data[0]\n",
    "    predicted = []\n",
    "    for i in range(len(data)):\n",
    "        predicted.append(model.predict(curr_frame[newaxis,:,:])[0,0])\n",
    "        curr_frame = curr_frame[1:]\n",
    "        curr_frame = np.insert(curr_frame, [window_size-1], predicted[-1], axis=0)\n",
    "    return predicted\n",
    "\n",
    "def predict_sequences_multiple(model, data, window_size, prediction_len):\n",
    "    #Predict sequence of <prediction_len> steps before shifting prediction run forward by <prediction_len> steps\n",
    "    prediction_seqs = []\n",
    "    for i in range(int(len(data)/prediction_len)):\n",
    "        curr_frame = data[i*prediction_len]\n",
    "        predicted = []\n",
    "        for j in range(prediction_len):\n",
    "            predicted.append(model.predict(curr_frame[newaxis,:,:])[0,0])\n",
    "            curr_frame = curr_frame[1:]\n",
    "            curr_frame = np.insert(curr_frame, [window_size-1], predicted[-1], axis=0)\n",
    "        prediction_seqs.append(predicted)\n",
    "    return prediction_seqs\n",
    "\n",
    "def plot_results(predicted_data, true_data): \n",
    "    fig = plt.figure(facecolor='white') \n",
    "    ax = fig.add_subplot(111) \n",
    "    ax.plot(true_data, label='True Data') \n",
    "    plt.plot(predicted_data, label='Prediction') \n",
    "    plt.legend() \n",
    "    plt.show() \n",
    "    \n",
    "def plot_results_multiple(predicted_data, true_data, prediction_len):\n",
    "    fig = plt.figure(facecolor='white')\n",
    "    ax = fig.add_subplot(111)\n",
    "    ax.plot(true_data, label='True Data')\n",
    "    #Pad the list of predictions to shift it in the graph to it's correct start\n",
    "    for i, data in enumerate(predicted_data):\n",
    "        padding = [None for p in range(i * prediction_len)]\n",
    "        plt.plot(padding + data, label='Prediction')\n",
    "        plt.legend()\n",
    "    plt.show()\n",
    "\n",
    "print ('Support functions defined')"
   ]
  },
  {
   "cell_type": "code",
   "execution_count": 7,
   "metadata": {},
   "outputs": [],
   "source": [
    "\n",
    "df = pd.read_pickle('df.pkl')\n",
    "df = df.reset_index(drop=True)\n",
    "df = df.drop([('HASP LMP_CONG_PRC', 1),\n",
    "('HASP LMP_CONG_PRC', 2),\n",
    "('HASP LMP_CONG_PRC', 3),\n",
    "('HASP LMP_CONG_PRC', 4),\n",
    "('HASP LMP_ENE_PRC', 1),\n",
    "('HASP LMP_ENE_PRC', 2),\n",
    "('HASP LMP_ENE_PRC', 3),\n",
    "('HASP LMP_ENE_PRC', 4),\n",
    "('HASP LMP_GHG_PRC', 1),\n",
    "('HASP LMP_LOSS_PRC', 1),\n",
    "('HASP LMP_LOSS_PRC', 2),\n",
    "('HASP LMP_LOSS_PRC', 3),\n",
    "('HASP LMP_LOSS_PRC', 4),\n",
    "('HASP LMP_PRC', 1),\n",
    "('HASP LMP_PRC', 2),\n",
    "('HASP LMP_PRC', 3),\n",
    "('HASP LMP_PRC', 4),\n",
    "('RTM LMP_CONG_PRC', 1),\n",
    "('RTM LMP_CONG_PRC', 2),\n",
    "('RTM LMP_CONG_PRC', 3),\n",
    "('RTM LMP_CONG_PRC', 4),\n",
    "('RTM LMP_CONG_PRC', 5),\n",
    "('RTM LMP_CONG_PRC', 6),\n",
    "('RTM LMP_CONG_PRC', 7),\n",
    "('RTM LMP_CONG_PRC', 8),\n",
    "('RTM LMP_CONG_PRC', 9),\n",
    "('RTM LMP_CONG_PRC', 10),\n",
    "('RTM LMP_CONG_PRC', 11),\n",
    "('RTM LMP_CONG_PRC', 12),\n",
    "('RTM LMP_ENE_PRC', 1),\n",
    "('RTM LMP_ENE_PRC', 2),\n",
    "('RTM LMP_ENE_PRC', 3),\n",
    "('RTM LMP_ENE_PRC', 4),\n",
    "('RTM LMP_ENE_PRC', 5),\n",
    "('RTM LMP_ENE_PRC', 6),\n",
    "('RTM LMP_ENE_PRC', 7),\n",
    "('RTM LMP_ENE_PRC', 8),\n",
    "('RTM LMP_ENE_PRC', 9),\n",
    "('RTM LMP_ENE_PRC', 10),\n",
    "('RTM LMP_ENE_PRC', 11),\n",
    "('RTM LMP_ENE_PRC', 12),\n",
    "('RTM LMP_GHG_PRC', 1),\n",
    "('RTM LMP_GHG_PRC', 7),\n",
    "('RTM LMP_LOSS_PRC', 1),\n",
    "('RTM LMP_LOSS_PRC', 2),\n",
    "('RTM LMP_LOSS_PRC', 3),\n",
    "('RTM LMP_LOSS_PRC', 4),\n",
    "('RTM LMP_LOSS_PRC', 5),\n",
    "('RTM LMP_LOSS_PRC', 6),\n",
    "('RTM LMP_LOSS_PRC', 7),\n",
    "('RTM LMP_LOSS_PRC', 8),\n",
    "('RTM LMP_LOSS_PRC', 9),\n",
    "('RTM LMP_LOSS_PRC', 10),\n",
    "('RTM LMP_LOSS_PRC', 11),\n",
    "('RTM LMP_LOSS_PRC', 12),\n",
    "('RTM LMP_PRC', 2),\n",
    "('RTM LMP_PRC', 3),\n",
    "('RTM LMP_PRC', 4),\n",
    "('RTM LMP_PRC', 5),\n",
    "('RTM LMP_PRC', 6),\n",
    "('RTM LMP_PRC', 7),\n",
    "('RTM LMP_PRC', 8),\n",
    "('RTM LMP_PRC', 9),\n",
    "('RTM LMP_PRC', 10),\n",
    "('RTM LMP_PRC', 11),\n",
    "('RTM LMP_PRC', 12),\n",
    "'DAM LMP_CONG_PRC',\n",
    "'DAM LMP_GHG_PRC',\n",
    "('HASP LMP_CONG_PRC', 1),\n",
    "('HASP LMP_CONG_PRC', 2),\n",
    "('HASP LMP_CONG_PRC', 3),\n",
    "('HASP LMP_CONG_PRC', 4),\n",
    "('HASP LMP_ENE_PRC', 1),\n",
    "('HASP LMP_ENE_PRC', 2),\n",
    "('HASP LMP_ENE_PRC', 3),\n",
    "('HASP LMP_ENE_PRC', 4),\n",
    "('HASP LMP_GHG_PRC', 1),\n",
    "('HASP LMP_LOSS_PRC', 1),\n",
    "('HASP LMP_LOSS_PRC', 2),\n",
    "('HASP LMP_LOSS_PRC', 3),\n",
    "('HASP LMP_LOSS_PRC', 4),\n",
    "('HASP LMP_PRC', 1),\n",
    "('HASP LMP_PRC', 2),\n",
    "('HASP LMP_PRC', 3),\n",
    "('HASP LMP_PRC', 4),\n",
    "('RTM LMP_CONG_PRC', 1),\n",
    "('RTM LMP_CONG_PRC', 2),\n",
    "('RTM LMP_CONG_PRC', 3),\n",
    "('RTM LMP_CONG_PRC', 4),\n",
    "('RTM LMP_CONG_PRC', 5),\n",
    "('RTM LMP_CONG_PRC', 6),\n",
    "('RTM LMP_CONG_PRC', 7),\n",
    "('RTM LMP_CONG_PRC', 8),\n",
    "('RTM LMP_CONG_PRC', 9),\n",
    "('RTM LMP_CONG_PRC', 10),\n",
    "('RTM LMP_CONG_PRC', 11),\n",
    "('RTM LMP_CONG_PRC', 12),\n",
    "('RTM LMP_GHG_PRC', 1),\n",
    "('RTM LMP_GHG_PRC', 7),\n",
    "'DAM LMP_ENE_PRC',\n",
    "'DAM LMP_LOSS_PRC',\n",
    "'Actual_Demand'], axis=1)\n",
    "df = df.drop([('RTM LMP_PRC', 1)], axis=1)"
   ]
  },
  {
   "cell_type": "code",
   "execution_count": 8,
   "metadata": {},
   "outputs": [
    {
     "data": {
      "text/plain": [
       "['hr_index',\n",
       " ('RT_Forecast_RTD', 1),\n",
       " ('RT_Forecast_RTD', 2),\n",
       " ('RT_Forecast_RTD', 3),\n",
       " ('RT_Forecast_RTD', 4),\n",
       " ('RT_Forecast_RTD', 5),\n",
       " ('RT_Forecast_RTD', 6),\n",
       " ('RT_Forecast_RTD', 7),\n",
       " ('RT_Forecast_RTD', 8),\n",
       " ('RT_Forecast_RTD', 9),\n",
       " ('RT_Forecast_RTD', 10),\n",
       " ('RT_Forecast_RTD', 11),\n",
       " ('RT_Forecast_RTD', 12),\n",
       " ('DAM RT_Forecast_RTPD', 1),\n",
       " ('DAM RT_Forecast_RTPD', 2),\n",
       " ('DAM RT_Forecast_RTPD', 3),\n",
       " ('DAM RT_Forecast_RTPD', 4),\n",
       " 'Demand_Forecast_7Day_Ahead',\n",
       " 'Demand_Forecast_2Day_Ahead',\n",
       " 'Demand_Forecast_Day_Ahead',\n",
       " 'altimeter_set_1',\n",
       " 'Temperature',\n",
       " 'dewpoint',\n",
       " 'humidity',\n",
       " 'relative_humidity_set_1',\n",
       " 'windspeed',\n",
       " 'Wind Direction',\n",
       " 'wind_gust_set_1',\n",
       " 'weather_cond_code_set_1',\n",
       " 'cloud_layer_3_code_set_1',\n",
       " 'precip_accum_one_hour_set_1',\n",
       " 'cloud_layer_1_code_set_1',\n",
       " 'cloud_layer_2_code_set_1',\n",
       " 'visibility_set_1',\n",
       " 'ceiling_set_1',\n",
       " 'wind_chill_set_1d',\n",
       " 'pressure',\n",
       " 'sea_level_pressure_set_1d',\n",
       " 'heat_index_set_1d',\n",
       " 'weather_condition_set_1d',\n",
       " 'precipitation',\n",
       " 'precipitation_6',\n",
       " 'Year',\n",
       " 'Month',\n",
       " 'Day',\n",
       " 'Hour',\n",
       " 'DHI',\n",
       " 'DNI',\n",
       " 'GHI',\n",
       " 'Clearsky DHI',\n",
       " 'Clearsky DNI',\n",
       " 'Clearsky GHI',\n",
       " 'Cloud Type',\n",
       " 'Fill Flag',\n",
       " 'Relative Humidity',\n",
       " 'Solar Zenith Angle',\n",
       " 'Precipitable Water',\n",
       " 'DAM LMP_PRC',\n",
       " 'IsWeekday',\n",
       " 'IsWeekend',\n",
       " 'IsHoliday']"
      ]
     },
     "execution_count": 8,
     "metadata": {},
     "output_type": "execute_result"
    }
   ],
   "source": [
    "list(df)"
   ]
  },
  {
   "cell_type": "code",
   "execution_count": 9,
   "metadata": {},
   "outputs": [],
   "source": [
    "feature_train, label_train, feature_test, label_test = load_data(df, 'DAM LMP_PRC', 24, True)"
   ]
  },
  {
   "cell_type": "code",
   "execution_count": null,
   "metadata": {},
   "outputs": [],
   "source": []
  },
  {
   "cell_type": "code",
   "execution_count": 10,
   "metadata": {},
   "outputs": [
    {
     "name": "stdout",
     "output_type": "stream",
     "text": [
      "model compiled\n"
     ]
    }
   ],
   "source": [
    "model = Sequential()\n",
    "model.add(LSTM(50, return_sequences=True, input_shape=(feature_train.shape[1],1)))\n",
    "model.add(Dropout(0.2))\n",
    "model.add(LSTM(100, return_sequences=False))\n",
    "model.add(Dropout(0.2))\n",
    "model.add(Dense(1, activation = \"linear\"))\n",
    "\n",
    "model.compile(loss='mse', optimizer='adam')\n",
    "\n",
    "print ('model compiled')"
   ]
  },
  {
   "cell_type": "code",
   "execution_count": 11,
   "metadata": {},
   "outputs": [
    {
     "name": "stdout",
     "output_type": "stream",
     "text": [
      "Train on 14887 samples, validate on 1654 samples\n",
      "Epoch 1/100\n",
      "14887/14887 [==============================] - 5s 352us/step - loss: 3414.7824 - val_loss: 2340.0999\n",
      "Epoch 2/100\n",
      "14887/14887 [==============================] - 4s 265us/step - loss: 2860.6190 - val_loss: 1888.0196\n",
      "Epoch 3/100\n",
      "14887/14887 [==============================] - 4s 258us/step - loss: 2687.1645 - val_loss: 1668.0226\n",
      "Epoch 4/100\n",
      "14887/14887 [==============================] - 4s 263us/step - loss: 2586.3298 - val_loss: 1496.1490\n",
      "Epoch 5/100\n",
      "14887/14887 [==============================] - 4s 261us/step - loss: 2509.6798 - val_loss: 1356.4570\n",
      "Epoch 6/100\n",
      "14887/14887 [==============================] - 4s 269us/step - loss: 2451.1213 - val_loss: 1246.1810\n",
      "Epoch 7/100\n",
      "14887/14887 [==============================] - 4s 258us/step - loss: 2375.4321 - val_loss: 1139.8488\n",
      "Epoch 8/100\n",
      "14887/14887 [==============================] - 4s 258us/step - loss: 2293.7631 - val_loss: 1034.8911\n",
      "Epoch 9/100\n",
      "14887/14887 [==============================] - 4s 257us/step - loss: 2234.8373 - val_loss: 938.5729\n",
      "Epoch 10/100\n",
      "14887/14887 [==============================] - 4s 260us/step - loss: 2190.4393 - val_loss: 855.4640\n",
      "Epoch 11/100\n",
      "14887/14887 [==============================] - 4s 258us/step - loss: 2153.1269 - val_loss: 787.5691\n",
      "Epoch 12/100\n",
      "14887/14887 [==============================] - 4s 257us/step - loss: 2120.1089 - val_loss: 727.9550\n",
      "Epoch 13/100\n",
      "14887/14887 [==============================] - 4s 257us/step - loss: 2086.2104 - val_loss: 671.5213\n",
      "Epoch 14/100\n",
      "14887/14887 [==============================] - 4s 266us/step - loss: 2060.1164 - val_loss: 623.8867\n",
      "Epoch 15/100\n",
      "14887/14887 [==============================] - 4s 257us/step - loss: 2037.7139 - val_loss: 580.8875\n",
      "Epoch 16/100\n",
      "14887/14887 [==============================] - 4s 260us/step - loss: 2015.5544 - val_loss: 542.0471\n",
      "Epoch 17/100\n",
      "14887/14887 [==============================] - 4s 262us/step - loss: 1990.5835 - val_loss: 502.3100\n",
      "Epoch 18/100\n",
      "14887/14887 [==============================] - 4s 260us/step - loss: 1967.7190 - val_loss: 473.8573\n",
      "Epoch 19/100\n",
      "14887/14887 [==============================] - 4s 262us/step - loss: 1948.0015 - val_loss: 440.0366\n",
      "Epoch 20/100\n",
      "14887/14887 [==============================] - 4s 257us/step - loss: 1930.0956 - val_loss: 415.6165\n",
      "Epoch 21/100\n",
      "14887/14887 [==============================] - 4s 258us/step - loss: 1913.2515 - val_loss: 387.7591\n",
      "Epoch 22/100\n",
      "14887/14887 [==============================] - 4s 261us/step - loss: 1895.2893 - val_loss: 366.7159\n",
      "Epoch 23/100\n",
      "14887/14887 [==============================] - 4s 259us/step - loss: 1881.5221 - val_loss: 345.5417\n",
      "Epoch 24/100\n",
      "14887/14887 [==============================] - 4s 261us/step - loss: 1867.0507 - val_loss: 325.0685\n",
      "Epoch 25/100\n",
      "14887/14887 [==============================] - 4s 258us/step - loss: 1852.0640 - val_loss: 309.2584\n",
      "Epoch 26/100\n",
      "14887/14887 [==============================] - 4s 260us/step - loss: 1834.4578 - val_loss: 292.8300\n",
      "Epoch 27/100\n",
      "14887/14887 [==============================] - 4s 258us/step - loss: 1822.8875 - val_loss: 280.9248\n",
      "Epoch 28/100\n",
      "14887/14887 [==============================] - 4s 262us/step - loss: 1810.0508 - val_loss: 263.0979\n",
      "Epoch 29/100\n",
      "14887/14887 [==============================] - 4s 267us/step - loss: 1799.3245 - val_loss: 248.1562\n",
      "Epoch 30/100\n",
      "14887/14887 [==============================] - 4s 257us/step - loss: 1789.7355 - val_loss: 235.3471\n",
      "Epoch 31/100\n",
      "14887/14887 [==============================] - 4s 260us/step - loss: 1767.4962 - val_loss: 225.5677\n",
      "Epoch 32/100\n",
      "14887/14887 [==============================] - 4s 255us/step - loss: 1764.9264 - val_loss: 216.0210\n",
      "Epoch 33/100\n",
      "14887/14887 [==============================] - 4s 249us/step - loss: 1753.8389 - val_loss: 207.6380\n",
      "Epoch 34/100\n",
      "14887/14887 [==============================] - 4s 246us/step - loss: 1738.6493 - val_loss: 199.2749\n",
      "Epoch 35/100\n",
      "14887/14887 [==============================] - 4s 249us/step - loss: 1731.6232 - val_loss: 190.9017\n",
      "Epoch 36/100\n",
      "14887/14887 [==============================] - 4s 246us/step - loss: 1721.2106 - val_loss: 189.8531\n",
      "Epoch 37/100\n",
      "14887/14887 [==============================] - 4s 246us/step - loss: 1711.4185 - val_loss: 184.7410\n",
      "Epoch 38/100\n",
      "14887/14887 [==============================] - 4s 246us/step - loss: 1704.8689 - val_loss: 169.1932\n",
      "Epoch 39/100\n",
      "14887/14887 [==============================] - 4s 249us/step - loss: 1694.6537 - val_loss: 160.0840\n",
      "Epoch 40/100\n",
      "14887/14887 [==============================] - 4s 253us/step - loss: 1688.0537 - val_loss: 155.3745\n",
      "Epoch 41/100\n",
      "14887/14887 [==============================] - 4s 247us/step - loss: 1670.4295 - val_loss: 149.6464\n",
      "Epoch 42/100\n",
      "14887/14887 [==============================] - 4s 246us/step - loss: 1665.9595 - val_loss: 143.0998\n",
      "Epoch 43/100\n",
      "14887/14887 [==============================] - 4s 239us/step - loss: 1652.1954 - val_loss: 138.0680\n",
      "Epoch 44/100\n",
      "14887/14887 [==============================] - 4s 236us/step - loss: 1652.0507 - val_loss: 135.1252\n",
      "Epoch 45/100\n",
      "14887/14887 [==============================] - 3s 233us/step - loss: 1638.6894 - val_loss: 131.0859\n",
      "Epoch 46/100\n",
      "14887/14887 [==============================] - 3s 233us/step - loss: 1629.6045 - val_loss: 128.3269\n",
      "Epoch 47/100\n",
      "14887/14887 [==============================] - 3s 232us/step - loss: 1618.4767 - val_loss: 126.8322\n",
      "Epoch 48/100\n",
      "14887/14887 [==============================] - 4s 240us/step - loss: 1617.3141 - val_loss: 117.4178\n",
      "Epoch 49/100\n",
      "14887/14887 [==============================] - 4s 235us/step - loss: 1606.7929 - val_loss: 121.7285\n",
      "Epoch 50/100\n",
      "14887/14887 [==============================] - 3s 235us/step - loss: 1600.3506 - val_loss: 118.9002\n",
      "Epoch 51/100\n",
      "14887/14887 [==============================] - 4s 238us/step - loss: 1589.5721 - val_loss: 112.5387\n",
      "Epoch 52/100\n",
      "14887/14887 [==============================] - 4s 236us/step - loss: 1584.4206 - val_loss: 106.5158\n",
      "Epoch 53/100\n",
      "14887/14887 [==============================] - 4s 237us/step - loss: 1572.9945 - val_loss: 107.4881\n",
      "Epoch 54/100\n",
      "14887/14887 [==============================] - 4s 239us/step - loss: 1568.6879 - val_loss: 104.6746\n",
      "Epoch 55/100\n",
      "14887/14887 [==============================] - 3s 234us/step - loss: 1562.5340 - val_loss: 105.0373\n",
      "Epoch 56/100\n",
      "14887/14887 [==============================] - 3s 234us/step - loss: 1555.0215 - val_loss: 111.6275\n",
      "Epoch 57/100\n",
      "14887/14887 [==============================] - 4s 237us/step - loss: 1552.6992 - val_loss: 100.6330\n",
      "Epoch 58/100\n",
      "14887/14887 [==============================] - 4s 238us/step - loss: 1540.1683 - val_loss: 103.3316\n",
      "Epoch 59/100\n",
      "14887/14887 [==============================] - 4s 236us/step - loss: 1537.9520 - val_loss: 97.2628\n",
      "Epoch 60/100\n",
      "14887/14887 [==============================] - 4s 237us/step - loss: 1531.0962 - val_loss: 91.1766\n",
      "Epoch 61/100\n",
      "14887/14887 [==============================] - 3s 233us/step - loss: 1521.7813 - val_loss: 90.7544\n",
      "Epoch 62/100\n",
      "14887/14887 [==============================] - 3s 233us/step - loss: 1511.0104 - val_loss: 105.9265\n",
      "Epoch 63/100\n",
      "14887/14887 [==============================] - 3s 233us/step - loss: 1505.1764 - val_loss: 88.2602\n",
      "Epoch 64/100\n",
      "14887/14887 [==============================] - 3s 233us/step - loss: 1497.5963 - val_loss: 102.6980\n",
      "Epoch 65/100\n",
      "14887/14887 [==============================] - 4s 238us/step - loss: 1486.7783 - val_loss: 90.2697\n",
      "Epoch 66/100\n",
      "14887/14887 [==============================] - 4s 241us/step - loss: 1484.3152 - val_loss: 86.1446\n",
      "Epoch 67/100\n",
      "14887/14887 [==============================] - 4s 236us/step - loss: 1483.0441 - val_loss: 82.3630\n",
      "Epoch 68/100\n",
      "14887/14887 [==============================] - 3s 235us/step - loss: 1470.6411 - val_loss: 81.8621\n",
      "Epoch 69/100\n",
      "14887/14887 [==============================] - 4s 236us/step - loss: 1464.1750 - val_loss: 81.7035\n",
      "Epoch 70/100\n",
      "14887/14887 [==============================] - 4s 237us/step - loss: 1459.2852 - val_loss: 79.9390\n",
      "Epoch 71/100\n",
      "14887/14887 [==============================] - 4s 242us/step - loss: 1450.4426 - val_loss: 89.8383\n",
      "Epoch 72/100\n",
      "14887/14887 [==============================] - 3s 234us/step - loss: 1443.3778 - val_loss: 81.5589\n",
      "Epoch 73/100\n",
      "14887/14887 [==============================] - 3s 232us/step - loss: 1444.1329 - val_loss: 74.7771\n",
      "Epoch 74/100\n",
      "14887/14887 [==============================] - 3s 235us/step - loss: 1440.1335 - val_loss: 84.7777\n",
      "Epoch 75/100\n",
      "14887/14887 [==============================] - 4s 240us/step - loss: 1428.4780 - val_loss: 79.8707\n",
      "Epoch 76/100\n",
      "14887/14887 [==============================] - 4s 236us/step - loss: 1422.4039 - val_loss: 80.1689\n",
      "Epoch 77/100\n",
      "14887/14887 [==============================] - 3s 233us/step - loss: 1422.9887 - val_loss: 76.3069\n",
      "Epoch 78/100\n",
      "14887/14887 [==============================] - 3s 233us/step - loss: 1401.2455 - val_loss: 73.7281\n",
      "Epoch 79/100\n",
      "14887/14887 [==============================] - 4s 235us/step - loss: 1403.2628 - val_loss: 73.7091\n",
      "Epoch 80/100\n",
      "14887/14887 [==============================] - 4s 239us/step - loss: 1397.2565 - val_loss: 72.0001\n",
      "Epoch 81/100\n",
      "14887/14887 [==============================] - 3s 235us/step - loss: 1392.1567 - val_loss: 89.1161\n",
      "Epoch 82/100\n",
      "14887/14887 [==============================] - 4s 235us/step - loss: 1388.2035 - val_loss: 82.3727\n",
      "Epoch 83/100\n",
      "14887/14887 [==============================] - 4s 236us/step - loss: 1378.7110 - val_loss: 80.9137\n",
      "Epoch 84/100\n",
      "14887/14887 [==============================] - 3s 233us/step - loss: 1378.4994 - val_loss: 76.3076\n",
      "Epoch 85/100\n",
      "14887/14887 [==============================] - 3s 235us/step - loss: 1369.5910 - val_loss: 74.1225\n",
      "Epoch 86/100\n",
      "14887/14887 [==============================] - 3s 231us/step - loss: 1363.2509 - val_loss: 74.2957\n",
      "Epoch 87/100\n",
      "14887/14887 [==============================] - 4s 237us/step - loss: 1354.6475 - val_loss: 72.6083\n",
      "Epoch 88/100\n",
      "14887/14887 [==============================] - 3s 233us/step - loss: 1343.6966 - val_loss: 75.6891\n",
      "Epoch 89/100\n",
      "14887/14887 [==============================] - 3s 235us/step - loss: 1354.4097 - val_loss: 77.2784\n",
      "Epoch 90/100\n",
      "14887/14887 [==============================] - 3s 235us/step - loss: 1344.4171 - val_loss: 71.5434\n",
      "Epoch 91/100\n",
      "14887/14887 [==============================] - 3s 232us/step - loss: 1329.7061 - val_loss: 74.0611\n",
      "Epoch 92/100\n",
      "14887/14887 [==============================] - 4s 237us/step - loss: 1330.3125 - val_loss: 70.7219\n",
      "Epoch 93/100\n",
      "14887/14887 [==============================] - 4s 237us/step - loss: 1323.7362 - val_loss: 76.6331\n",
      "Epoch 94/100\n",
      "14887/14887 [==============================] - 4s 241us/step - loss: 1319.9129 - val_loss: 73.3283\n",
      "Epoch 95/100\n",
      "14887/14887 [==============================] - 4s 237us/step - loss: 1310.4560 - val_loss: 71.9025\n",
      "Epoch 96/100\n",
      "14887/14887 [==============================] - 3s 233us/step - loss: 1309.6277 - val_loss: 74.1616\n",
      "Epoch 97/100\n",
      "14887/14887 [==============================] - 3s 233us/step - loss: 1309.4531 - val_loss: 70.2702\n",
      "Epoch 98/100\n",
      "14887/14887 [==============================] - 3s 235us/step - loss: 1307.0918 - val_loss: 76.1227\n",
      "Epoch 99/100\n",
      "14887/14887 [==============================] - 3s 233us/step - loss: 1295.3031 - val_loss: 71.6711\n",
      "Epoch 100/100\n",
      "14887/14887 [==============================] - 3s 232us/step - loss: 1279.6601 - val_loss: 75.9378\n"
     ]
    },
    {
     "data": {
      "text/plain": [
       "<keras.callbacks.callbacks.History at 0x17d70eb8288>"
      ]
     },
     "execution_count": 11,
     "metadata": {},
     "output_type": "execute_result"
    }
   ],
   "source": [
    "model.fit(feature_train, label_train, batch_size=512, epochs=100, validation_data = (feature_test, label_test))"
   ]
  },
  {
   "cell_type": "code",
   "execution_count": 31,
   "metadata": {},
   "outputs": [
    {
     "data": {
      "image/png": "[encoded data removed]",
      "text/plain": [
       "<Figure size 432x288 with 1 Axes>"
      ]
     },
     "metadata": {},
     "output_type": "display_data"
    }
   ],
   "source": [
    "dam_lstm = model.predict(feature_test)\n",
    "plot_results(predicted_stock_price,label_test)"
   ]
  },
  {
   "cell_type": "code",
   "execution_count": 64,
   "metadata": {},
   "outputs": [
    {
     "name": "stdout",
     "output_type": "stream",
     "text": [
      "MAE 5.156900474689165\n",
      "RMSE 33.573485299012596\n"
     ]
    }
   ],
   "source": [
    "Evaluate(label_test,dam_lstm)"
   ]
  },
  {
   "cell_type": "code",
   "execution_count": 65,
   "metadata": {},
   "outputs": [
    {
     "data": {
      "image/png": "[encoded data removed]",
      "text/plain": [
       "<Figure size 1080x576 with 1 Axes>"
      ]
     },
     "metadata": {
      "needs_background": "light"
     },
     "output_type": "display_data"
    }
   ],
   "source": [
    "\n",
    "plt.figure(figsize=(15,8))\n",
    "day = 25\n",
    "plt.plot(label_test[day*24+1:day*24+24],\n",
    "         label='test y-true',\n",
    "         alpha = 0.8,\n",
    "         color='grey')\n",
    "plt.plot(dam_lstm[day*24+1:day*24+24],\n",
    "         label='test predictions',\n",
    "         alpha = 0.5,\n",
    "         color='goldenrod')\n",
    "plt.legend()\n",
    "plt.xlim(0, 24)\n",
    "plt.title('LSTM DAM Test: preds vs true', fontsize=18)\n",
    "# plt.savefig('../images/dam_RNN_12_test_pred_vs_true_zoomed.jpg', bbox_inches='tight')\n",
    "plt.show();"
   ]
  },
  {
   "cell_type": "code",
   "execution_count": 666,
   "metadata": {},
   "outputs": [
    {
     "name": "stdout",
     "output_type": "stream",
     "text": [
      "MAE 5.562831420021426\n",
      "RMSE 32.783820963822635\n"
     ]
    }
   ],
   "source": [
    "Evaluate(label_test, predicted_stock_price)"
   ]
  },
  {
   "cell_type": "code",
   "execution_count": 667,
   "metadata": {},
   "outputs": [
    {
     "name": "stdout",
     "output_type": "stream",
     "text": [
      "rMAE 10.316861726477427%\n",
      "rRMSE 60.80107812219973%\n",
      "MAPE 57.1781482664834%\n"
     ]
    }
   ],
   "source": [
    "Evaluate_Scaled(label_test, predicted_stock_price)"
   ]
  },
  {
   "cell_type": "code",
   "execution_count": null,
   "metadata": {},
   "outputs": [],
   "source": [
    "def load_data(datasetname, column, seq_len, normalise_window):\n",
    "    # A support function to help prepare datasets for an RNN/LSTM/GRU\n",
    " # A support function to help prepare datasets for an RNN/LSTM/GRU\n",
    "    data = datasetname.loc[:,column]\n",
    "\n",
    "    sequence_length = seq_len + 1\n",
    "    result = []\n",
    "    for index in range(len(data) - sequence_length):\n",
    "        result.append(data[index: index + sequence_length])\n",
    "    \n",
    "#     if normalise_window:\n",
    "#         result = sc.fit_transform(result)\n",
    "#         result = normalise_windows(result)\n",
    "\n",
    "    result = np.array(result)\n",
    "\n",
    "    #Last 10% is used for validation test, first 90% for training\n",
    "    row = round(0.9 * result.shape[0])\n",
    "    train = result[:int(row), :]\n",
    "    np.random.shuffle(train)\n",
    "    x_train = train[:, :-1]\n",
    "    y_train = train[:, -1]\n",
    "    x_test = result[int(row):, :-1]\n",
    "    y_test = result[int(row):, -1]\n",
    "\n",
    "    x_train = np.reshape(x_train, (x_train.shape[0], x_train.shape[1], 1))\n",
    "    x_test = np.reshape(x_test, (x_test.shape[0], x_test.shape[1], 1))  \n",
    "\n",
    "    return [x_train, y_train, x_test, y_test]"
   ]
  },
  {
   "cell_type": "code",
   "execution_count": null,
   "metadata": {},
   "outputs": [],
   "source": [
    "data[index: index + sequence_length]"
   ]
  }
 ],
 "metadata": {
  "kernelspec": {
   "display_name": "Python 3",
   "language": "python",
   "name": "python3"
  },
  "language_info": {
   "codemirror_mode": {
    "name": "ipython",
    "version": 3
   },
   "file_extension": ".py",
   "mimetype": "text/x-python",
   "name": "python",
   "nbconvert_exporter": "python",
   "pygments_lexer": "ipython3",
   "version": "3.7.4"
  }
 },
 "nbformat": 4,
 "nbformat_minor": 4
}
